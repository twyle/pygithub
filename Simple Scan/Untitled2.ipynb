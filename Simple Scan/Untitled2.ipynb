{
 "cells": [
  {
   "cell_type": "code",
   "execution_count": null,
   "id": "ff4f5df5",
   "metadata": {},
   "outputs": [],
   "source": [
    "\"\"\"\n",
    "PROJECT ONE (Title)\n",
    "-----------\n",
    "\n",
    "Introduction\n",
    "------------\n",
    "This is a simple project that requires the student to create a siple repo, a project \n",
    "folder and then a python file with a single function that generates two randomnumbers\n",
    ".\n",
    "\n",
    "Outcomes\n",
    "--------\n",
    "This project tests your ability to work with github. This includes creating a repo and \n",
    "pushing files to the repo.\n",
    "It also tests your ability to work with Ubuntu. You may need to install Pythonas well \n",
    "as pip, the python package manager.\n",
    "It also tests your ability to work with python packages, in this case Random as well as\n",
    " create functions.\n",
    "\n",
    "By the end of this poject you should be able to create a repository on GitHub, create \n",
    "a python file with a funtion and push your code to GitHub.\n",
    "\n",
    "Resources\n",
    "---------\n",
    "The Random module\n",
    "https://www.geeksforgeeks.org/python-random-module/\n",
    "https://docs.python.org/3/library/random.html\n",
    "https://www.w3schools.com/python/module_random.asp\n",
    "\n",
    "Introduction to git, github\n",
    "\n",
    "Instructions\n",
    "------------\n",
    "Use Python3.10 for the tasks\n",
    "Use Ubuntu 22.04\n",
    "You must have a github account\n",
    "\n",
    "1. Task One\n",
    "    1. Create a repo called SimpleScan on GitHub\n",
    "        1. No README, No Description\n",
    "        2. Include licence (MIT)\n",
    "        3. No gitignore\n",
    "    2. Checks\n",
    "        1. Repo called SimpleScan created\n",
    "        2. License present (MIT)\n",
    "        3. No README\n",
    "        4. No Description\n",
    "        5. No gitignore\n",
    "    3. Run check    \n",
    "\"\"\""
   ]
  },
  {
   "cell_type": "code",
   "execution_count": 1,
   "id": "a65edc83",
   "metadata": {},
   "outputs": [
    {
     "data": {
      "text/plain": [
       "True"
      ]
     },
     "execution_count": 1,
     "metadata": {},
     "output_type": "execute_result"
    }
   ],
   "source": [
    "from enum import Enum\n",
    "from dataclasses import dataclass\n",
    "import random\n",
    "import os\n",
    "\n",
    "from github import Github\n",
    "from dotenv import load_dotenv\n",
    "import os\n",
    "from github.GithubException import UnknownObjectException, GithubException\n",
    "load_dotenv()"
   ]
  },
  {
   "cell_type": "code",
   "execution_count": 2,
   "id": "a5d2197e",
   "metadata": {},
   "outputs": [],
   "source": [
    "github_api_key = os.environ['GITHUB_API_KEY']"
   ]
  },
  {
   "cell_type": "code",
   "execution_count": 3,
   "id": "08943fef",
   "metadata": {},
   "outputs": [],
   "source": [
    "# using an access token\n",
    "github = Github(github_api_key)"
   ]
  },
  {
   "cell_type": "code",
   "execution_count": 100,
   "id": "c89f56b1",
   "metadata": {},
   "outputs": [],
   "source": [
    "class User:\n",
    "    def __init__(self, username: str, email: str):\n",
    "        self.__username = username\n",
    "        self.__email = email\n",
    "        \n",
    "    def get_username(self):\n",
    "        return self.__username\n",
    "    \n",
    "    def get_email(self):\n",
    "        return self.__email"
   ]
  },
  {
   "cell_type": "code",
   "execution_count": 7,
   "id": "e207af08",
   "metadata": {},
   "outputs": [],
   "source": [
    "class ResourceType(Enum):\n",
    "    \"\"\"This class identifies different types of learning resources.\"\"\"\n",
    "    YOUTUBE_VIDEO = 'YouTube Video'\n",
    "    ARTICLE = 'Article'"
   ]
  },
  {
   "cell_type": "code",
   "execution_count": 8,
   "id": "6eaa39b0",
   "metadata": {},
   "outputs": [],
   "source": [
    "class Resource:\n",
    "    def __init__(self, name: str, description: str, resource_type: ResourceType, \n",
    "                resource_url: str):\n",
    "        self.__resource_name = name\n",
    "        self.__resource_description = description\n",
    "        self.__resource_type = resource_type\n",
    "        self.__resource_url = resource_url   "
   ]
  },
  {
   "cell_type": "code",
   "execution_count": 9,
   "id": "27baebfc",
   "metadata": {},
   "outputs": [],
   "source": [
    "class Instruction:\n",
    "    def __init__(self, text: str):\n",
    "        self.__text = text"
   ]
  },
  {
   "cell_type": "code",
   "execution_count": 12,
   "id": "359febb5",
   "metadata": {},
   "outputs": [],
   "source": [
    "class Outcome:\n",
    "    \"\"\"This class dscribes a single outcome.\n",
    "    \n",
    "    An outcome is what the learner is expected to be able to accomplish after the task or project. An example \n",
    "    is 'Create a Repository on GitHub.'.\n",
    "    \"\"\"\n",
    "    def __init__(self, text: str):\n",
    "        self.__text = text\n",
    "        \n",
    "class ProjectOutcome(Outcome):\n",
    "    pass\n",
    "\n",
    "class TaskOutcome(Outcome):\n",
    "    pass"
   ]
  },
  {
   "cell_type": "code",
   "execution_count": 13,
   "id": "026f3289",
   "metadata": {},
   "outputs": [],
   "source": [
    "class OutPut:\n",
    "    pass\n",
    "\n",
    "class ProjectOutput(OutPut):\n",
    "    pass\n",
    "\n",
    "class TaskOutput(OutPut):\n",
    "    def __init__(self):\n",
    "        self.__output_repo = None\n",
    "        self.__project_folder = None\n",
    "        self.__output_files = None\n",
    "        \n",
    "    def __get_project_repo(self, project):\n",
    "        self.__output_repo = project.get_project_repo()\n",
    "    \n",
    "    def __get_project_folder(self, project):\n",
    "        self.__project_folder = project.get_project_folder()\n",
    "        \n",
    "    def create_output_files(self, output_files: list[str], project=None):\n",
    "        if project:\n",
    "            self.__get_project_repo(project)\n",
    "            self.__get_project_folder(project)\n",
    "            self.__output_files = [os.path.join(self.__output_repo, self.__project_folder, output_file)\n",
    "                                  for output_file in output_files]\n",
    "        else:\n",
    "            self.__output_files = output_files\n",
    "        \n",
    "    def get_output_files(self):\n",
    "        return self.__output_files"
   ]
  },
  {
   "cell_type": "code",
   "execution_count": 19,
   "id": "a106fc35",
   "metadata": {},
   "outputs": [],
   "source": [
    "def create_task_output(output_files: list[str], project=None):\n",
    "    task_one_outputs = TaskOutput()\n",
    "    task_one_outputs.create_output_files(output_files, project)\n",
    "    return task_one_outputs "
   ]
  },
  {
   "cell_type": "code",
   "execution_count": 14,
   "id": "1922390f",
   "metadata": {},
   "outputs": [],
   "source": [
    "class Task:\n",
    "    def __init__(\n",
    "        self,\n",
    "        project_id: int,\n",
    "        task_title: str,\n",
    "        task_description: str,\n",
    "        task_resources: list[Resource],\n",
    "        task_instructions: list[Instruction]\n",
    "    ):\n",
    "        self.__project_id = project_id\n",
    "        self.__task_title = task_title\n",
    "        self.__task_description = task_description\n",
    "        self.__task_resources = task_resources\n",
    "        self.__task_instructions = task_instructions\n",
    "        self.__task_outputs = None\n",
    "        \n",
    "    def get_instructions(self):\n",
    "        return self.__project_instructions\n",
    "\n",
    "    def add_instruction(self, instruction: Instruction):\n",
    "        pass\n",
    "    \n",
    "    def delete_instruction(self, instruction: Instruction):\n",
    "        pass\n",
    "\n",
    "    def create_outputs(self, outputs: TaskOutput):\n",
    "        self.__task_outputs = outputs\n",
    "    \n",
    "    def add_output(self):\n",
    "        pass\n",
    "    \n",
    "    def delete_output(self):\n",
    "        pass\n",
    "    \n",
    "    def get_outputs(self):\n",
    "        return self.__task_outputs.get_output_files()\n",
    "    \n",
    "    def create_resource(self):\n",
    "        pass\n",
    "    \n",
    "    def add_resource(self):\n",
    "        pass\n",
    "    \n",
    "    def delete_resource(self):\n",
    "        pass\n",
    "\n",
    "    def get_resources(self):\n",
    "        pass\n",
    "    \n",
    "    def create_checks(self, checks):\n",
    "        pass\n",
    "    \n",
    "    def get_checks(self):\n",
    "        pass"
   ]
  },
  {
   "cell_type": "code",
   "execution_count": 15,
   "id": "2bbdbfa7",
   "metadata": {},
   "outputs": [],
   "source": [
    "class Project:\n",
    "    def __init__(\n",
    "        self,\n",
    "        project_title: str,\n",
    "        project_description: str,\n",
    "        project_outcomes: list[ProjectOutcome],\n",
    "        project_resources: list[Resource],\n",
    "        project_instructions: list[Instruction],\n",
    "        project_repo: str,\n",
    "        project_folder: str\n",
    "    ):\n",
    "        self.__project_title = project_title\n",
    "        self.__project_description = project_description\n",
    "        self.__project_outcomes = project_outcomes\n",
    "        self.__project_resources = project_resources\n",
    "        self.__project_instructions = project_instructions\n",
    "        self.__project_repo = project_repo\n",
    "        self.__project_folder = project_folder\n",
    "        self.__project_tasks = None\n",
    "        \n",
    "    def get_project_folder(self):\n",
    "        return self.__project_folder\n",
    "    \n",
    "    def get_project_repo(self):\n",
    "        return self.__project_repo\n",
    "        \n",
    "    def get_instructions(self):\n",
    "        return self.__project_instructions\n",
    "\n",
    "    def add_instruction(self, instruction: Instruction):\n",
    "        pass\n",
    "    \n",
    "    def delete_instruction(self, instruction: Instruction):\n",
    "        pass\n",
    "\n",
    "    def create_outputs(self):\n",
    "        pass\n",
    "    \n",
    "    def add_output(self):\n",
    "        pass\n",
    "    \n",
    "    def delete_output(self):\n",
    "        pass\n",
    "    \n",
    "    def get_outputs(self):\n",
    "        pass\n",
    "    \n",
    "    def create_resource(self):\n",
    "        pass\n",
    "    \n",
    "    def add_resource(self):\n",
    "        pass\n",
    "    \n",
    "    def delete_resource(self):\n",
    "        pass\n",
    "\n",
    "    def get_resources(self):\n",
    "        pass\n",
    "    \n",
    "    def get_outcomes(self):\n",
    "        return self.__project_outcomes\n",
    "\n",
    "    def add_outcome(self, outcome: ProjectOutcome):\n",
    "        pass\n",
    "    \n",
    "    def delete_outcome(self, outcome: ProjectOutcome):\n",
    "        pass"
   ]
  },
  {
   "cell_type": "code",
   "execution_count": 16,
   "id": "fd3ac7fa",
   "metadata": {},
   "outputs": [],
   "source": [
    "def create_task(\n",
    "    project_id: int,\n",
    "    task_title: str,\n",
    "    task_description: str,\n",
    "    task_resources: list[Resource],\n",
    "    task_instructions: list[Instruction]\n",
    ") -> Task:\n",
    "    task = Task(\n",
    "        project_id,\n",
    "        task_title,\n",
    "        task_description,\n",
    "        task_resources,\n",
    "        task_instructions\n",
    "    )\n",
    "    \n",
    "    return task\n",
    "\n",
    "def save_task(task: Task):\n",
    "    \"\"\"Save a task to database.\"\"\"\n",
    "    pass"
   ]
  },
  {
   "cell_type": "code",
   "execution_count": 17,
   "id": "f3cd68b6",
   "metadata": {},
   "outputs": [],
   "source": [
    "def create_project(\n",
    "    project_title: str,\n",
    "    project_description: str,\n",
    "    project_outcomes: list[ProjectOutcome],\n",
    "    project_resources: list[Resource],\n",
    "    project_instructions: list[Instruction],\n",
    "    project_repo: str,\n",
    "    project_folder: str\n",
    ") -> Project:\n",
    "    project = Project(\n",
    "        project_title,\n",
    "        project_description,\n",
    "        project_outcomes,\n",
    "        project_resources,\n",
    "        project_instructions,\n",
    "        project_repo,\n",
    "        project_folder\n",
    "    )\n",
    "    \n",
    "    return project\n",
    "\n",
    "def save_project(project: Project):\n",
    "    \"\"\"Save project to database.\"\"\"\n",
    "    pass"
   ]
  },
  {
   "cell_type": "code",
   "execution_count": 23,
   "id": "6da21666",
   "metadata": {},
   "outputs": [],
   "source": [
    "class CheckType:\n",
    "    FILE_EXISTS = 'File Exists'\n",
    "    REPO_EXISTS = 'Repository Exists'"
   ]
  },
  {
   "cell_type": "code",
   "execution_count": 32,
   "id": "025e9986",
   "metadata": {},
   "outputs": [],
   "source": [
    "class Check:\n",
    "    def __init__(self):\n",
    "        pass"
   ]
  },
  {
   "cell_type": "code",
   "execution_count": 24,
   "id": "6ed81272",
   "metadata": {},
   "outputs": [],
   "source": [
    "class FileCheck(Check):\n",
    "    def __init__(self, file, check_type):\n",
    "        self.__file = file\n",
    "        self.__check_type = check_type\n",
    "        \n",
    "    def get_file(self):\n",
    "        return self.__file\n",
    "    \n",
    "    def get_check_type(self):\n",
    "        return self.__check_type"
   ]
  },
  {
   "cell_type": "code",
   "execution_count": 51,
   "id": "ce058c72",
   "metadata": {},
   "outputs": [],
   "source": [
    "class RepoCheck(Check):\n",
    "    def __init__(self, repo_name: str, check_type):\n",
    "        self.__repo_name = repo_name\n",
    "        self.__check_type = check_type\n",
    "        \n",
    "    def get_repo_name(self):\n",
    "        return self.__repo_name\n",
    "    \n",
    "    def get_check_type(self):\n",
    "        return self.__check_type"
   ]
  },
  {
   "cell_type": "code",
   "execution_count": 52,
   "id": "3461a8d5",
   "metadata": {},
   "outputs": [],
   "source": [
    "def create_file_check(file_name, check_type):\n",
    "    return FileCheck(file_name, check_type)"
   ]
  },
  {
   "cell_type": "code",
   "execution_count": 53,
   "id": "4ea780f4",
   "metadata": {},
   "outputs": [],
   "source": [
    "def create_repo_check(repo_name, check_type):\n",
    "    return RepoCheck(repo_name, check_type)"
   ]
  },
  {
   "cell_type": "code",
   "execution_count": 54,
   "id": "b16932f6",
   "metadata": {},
   "outputs": [],
   "source": [
    "def update_ui(output):\n",
    "    print(output)"
   ]
  },
  {
   "cell_type": "code",
   "execution_count": 140,
   "id": "6c60e23f",
   "metadata": {},
   "outputs": [],
   "source": [
    "class GitHubChecks:\n",
    "    @staticmethod\n",
    "    def user_exists(username: str):\n",
    "        \"\"\"Checks if a user exists\"\"\"\n",
    "        if not username:\n",
    "            raise ValueError('The username must be provided')\n",
    "        if not isinstance(username, str):\n",
    "            raise TypeError('The username must be a string')\n",
    "        user = github.get_user(username)\n",
    "        if user.name:\n",
    "            return True\n",
    "        else:\n",
    "            return False\n",
    "    \n",
    "    @staticmethod\n",
    "    def repository_exists(username: str, repository: str):\n",
    "        \"\"\"Check if a repository exists.\"\"\"\n",
    "        if not GitHubChecks.user_exists(username):\n",
    "                raise ValueError(f'The user {username} does not exist')\n",
    "        if not repository:\n",
    "            raise ValueError('The repository must be provided')\n",
    "        if not isinstance(repository, str):\n",
    "            raise TypeError('The repository must be a string')\n",
    "        repo_name = username + \"/\" + repository\n",
    "        try:\n",
    "            repo = github.get_repo(repo_name)\n",
    "        except UnknownObjectException:\n",
    "            return False\n",
    "        return True \n",
    "    \n",
    "    @staticmethod\n",
    "    def file_exists(username: str, repository: str, relative_file_path: str):\n",
    "        \"\"\"Check if a file exists.\"\"\"\n",
    "        if not relative_file_path:\n",
    "            raise ValueError('The relative_file_path path must be provided')\n",
    "        if not isinstance(relative_file_path, str):\n",
    "            raise TypeError('The relative_file_path must be a string')\n",
    "        if not GitHubChecks.repository_exists(username, repository):\n",
    "                repo = os.path.join(username, repository)\n",
    "                raise ValueError(f'The repository {repo} does not exist')\n",
    "        repo = github.get_repo(os.path.join(username, repository))\n",
    "        try:\n",
    "            file = repo.get_contents(relative_file_path)\n",
    "        except UnknownObjectException:\n",
    "            return False\n",
    "        return True "
   ]
  },
  {
   "cell_type": "code",
   "execution_count": 95,
   "id": "8bf1074b",
   "metadata": {},
   "outputs": [
    {
     "data": {
      "text/plain": [
       "False"
      ]
     },
     "execution_count": 95,
     "metadata": {},
     "output_type": "execute_result"
    }
   ],
   "source": [
    "GitHubChecks.repository_exists('twyle', 'pygithub1')"
   ]
  },
  {
   "cell_type": "code",
   "execution_count": 144,
   "id": "ed696cc1",
   "metadata": {},
   "outputs": [
    {
     "data": {
      "text/plain": [
       "False"
      ]
     },
     "execution_count": 144,
     "metadata": {},
     "output_type": "execute_result"
    }
   ],
   "source": [
    "GitHubChecks.file_exists('twyle', 'web-tutorials', 'youtube-clone/index2.html')"
   ]
  },
  {
   "cell_type": "code",
   "execution_count": 159,
   "id": "1211da80",
   "metadata": {},
   "outputs": [],
   "source": [
    "class GitHubInterface:\n",
    "    @staticmethod\n",
    "    def get_user(username: str):\n",
    "        \"\"\"Finds a specific github user.\"\"\"\n",
    "        if not GitHubChecks.user_exists(username):\n",
    "            raise ValueError(f'The user {username} does not exist')\n",
    "        user = github.get_user(username)\n",
    "        return user\n",
    "    \n",
    "    @staticmethod\n",
    "    def get_repository(username: str, repository: str):\n",
    "        \"\"\"Get a particular repository.\"\"\" \n",
    "        if not GitHubChecks.repository_exists(username, repository):\n",
    "            raise ValueError(f'The repository {repo_name} does not exist.')\n",
    "        repo_name = os.path.join(username, repository)\n",
    "        repo = github.get_repo(repo_name)\n",
    "        return repo\n",
    "    \n",
    "    @staticmethod\n",
    "    def get_file(username: str, repository: str, relative_file_path: str):\n",
    "        \"\"\"Get a particular file from the repo.\"\"\"\n",
    "        if not GitHubChecks.file_exists(username, repository, relative_file_path):\n",
    "                file_path = os.path.join(username, repository, relative_file_path)\n",
    "                raise ValueError(f'The file {file_path} does not exist.')\n",
    "        repo = github.get_repo(os.path.join(username, repository))\n",
    "        file = repo.get_contents(relative_file_path)\n",
    "        file_text = file.decoded_content.decode('utf-8')\n",
    "        return file_text"
   ]
  },
  {
   "cell_type": "code",
   "execution_count": 160,
   "id": "ae1f4f2b",
   "metadata": {},
   "outputs": [
    {
     "data": {
      "text/plain": [
       "Repository(full_name=\"twyle/pygithub\")"
      ]
     },
     "execution_count": 160,
     "metadata": {},
     "output_type": "execute_result"
    }
   ],
   "source": [
    "gitub_interface = GitHubInterface()\n",
    "gitub_interface.get_repository('twyle', 'pygithub')"
   ]
  },
  {
   "cell_type": "code",
   "execution_count": 161,
   "id": "387beb6b",
   "metadata": {
    "collapsed": true
   },
   "outputs": [
    {
     "data": {
      "text/plain": [
       "'<!DOCTYPE html>\\n<html lang=\"en\">\\n<head>\\n    <meta charset=\"UTF-8\">\\n    <meta http-equiv=\"X-UA-Compatible\" content=\"IE=edge\">\\n    <meta name=\"viewport\" content=\"width=device-width, initial-scale=1.0\">\\n    <title>Video Sahring Website</title>\\n    <link rel=\"stylesheet\" href=\"./css/style.css\">\\n</head>\\n<body>\\n    \\n    <!--------------------------NAVBAR------------------------------>\\n    <nav class=\"flex-div\">\\n\\n        <div class=\"nav-left flex-div\">\\n            <img src=\"img/menu.png\" alt=\"\" class=\"menu-icon\">\\n            <img src=\"img/logo.png\" alt=\"\" class=\"logo\">\\n        </div>\\n\\n        <div class=\"nav-middle flex-div\">\\n            <div class=\"search-box flex-div\">\\n                <input type=\"text\" name=\"\" id=\"\" placeholder=\"Search\">\\n                <img src=\"img/search.png\" alt=\"\">\\n            </div>\\n\\n            <img src=\"img/voice-search.png\" alt=\"\" class=\"mic-icon\">\\n        </div>\\n\\n        <div class=\"nav-right flex-div\">\\n            <img src=\"img/upload.png\" alt=\"\">\\n            <img src=\"img/more.png\" alt=\"\">\\n            <img src=\"img/notification.png\" alt=\"\">\\n            <img src=\"img/Jack.png\" alt=\"\" class=\"user-icon\">\\n        </div>\\n\\n    </nav>\\n    <!--------------------------END OF NAVBAR------------------------------>\\n\\n    <!--------------------------SIDEBAR------------------------------>\\n    <div class=\"sidebar\">\\n\\n        <div class=\"shortcut-links\">\\n            <a href=\"\">\\n                <img src=\"img/home.png\" alt=\"\">\\n                <p>Home</p>\\n            </a>\\n            <a href=\"\">\\n                <img src=\"img/explore.png\" alt=\"\">\\n                <p>Explore</p>\\n            </a>\\n            <a href=\"\">\\n                <img src=\"img/subscription.png\" alt=\"\">\\n                <p>Subscription</p>\\n            </a>\\n            <a href=\"\">\\n                <img src=\"img/library.png\" alt=\"\">\\n                <p>Library</p>\\n            </a>\\n            <a href=\"\">\\n                <img src=\"img/history.png\" alt=\"\">\\n                <p>History</p>\\n            </a>\\n            <a href=\"\">\\n                <img src=\"img/playlist.png\" alt=\"\">\\n                <p>Playlist</p>\\n            </a>\\n            <a href=\"\">\\n                <img src=\"img/messages.png\" alt=\"\">\\n                <p>Messages</p>\\n            </a>\\n            <a href=\"\">\\n                <img src=\"img/show-more.png\" alt=\"\">\\n                <p>Show More</p>\\n            </a>\\n\\n            <hr>\\n        </div>\\n\\n        <div class=\"subscribed-list\">\\n            <h3>SUBSCRIBED</h3>\\n            <a href=\"\">\\n                <img src=\"img/Jack.png\" alt=\"\">\\n                <p>Jack Nicholson</p>\\n            </a>\\n            <a href=\"\">\\n                <img src=\"img/simon.png\" alt=\"\">\\n                <p>Simon Baker</p>\\n            </a>\\n            <a href=\"\">\\n                <img src=\"img/tom.png\" alt=\"\">\\n                <p>Tom Hardy</p>\\n            </a>\\n            <a href=\"\">\\n                <img src=\"img/megan.png\" alt=\"\">\\n                <p>Megan Ryan</p>\\n            </a>\\n            <a href=\"\">\\n                <img src=\"img/cameron.png\" alt=\"\">\\n                <p>Cameron Diaz</p>\\n            </a>\\n        </div>\\n\\n    </div>\\n    <!--------------------------END OF SIDEBAR------------------------------>\\n\\n    <!--------------------------MAIN------------------------------>\\n    <div class=\"container\">\\n\\n        <div class=\"banner\">\\n            <img src=\"img/banner.png\" alt=\"\">\\n        </div>\\n\\n        <div class=\"list-container\">\\n\\n            <div class=\"vid-list\">\\n                <a href=\"play-video.html\">\\n                    <img src=\"img/thumbnail1.png\" alt=\"\" class=\"thumbnail\">\\n                </a>\\n                <div class=\"flex-div\">\\n                    <img src=\"img/Jack.png\" alt=\"\">\\n                    <div class=\"vid-info\">\\n                        <a href=\"play-video.html\">Best channel to learn coding.</a>\\n                        <p>Easy Tutorials</p>\\n                        <p>15k Views &bull; 2 days</p>\\n                    </div>\\n                </div>\\n            </div>\\n\\n            <div class=\"vid-list\">\\n                <a href=\"\">\\n                    <img src=\"img/thumbnail2.png\" alt=\"\" class=\"thumbnail\">\\n                </a>\\n                <div class=\"flex-div\">\\n                    <img src=\"img/Jack.png\" alt=\"\">\\n                    <div class=\"vid-info\">\\n                        <a href=\"\">Best channel to learn coding.</a>\\n                        <p>Easy Tutorials</p>\\n                        <p>15k Views &bull; 2 days</p>\\n                    </div>\\n                </div>\\n            </div>\\n\\n            <div class=\"vid-list\">\\n                <a href=\"\">\\n                    <img src=\"img/thumbnail3.png\" alt=\"\" class=\"thumbnail\">\\n                </a>\\n                <div class=\"flex-div\">\\n                    <img src=\"img/Jack.png\" alt=\"\">\\n                    <div class=\"vid-info\">\\n                        <a href=\"\">Best channel to learn coding.</a>\\n                        <p>Easy Tutorials</p>\\n                        <p>15k Views &bull; 2 days</p>\\n                    </div>\\n                </div>\\n            </div>\\n\\n            <div class=\"vid-list\">\\n                <a href=\"\">\\n                    <img src=\"img/thumbnail4.png\" alt=\"\" class=\"thumbnail\">\\n                </a>\\n                <div class=\"flex-div\">\\n                    <img src=\"img/Jack.png\" alt=\"\">\\n                    <div class=\"vid-info\">\\n                        <a href=\"\">Best channel to learn coding.</a>\\n                        <p>Easy Tutorials</p>\\n                        <p>15k Views &bull; 2 days</p>\\n                    </div>\\n                </div>\\n            </div>\\n\\n            <div class=\"vid-list\">\\n                <a href=\"\">\\n                    <img src=\"img/thumbnail5.png\" alt=\"\" class=\"thumbnail\">\\n                </a>\\n                <div class=\"flex-div\">\\n                    <img src=\"img/Jack.png\" alt=\"\">\\n                    <div class=\"vid-info\">\\n                        <a href=\"\">Best channel to learn coding.</a>\\n                        <p>Easy Tutorials</p>\\n                        <p>15k Views &bull; 2 days</p>\\n                    </div>\\n                </div>\\n            </div>\\n\\n            <div class=\"vid-list\">\\n                <a href=\"\">\\n                    <img src=\"img/thumbnail6.png\" alt=\"\" class=\"thumbnail\">\\n                </a>\\n                <div class=\"flex-div\">\\n                    <img src=\"img/Jack.png\" alt=\"\">\\n                    <div class=\"vid-info\">\\n                        <a href=\"\">Best channel to learn coding.</a>\\n                        <p>Easy Tutorials</p>\\n                        <p>15k Views &bull; 2 days</p>\\n                    </div>\\n                </div>\\n            </div>\\n\\n            <div class=\"vid-list\">\\n                <a href=\"\">\\n                    <img src=\"img/thumbnail7.png\" alt=\"\" class=\"thumbnail\">\\n                </a>\\n                <div class=\"flex-div\">\\n                    <img src=\"img/Jack.png\" alt=\"\">\\n                    <div class=\"vid-info\">\\n                        <a href=\"\">Best channel to learn coding.</a>\\n                        <p>Easy Tutorials</p>\\n                        <p>15k Views &bull; 2 days</p>\\n                    </div>\\n                </div>\\n            </div>\\n\\n            <div class=\"vid-list\">\\n                <a href=\"\">\\n                    <img src=\"img/thumbnail8.png\" alt=\"\" class=\"thumbnail\">\\n                </a>\\n                <div class=\"flex-div\">\\n                    <img src=\"img/Jack.png\" alt=\"\">\\n                    <div class=\"vid-info\">\\n                        <a href=\"\">Best channel to learn coding.</a>\\n                        <p>Easy Tutorials</p>\\n                        <p>15k Views &bull; 2 days</p>\\n                    </div>\\n                </div>\\n            </div>\\n\\n            <div class=\"vid-list\">\\n                <a href=\"\">\\n                    <img src=\"img/thumbnail1.png\" alt=\"\" class=\"thumbnail\">\\n                </a>\\n                <div class=\"flex-div\">\\n                    <img src=\"img/Jack.png\" alt=\"\">\\n                    <div class=\"vid-info\">\\n                        <a href=\"\">Best channel to learn coding.</a>\\n                        <p>Easy Tutorials</p>\\n                        <p>15k Views &bull; 2 days</p>\\n                    </div>\\n                </div>\\n            </div>\\n\\n        </div>\\n\\n    </div>\\n    <!--------------------------END OF MAIN------------------------------>\\n\\n    <script src=\"js/index.js\"></script>\\n</body>\\n</html>'"
      ]
     },
     "execution_count": 161,
     "metadata": {},
     "output_type": "execute_result"
    }
   ],
   "source": [
    "gitub_interface.get_file('twyle', 'web-tutorials', 'youtube-clone/index.html')"
   ]
  },
  {
   "cell_type": "code",
   "execution_count": 101,
   "id": "98474d51",
   "metadata": {},
   "outputs": [],
   "source": [
    "class TaskCheck:\n",
    "    def __init__(self, user, project, task):\n",
    "        self.__user = user\n",
    "        self.__project = project\n",
    "        self.__task = task\n",
    "    \n",
    "    def get_user(self):\n",
    "        return self.__user\n",
    "        \n",
    "    def get_project(self):\n",
    "        return self.__project\n",
    "        \n",
    "    def get_task(self):\n",
    "        return self.__task\n",
    "    \n",
    "    def get_repo(self):\n",
    "        return self.__project.get_project_repo()\n",
    "    \n",
    "    def get_user_name(self):\n",
    "        return self.__user.get_username()"
   ]
  },
  {
   "cell_type": "code",
   "execution_count": 156,
   "id": "94365564",
   "metadata": {},
   "outputs": [],
   "source": [
    "class TaskFileChecker(TaskCheck):\n",
    "    def __init__(self, user, project, task, file_check: FileCheck):\n",
    "        super().__init__(user, project, task)\n",
    "        self.__file_check = file_check\n",
    "        self.__message = None\n",
    "        \n",
    "    def get_check_message(self):\n",
    "        return self.__message\n",
    "    \n",
    "    def run_check(self):\n",
    "        file_check_type = self.__file_check.get_check_type()\n",
    "        if file_check_type == CheckType.FILE_EXISTS:\n",
    "            file_name = os.path.join(self.get_user_name(), self.get_repo(), self.__file_check.get_file())\n",
    "            self.__message = f'Checking for existance of file {file_name} ...'\n",
    "            print(self.__message)\n",
    "            file_exists = self.__file_exists()\n",
    "            return file_exists\n",
    "    \n",
    "    def __file_exists(self):\n",
    "        user_name = self.get_user_name()\n",
    "        repo_name = self.get_repo()\n",
    "        file_name = self.__file_check.get_file()\n",
    "        file_path = os.path.join(user_name, repo_name, file_name)\n",
    "        try:\n",
    "            file_exists = GitHubChecks.file_exists(user_name, repo_name, file_name)\n",
    "        except ValueError:\n",
    "            file_exists = False\n",
    "        output = {\n",
    "            file_path: file_exists\n",
    "        }\n",
    "        return output"
   ]
  },
  {
   "cell_type": "code",
   "execution_count": 150,
   "id": "bdd5aa2c",
   "metadata": {},
   "outputs": [],
   "source": [
    "class TaskRepoChecker(TaskCheck):\n",
    "    def __init__(self, user, project, task, repo_check: RepoCheck):\n",
    "        super().__init__(user, project, task)\n",
    "        self.__repo_check = repo_check\n",
    "        self.__message = None\n",
    "        \n",
    "    def get_check_message(self):\n",
    "        return self.__message\n",
    "    \n",
    "    def run_check(self):\n",
    "        repo_check_type = self.__repo_check.get_check_type()\n",
    "        if repo_check_type == CheckType.REPO_EXISTS:\n",
    "            repo_name = os.path.join(self.get_user_name(), self.__repo_check.get_repo_name())\n",
    "            self.__message = f'Checking for existance of repository {repo_name} ...'\n",
    "            print(self.__message)\n",
    "            repo_exists = self.__repo_exists()\n",
    "            return repo_exists\n",
    "    \n",
    "    def __repo_exists(self):\n",
    "        repo_name = os.path.join(self.get_user_name(), self.__repo_check.get_repo_name())\n",
    "        username, repository = repo_name.split('/')\n",
    "        repo_exists = GitHubChecks.repository_exists(username, repository)\n",
    "        output = {\n",
    "            repo_name: repo_exists\n",
    "        }\n",
    "        return output"
   ]
  },
  {
   "cell_type": "code",
   "execution_count": 126,
   "id": "18b3236a",
   "metadata": {},
   "outputs": [],
   "source": [
    "class TaskChecker:\n",
    "    def __init__(self, user: User, project: Project, task: Task, \n",
    "                 checks: dict[str, list[Check]]):\n",
    "        self.__checks = checks\n",
    "        self.__user = user\n",
    "        self.__project = project\n",
    "        self.__task = task\n",
    "    \n",
    "    def run_checks(self):\n",
    "        if self.__checks.get('repository_checks'):\n",
    "            for check in self.__checks.get('repository_checks'):\n",
    "                output_repo_checker = TaskRepoChecker(self.__user, self.__project, \n",
    "                                                  self.__task, check)\n",
    "                output = output_repo_checker.run_check()\n",
    "                update_ui(output)\n",
    "        if self.__checks.get('file_checks'):\n",
    "            for check in self.__checks.get('file_checks'):\n",
    "                output_file_checker = TaskFileChecker(self.__user, self.__project, \n",
    "                                                      self.__task, check)\n",
    "                output = output_file_checker.run_check()\n",
    "                update_ui(output)"
   ]
  },
  {
   "cell_type": "code",
   "execution_count": 127,
   "id": "e2e6ebbc",
   "metadata": {},
   "outputs": [],
   "source": [
    "def check_task(user: User, project: Project, task: Task, checks: dict[str, list[Check]]):\n",
    "    task_checker = TaskChecker(user, project, task, checks)\n",
    "    task_checker.run_checks()"
   ]
  },
  {
   "cell_type": "code",
   "execution_count": 114,
   "id": "a950da83",
   "metadata": {},
   "outputs": [],
   "source": [
    "\"\"\"Create our first user.\"\"\"\n",
    "lyle = User(username='twyle', email='lyceokoth@gmail.com')"
   ]
  },
  {
   "cell_type": "code",
   "execution_count": 115,
   "id": "70752268",
   "metadata": {},
   "outputs": [],
   "source": [
    "\"\"\"Create our first project\"\"\"\n",
    "\n",
    "title = 'PROJECT ONE'\n",
    "\n",
    "description = '''\n",
    "This is a simple project that requires the student to create a siple repo, a project \n",
    "folder and then a python file with a single function that generates two random numbers.\n",
    "'''\n",
    "\n",
    "outcomes = [\n",
    "    ProjectOutcome('Create a Repository on GitHub.'),\n",
    "    ProjectOutcome('Clone a Remote Repo to Your Local Development Environment.'),\n",
    "    ProjectOutcome('Push changes made on your local development evironment to the remote repo.'),\n",
    "    ProjectOutcome('Use Ubuntu to with Python.'),\n",
    "    ProjectOutcome('Create a function using Python.'),\n",
    "    ProjectOutcome('Work with python packages, particurlaly Random.')\n",
    "]\n",
    "\n",
    "resources = [\n",
    "    Resource(\n",
    "        name='Python Random Module on W3.',\n",
    "        description='An article on the Python Random module from W3.',\n",
    "        resource_type=ResourceType.ARTICLE,\n",
    "        resource_url='https://www.w3schools.com/python/module_random.asp'   \n",
    "    )\n",
    "]\n",
    "\n",
    "instructions = [\n",
    "    Instruction('Use Python3.10 for the tasks.'),\n",
    "    Instruction('Use Ubuntu 22.04 for the tasks.'),\n",
    "    Instruction('You must have a github account.')\n",
    "]\n",
    "\n",
    "project_repo = 'SimpleScan'\n",
    "\n",
    "project_folder = 'test_folder'\n",
    "\n",
    "project_one = create_project(\n",
    "    project_title=title,\n",
    "    project_description=description,\n",
    "    project_outcomes=outcomes,\n",
    "    project_resources=resources,\n",
    "    project_instructions=instructions,\n",
    "    project_repo=project_repo,\n",
    "    project_folder=project_folder\n",
    ")\n",
    "\n",
    "\"\"\"Save project to database.\"\"\"\n",
    "save_project(project_one)"
   ]
  },
  {
   "cell_type": "code",
   "execution_count": 116,
   "id": "c00a4c16",
   "metadata": {},
   "outputs": [],
   "source": [
    "\"\"\"Create the first task.\"\"\"\n",
    "repo_name = project_one.get_project_repo()\n",
    "task_one = Task(\n",
    "    project_id=1,\n",
    "    task_title='Create Github Repo',\n",
    "    task_description='Create an empty GitHub Repo, with an MIT license.',\n",
    "    task_resources = [],\n",
    "    task_instructions = [\n",
    "        Instruction(f'Create an new repo called {repo_name} with no description, an MIT Licence but with no README or gitignore.')\n",
    "    ]\n",
    ")"
   ]
  },
  {
   "cell_type": "code",
   "execution_count": 146,
   "id": "1c9f01ce",
   "metadata": {},
   "outputs": [],
   "source": [
    "\"\"\"Create task one ouputs\"\"\"\n",
    "\n",
    "task_one_otput_files = ['LICENSE']\n",
    "task_one_outputs = create_task_output(task_one_otput_files)\n",
    "task_one.create_outputs(task_one_outputs)"
   ]
  },
  {
   "cell_type": "code",
   "execution_count": 157,
   "id": "27f9b992",
   "metadata": {},
   "outputs": [],
   "source": [
    "\"\"\"Create the task output checks.\"\"\"\n",
    "\n",
    "repo_exists = create_repo_check('SimpleScan', CheckType.REPO_EXISTS)\n",
    "mit_license_file_exists = create_file_check('LICENSE', CheckType.FILE_EXISTS)\n",
    "task_checks = {\n",
    "    'repository_checks': [\n",
    "        repo_exists\n",
    "    ],\n",
    "    'file_checks': [\n",
    "        mit_license_file_exists\n",
    "    ]\n",
    "}"
   ]
  },
  {
   "cell_type": "code",
   "execution_count": 158,
   "id": "23050c43",
   "metadata": {},
   "outputs": [
    {
     "name": "stdout",
     "output_type": "stream",
     "text": [
      "Checking for existance of repository twyle/SimpleScan ...\n",
      "{'twyle/SimpleScan': False}\n",
      "Checking for existance of file twyle/SimpleScan/LICENSE ...\n",
      "{'twyle/SimpleScan/LICENSE': False}\n"
     ]
    }
   ],
   "source": [
    "check_task(user=lyle, project=project_one, task=task_one, checks=task_checks)"
   ]
  },
  {
   "cell_type": "code",
   "execution_count": 131,
   "id": "8e73ce66",
   "metadata": {},
   "outputs": [],
   "source": [
    "a,b = 'twyle/SimpleScan'.split('/')"
   ]
  },
  {
   "cell_type": "code",
   "execution_count": null,
   "id": "e1b7a802",
   "metadata": {},
   "outputs": [],
   "source": []
  }
 ],
 "metadata": {
  "kernelspec": {
   "display_name": "Python 3 (ipykernel)",
   "language": "python",
   "name": "python3"
  },
  "language_info": {
   "codemirror_mode": {
    "name": "ipython",
    "version": 3
   },
   "file_extension": ".py",
   "mimetype": "text/x-python",
   "name": "python",
   "nbconvert_exporter": "python",
   "pygments_lexer": "ipython3",
   "version": "3.10.6"
  }
 },
 "nbformat": 4,
 "nbformat_minor": 5
}
