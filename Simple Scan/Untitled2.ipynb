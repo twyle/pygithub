{
 "cells": [
  {
   "cell_type": "code",
   "execution_count": null,
   "id": "98fd0c68",
   "metadata": {},
   "outputs": [],
   "source": [
    "\"\"\"\n",
    "PROJECT ONE (Title)\n",
    "-----------\n",
    "\n",
    "Introduction\n",
    "------------\n",
    "This is a simple project that requires the student to create a \n",
    "simple repo, a project folder and then a python file with a \n",
    "single function that generates two random integers and another\n",
    "function that adds two integers. \n",
    "\n",
    "Tasks\n",
    "-----\n",
    "The project is divided into 6 tasks:\n",
    "\n",
    "1. Create the project repo with only a license file\n",
    "2. Create a README that describes the project\n",
    "3. Create the project folder and the project file\n",
    "4. Create the random number generator function\n",
    "5. Create the function that adds two random integers\n",
    "6. Create a main file for testing both files and a gitignore file\n",
    "\n",
    "Each new task will be revealed after doing the previous task and \n",
    "running the checker or clicking the done button. \n",
    "\n",
    "Outcomes\n",
    "--------\n",
    "By the end of this poject you should be able to:\n",
    "\n",
    "1. Create a Repository on GitHub.\n",
    "2. Clone a Remote Repo to Your Local Development Environment.\n",
    "3. Push changes made on your local development evironment to the remote repo.\n",
    "4. Use Ubuntu to with Python.\n",
    "5. Create a function using Python.\n",
    "6. Work with python packages, particurlaly Random.\n",
    "\n",
    "Resources\n",
    "---------\n",
    "\n",
    "The Random module:\n",
    "1. https://www.geeksforgeeks.org/python-random-module/\n",
    "2. https://docs.python.org/3/library/random.html\n",
    "3. https://www.w3schools.com/python/module_random.asp\n",
    "\n",
    "Git and GitHub\n",
    "1. https://www.geeksforgeeks.org/python-random-module/\n",
    "\n",
    "Python documentation\n",
    "1. https://www.geeksforgeeks.org/python-random-module/\n",
    "\n",
    "What to consider\n",
    "------------\n",
    "\n",
    "1. Use Python3.10 for the tasks\n",
    "2. Use Ubuntu 22.04\n",
    "3. You must have a github account\n",
    "4. All packages, modules and functions must be thoroughly documented.\n",
    "5. Include the types for your function arguments and return values\n",
    "6. All python files must indicate the encoding at the top.\n",
    "   \n",
    "\"\"\""
   ]
  },
  {
   "cell_type": "code",
   "execution_count": 1,
   "id": "2fbed37f",
   "metadata": {},
   "outputs": [
    {
     "data": {
      "text/plain": [
       "True"
      ]
     },
     "execution_count": 1,
     "metadata": {},
     "output_type": "execute_result"
    }
   ],
   "source": [
    "from enum import Enum\n",
    "from dataclasses import dataclass\n",
    "import random\n",
    "import os\n",
    "\n",
    "from github import Github\n",
    "from dotenv import load_dotenv\n",
    "import os\n",
    "from github.GithubException import UnknownObjectException, GithubException\n",
    "load_dotenv()"
   ]
  },
  {
   "cell_type": "code",
   "execution_count": 2,
   "id": "fd0b6df5",
   "metadata": {},
   "outputs": [],
   "source": [
    "github_api_key = os.environ['GITHUB_API_KEY']"
   ]
  },
  {
   "cell_type": "code",
   "execution_count": 3,
   "id": "79936177",
   "metadata": {},
   "outputs": [],
   "source": [
    "# using an access token\n",
    "github = Github(github_api_key)"
   ]
  },
  {
   "cell_type": "code",
   "execution_count": 4,
   "id": "bf617c5e",
   "metadata": {},
   "outputs": [],
   "source": [
    "class User:\n",
    "    def __init__(self, username: str, email: str):\n",
    "        self.__username = username\n",
    "        self.__email = email\n",
    "        \n",
    "    def get_username(self):\n",
    "        return self.__username\n",
    "    \n",
    "    def get_email(self):\n",
    "        return self.__email"
   ]
  },
  {
   "cell_type": "code",
   "execution_count": 5,
   "id": "e1adfecd",
   "metadata": {},
   "outputs": [],
   "source": [
    "class ResourceType(Enum):\n",
    "    \"\"\"This class identifies different types of learning resources.\"\"\"\n",
    "    YOUTUBE_VIDEO = 'YouTube Video'\n",
    "    ARTICLE = 'Article'"
   ]
  },
  {
   "cell_type": "code",
   "execution_count": 6,
   "id": "437aaa1a",
   "metadata": {},
   "outputs": [],
   "source": [
    "class Resource:\n",
    "    def __init__(self, name: str, description: str, resource_type: ResourceType, \n",
    "                resource_url: str):\n",
    "        self.__resource_name = name\n",
    "        self.__resource_description = description\n",
    "        self.__resource_type = resource_type\n",
    "        self.__resource_url = resource_url   "
   ]
  },
  {
   "cell_type": "code",
   "execution_count": 12,
   "id": "d8700bd4",
   "metadata": {},
   "outputs": [],
   "source": [
    "class Instruction:\n",
    "    def __init__(self, text: str):\n",
    "        self.__text = text"
   ]
  },
  {
   "cell_type": "code",
   "execution_count": 13,
   "id": "81e0c8a9",
   "metadata": {},
   "outputs": [],
   "source": [
    "class Outcome:\n",
    "    \"\"\"This class dscribes a single outcome.\n",
    "    \n",
    "    An outcome is what the learner is expected to be able to accomplish after the task or project. An example \n",
    "    is 'Create a Repository on GitHub.'.\n",
    "    \"\"\"\n",
    "    def __init__(self, text: str):\n",
    "        self.__text = text\n",
    "        \n",
    "class ProjectOutcome(Outcome):\n",
    "    pass\n",
    "\n",
    "class TaskOutcome(Outcome):\n",
    "    pass"
   ]
  },
  {
   "cell_type": "code",
   "execution_count": 14,
   "id": "19eebc02",
   "metadata": {},
   "outputs": [],
   "source": [
    "class OutPut:\n",
    "    pass\n",
    "\n",
    "class ProjectOutput(OutPut):\n",
    "    pass\n",
    "\n",
    "class TaskOutput(OutPut):\n",
    "    def __init__(self):\n",
    "        self.__output_repo = None\n",
    "        self.__project_folder = None\n",
    "        self.__output_files = None\n",
    "        \n",
    "    def __get_project_repo(self, project):\n",
    "        self.__output_repo = project.get_project_repo()\n",
    "    \n",
    "    def __get_project_folder(self, project):\n",
    "        self.__project_folder = project.get_project_folder()\n",
    "        \n",
    "    def create_output_files(self, output_files: list[str], project=None):\n",
    "        if project:\n",
    "            self.__get_project_repo(project)\n",
    "            self.__get_project_folder(project)\n",
    "            self.__output_files = [os.path.join(self.__output_repo, self.__project_folder, output_file)\n",
    "                                  for output_file in output_files]\n",
    "        else:\n",
    "            self.__output_files = output_files\n",
    "        \n",
    "    def get_output_files(self):\n",
    "        return self.__output_files"
   ]
  },
  {
   "cell_type": "code",
   "execution_count": 15,
   "id": "abbb1c44",
   "metadata": {},
   "outputs": [],
   "source": [
    "def create_task_output(output_files: list[str], project=None):\n",
    "    task_one_outputs = TaskOutput()\n",
    "    task_one_outputs.create_output_files(output_files, project)\n",
    "    return task_one_outputs "
   ]
  },
  {
   "cell_type": "code",
   "execution_count": 16,
   "id": "f6c2cbeb",
   "metadata": {},
   "outputs": [],
   "source": [
    "class Task:\n",
    "    def __init__(\n",
    "        self,\n",
    "        project_id: int,\n",
    "        task_title: str,\n",
    "        task_description: str,\n",
    "        task_resources: list[Resource],\n",
    "        task_instructions: list[Instruction]\n",
    "    ):\n",
    "        self.__project_id = project_id\n",
    "        self.__task_title = task_title\n",
    "        self.__task_description = task_description\n",
    "        self.__task_resources = task_resources\n",
    "        self.__task_instructions = task_instructions\n",
    "        self.__task_outputs = None\n",
    "        \n",
    "    def get_instructions(self):\n",
    "        return self.__project_instructions\n",
    "\n",
    "    def add_instruction(self, instruction: Instruction):\n",
    "        pass\n",
    "    \n",
    "    def delete_instruction(self, instruction: Instruction):\n",
    "        pass\n",
    "\n",
    "    def create_outputs(self, outputs: TaskOutput):\n",
    "        self.__task_outputs = outputs\n",
    "    \n",
    "    def add_output(self):\n",
    "        pass\n",
    "    \n",
    "    def delete_output(self):\n",
    "        pass\n",
    "    \n",
    "    def get_outputs(self):\n",
    "        return self.__task_outputs.get_output_files()\n",
    "    \n",
    "    def create_resource(self):\n",
    "        pass\n",
    "    \n",
    "    def add_resource(self):\n",
    "        pass\n",
    "    \n",
    "    def delete_resource(self):\n",
    "        pass\n",
    "\n",
    "    def get_resources(self):\n",
    "        pass\n",
    "    \n",
    "    def create_checks(self, checks):\n",
    "        pass\n",
    "    \n",
    "    def get_checks(self):\n",
    "        pass"
   ]
  },
  {
   "cell_type": "code",
   "execution_count": 100,
   "id": "1c3646a4",
   "metadata": {},
   "outputs": [],
   "source": [
    "class Project:\n",
    "    def __init__(\n",
    "        self,\n",
    "        project_title: str,\n",
    "        project_description: str,\n",
    "        project_outcomes: list[ProjectOutcome],\n",
    "        project_resources: list[Resource],\n",
    "        project_instructions: list[Instruction],\n",
    "        project_repo: str,\n",
    "        project_folder: str,\n",
    "        project_repo_type: str = 'public',\n",
    "        project_repo_license: str = 'MIT'\n",
    "    ):\n",
    "        self.__project_title = project_title\n",
    "        self.__project_description = project_description\n",
    "        self.__project_outcomes = project_outcomes\n",
    "        self.__project_resources = project_resources\n",
    "        self.__project_instructions = project_instructions\n",
    "        self.__project_repo = project_repo\n",
    "        self.__project_folder = project_folder\n",
    "        self.__project_tasks = None\n",
    "        self.__project_repo_type = project_repo_type\n",
    "        self.__project_repo_license = project_repo_license\n",
    "        \n",
    "    def get_project_folder(self):\n",
    "        return self.__project_folder\n",
    "    \n",
    "    def get_project_repo(self):\n",
    "        return self.__project_repo\n",
    "    \n",
    "    def get_project_repo_type(self):\n",
    "        return self.__project_repo_type\n",
    "    \n",
    "    def get_project_repo_license(self):\n",
    "        return self.__project_repo_license\n",
    "        \n",
    "    def get_instructions(self):\n",
    "        return self.__project_instructions\n",
    "\n",
    "    def add_instruction(self, instruction: Instruction):\n",
    "        pass\n",
    "    \n",
    "    def delete_instruction(self, instruction: Instruction):\n",
    "        pass\n",
    "\n",
    "    def create_outputs(self):\n",
    "        pass\n",
    "    \n",
    "    def add_output(self):\n",
    "        pass\n",
    "    \n",
    "    def delete_output(self):\n",
    "        pass\n",
    "    \n",
    "    def get_outputs(self):\n",
    "        pass\n",
    "    \n",
    "    def create_resource(self):\n",
    "        pass\n",
    "    \n",
    "    def add_resource(self):\n",
    "        pass\n",
    "    \n",
    "    def delete_resource(self):\n",
    "        pass\n",
    "\n",
    "    def get_resources(self):\n",
    "        pass\n",
    "    \n",
    "    def get_outcomes(self):\n",
    "        return self.__project_outcomes\n",
    "\n",
    "    def add_outcome(self, outcome: ProjectOutcome):\n",
    "        pass\n",
    "    \n",
    "    def delete_outcome(self, outcome: ProjectOutcome):\n",
    "        pass"
   ]
  },
  {
   "cell_type": "code",
   "execution_count": 101,
   "id": "6d8aaf84",
   "metadata": {},
   "outputs": [],
   "source": [
    "def create_task(\n",
    "    project_id: int,\n",
    "    task_title: str,\n",
    "    task_description: str,\n",
    "    task_resources: list[Resource],\n",
    "    task_instructions: list[Instruction]\n",
    ") -> Task:\n",
    "    task = Task(\n",
    "        project_id,\n",
    "        task_title,\n",
    "        task_description,\n",
    "        task_resources,\n",
    "        task_instructions\n",
    "    )\n",
    "    \n",
    "    return task\n",
    "\n",
    "def save_task(task: Task):\n",
    "    \"\"\"Save a task to database.\"\"\"\n",
    "    pass"
   ]
  },
  {
   "cell_type": "code",
   "execution_count": 102,
   "id": "326ef360",
   "metadata": {},
   "outputs": [],
   "source": [
    "def create_project(\n",
    "    project_title: str,\n",
    "    project_description: str,\n",
    "    project_outcomes: list[ProjectOutcome],\n",
    "    project_resources: list[Resource],\n",
    "    project_instructions: list[Instruction],\n",
    "    project_repo: str,\n",
    "    project_folder: str\n",
    ") -> Project:\n",
    "    project = Project(\n",
    "        project_title,\n",
    "        project_description,\n",
    "        project_outcomes,\n",
    "        project_resources,\n",
    "        project_instructions,\n",
    "        project_repo,\n",
    "        project_folder\n",
    "    )\n",
    "    \n",
    "    return project\n",
    "\n",
    "def save_project(project: Project):\n",
    "    \"\"\"Save project to database.\"\"\"\n",
    "    pass"
   ]
  },
  {
   "cell_type": "code",
   "execution_count": 103,
   "id": "e2bf088f",
   "metadata": {},
   "outputs": [],
   "source": [
    "class CheckType:\n",
    "    FILE_EXISTS = 'File Exists'\n",
    "    REPO_EXISTS = 'Repository Exists'\n",
    "    LICENSE_TYPE = 'License Type'\n",
    "    REPO_TYPE = 'Repository type'"
   ]
  },
  {
   "cell_type": "code",
   "execution_count": 104,
   "id": "1f0bc070",
   "metadata": {},
   "outputs": [],
   "source": [
    "class Check:\n",
    "    def __init__(self):\n",
    "        pass"
   ]
  },
  {
   "cell_type": "code",
   "execution_count": 107,
   "id": "1e6e4583",
   "metadata": {},
   "outputs": [],
   "source": [
    "class FileCheck(Check):\n",
    "    def __init__(self, file, check_type):\n",
    "        self.__file = file\n",
    "        self.__check_type = check_type\n",
    "        \n",
    "    def get_file(self):\n",
    "        return self.__file\n",
    "    \n",
    "    def get_check_type(self):\n",
    "        return self.__check_type"
   ]
  },
  {
   "cell_type": "code",
   "execution_count": 108,
   "id": "2aa7ac78",
   "metadata": {},
   "outputs": [],
   "source": [
    "class RepoCheck(Check):\n",
    "    def __init__(self, repo_name: str, check_type):\n",
    "        self.__repo_name = repo_name\n",
    "        self.__check_type = check_type\n",
    "        \n",
    "    def get_repo_name(self):\n",
    "        return self.__repo_name\n",
    "    \n",
    "    def get_check_type(self):\n",
    "        return self.__check_type"
   ]
  },
  {
   "cell_type": "code",
   "execution_count": 109,
   "id": "0c73321d",
   "metadata": {},
   "outputs": [],
   "source": [
    "def create_file_check(file_name, check_type):\n",
    "    return FileCheck(file_name, check_type)"
   ]
  },
  {
   "cell_type": "code",
   "execution_count": 110,
   "id": "fc5af497",
   "metadata": {},
   "outputs": [],
   "source": [
    "def create_repo_check(repo_name, check_type):\n",
    "    return RepoCheck(repo_name, check_type)"
   ]
  },
  {
   "cell_type": "code",
   "execution_count": 111,
   "id": "acc22e57",
   "metadata": {},
   "outputs": [],
   "source": [
    "def update_ui(output):\n",
    "    print(output)"
   ]
  },
  {
   "cell_type": "code",
   "execution_count": 112,
   "id": "a65140b3",
   "metadata": {},
   "outputs": [],
   "source": [
    "class GitHubChecks:\n",
    "    @staticmethod\n",
    "    def user_exists(username: str):\n",
    "        \"\"\"Checks if a user exists\"\"\"\n",
    "        if not username:\n",
    "            raise ValueError('The username must be provided')\n",
    "        if not isinstance(username, str):\n",
    "            raise TypeError('The username must be a string')\n",
    "        user = github.get_user(username)\n",
    "        if user.name:\n",
    "            return True\n",
    "        else:\n",
    "            return False\n",
    "    \n",
    "    @staticmethod\n",
    "    def repository_exists(username: str, repository: str):\n",
    "        \"\"\"Check if a repository exists.\"\"\"\n",
    "        if not GitHubChecks.user_exists(username):\n",
    "                raise ValueError(f'The user {username} does not exist')\n",
    "        if not repository:\n",
    "            raise ValueError('The repository must be provided')\n",
    "        if not isinstance(repository, str):\n",
    "            raise TypeError('The repository must be a string')\n",
    "        repo_name = username + \"/\" + repository\n",
    "        try:\n",
    "            repo = github.get_repo(repo_name)\n",
    "        except UnknownObjectException:\n",
    "            return False\n",
    "        return True \n",
    "    \n",
    "    @staticmethod\n",
    "    def file_exists(username: str, repository: str, relative_file_path: str):\n",
    "        \"\"\"Check if a file exists.\"\"\"\n",
    "        if not relative_file_path:\n",
    "            raise ValueError('The relative_file_path path must be provided')\n",
    "        if not isinstance(relative_file_path, str):\n",
    "            raise TypeError('The relative_file_path must be a string')\n",
    "        if not GitHubChecks.repository_exists(username, repository):\n",
    "                repo = os.path.join(username, repository)\n",
    "                raise ValueError(f'The repository {repo} does not exist')\n",
    "        repo = github.get_repo(os.path.join(username, repository))\n",
    "        try:\n",
    "            file = repo.get_contents(relative_file_path)\n",
    "        except UnknownObjectException:\n",
    "            return False\n",
    "        return True "
   ]
  },
  {
   "cell_type": "code",
   "execution_count": 113,
   "id": "509127ea",
   "metadata": {},
   "outputs": [],
   "source": [
    "class GitHubInterface:\n",
    "    @staticmethod\n",
    "    def get_user(username: str):\n",
    "        \"\"\"Finds a specific github user.\"\"\"\n",
    "        if not GitHubChecks.user_exists(username):\n",
    "            raise ValueError(f'The user {username} does not exist')\n",
    "        user = github.get_user(username)\n",
    "        return user\n",
    "    \n",
    "    @staticmethod\n",
    "    def get_repository(username: str, repository: str):\n",
    "        \"\"\"Get a particular repository.\"\"\" \n",
    "        if not GitHubChecks.repository_exists(username, repository):\n",
    "            raise ValueError(f'The repository {repo_name} does not exist.')\n",
    "        repo_name = os.path.join(username, repository)\n",
    "        repo = github.get_repo(repo_name)\n",
    "        return repo\n",
    "    \n",
    "    @staticmethod\n",
    "    def get_file(username: str, repository: str, relative_file_path: str):\n",
    "        \"\"\"Get a particular file from the repo.\"\"\"\n",
    "        if not GitHubChecks.file_exists(username, repository, relative_file_path):\n",
    "                file_path = os.path.join(username, repository, relative_file_path)\n",
    "                raise ValueError(f'The file {file_path} does not exist.')\n",
    "        repo = github.get_repo(os.path.join(username, repository))\n",
    "        file = repo.get_contents(relative_file_path)\n",
    "        file_text = file.decoded_content.decode('utf-8')\n",
    "        return file_text"
   ]
  },
  {
   "cell_type": "code",
   "execution_count": 31,
   "id": "4ae85c86",
   "metadata": {},
   "outputs": [
    {
     "data": {
      "text/plain": [
       "Repository(full_name=\"twyle/pygithub\")"
      ]
     },
     "execution_count": 31,
     "metadata": {},
     "output_type": "execute_result"
    }
   ],
   "source": [
    "gitub_interface = GitHubInterface()\n",
    "gitub_interface.get_repository('twyle', 'pygithub')"
   ]
  },
  {
   "cell_type": "code",
   "execution_count": 32,
   "id": "9ff83454",
   "metadata": {
    "collapsed": true
   },
   "outputs": [
    {
     "data": {
      "text/plain": [
       "'<!DOCTYPE html>\\n<html lang=\"en\">\\n<head>\\n    <meta charset=\"UTF-8\">\\n    <meta http-equiv=\"X-UA-Compatible\" content=\"IE=edge\">\\n    <meta name=\"viewport\" content=\"width=device-width, initial-scale=1.0\">\\n    <title>Video Sahring Website</title>\\n    <link rel=\"stylesheet\" href=\"./css/style.css\">\\n</head>\\n<body>\\n    \\n    <!--------------------------NAVBAR------------------------------>\\n    <nav class=\"flex-div\">\\n\\n        <div class=\"nav-left flex-div\">\\n            <img src=\"img/menu.png\" alt=\"\" class=\"menu-icon\">\\n            <img src=\"img/logo.png\" alt=\"\" class=\"logo\">\\n        </div>\\n\\n        <div class=\"nav-middle flex-div\">\\n            <div class=\"search-box flex-div\">\\n                <input type=\"text\" name=\"\" id=\"\" placeholder=\"Search\">\\n                <img src=\"img/search.png\" alt=\"\">\\n            </div>\\n\\n            <img src=\"img/voice-search.png\" alt=\"\" class=\"mic-icon\">\\n        </div>\\n\\n        <div class=\"nav-right flex-div\">\\n            <img src=\"img/upload.png\" alt=\"\">\\n            <img src=\"img/more.png\" alt=\"\">\\n            <img src=\"img/notification.png\" alt=\"\">\\n            <img src=\"img/Jack.png\" alt=\"\" class=\"user-icon\">\\n        </div>\\n\\n    </nav>\\n    <!--------------------------END OF NAVBAR------------------------------>\\n\\n    <!--------------------------SIDEBAR------------------------------>\\n    <div class=\"sidebar\">\\n\\n        <div class=\"shortcut-links\">\\n            <a href=\"\">\\n                <img src=\"img/home.png\" alt=\"\">\\n                <p>Home</p>\\n            </a>\\n            <a href=\"\">\\n                <img src=\"img/explore.png\" alt=\"\">\\n                <p>Explore</p>\\n            </a>\\n            <a href=\"\">\\n                <img src=\"img/subscription.png\" alt=\"\">\\n                <p>Subscription</p>\\n            </a>\\n            <a href=\"\">\\n                <img src=\"img/library.png\" alt=\"\">\\n                <p>Library</p>\\n            </a>\\n            <a href=\"\">\\n                <img src=\"img/history.png\" alt=\"\">\\n                <p>History</p>\\n            </a>\\n            <a href=\"\">\\n                <img src=\"img/playlist.png\" alt=\"\">\\n                <p>Playlist</p>\\n            </a>\\n            <a href=\"\">\\n                <img src=\"img/messages.png\" alt=\"\">\\n                <p>Messages</p>\\n            </a>\\n            <a href=\"\">\\n                <img src=\"img/show-more.png\" alt=\"\">\\n                <p>Show More</p>\\n            </a>\\n\\n            <hr>\\n        </div>\\n\\n        <div class=\"subscribed-list\">\\n            <h3>SUBSCRIBED</h3>\\n            <a href=\"\">\\n                <img src=\"img/Jack.png\" alt=\"\">\\n                <p>Jack Nicholson</p>\\n            </a>\\n            <a href=\"\">\\n                <img src=\"img/simon.png\" alt=\"\">\\n                <p>Simon Baker</p>\\n            </a>\\n            <a href=\"\">\\n                <img src=\"img/tom.png\" alt=\"\">\\n                <p>Tom Hardy</p>\\n            </a>\\n            <a href=\"\">\\n                <img src=\"img/megan.png\" alt=\"\">\\n                <p>Megan Ryan</p>\\n            </a>\\n            <a href=\"\">\\n                <img src=\"img/cameron.png\" alt=\"\">\\n                <p>Cameron Diaz</p>\\n            </a>\\n        </div>\\n\\n    </div>\\n    <!--------------------------END OF SIDEBAR------------------------------>\\n\\n    <!--------------------------MAIN------------------------------>\\n    <div class=\"container\">\\n\\n        <div class=\"banner\">\\n            <img src=\"img/banner.png\" alt=\"\">\\n        </div>\\n\\n        <div class=\"list-container\">\\n\\n            <div class=\"vid-list\">\\n                <a href=\"play-video.html\">\\n                    <img src=\"img/thumbnail1.png\" alt=\"\" class=\"thumbnail\">\\n                </a>\\n                <div class=\"flex-div\">\\n                    <img src=\"img/Jack.png\" alt=\"\">\\n                    <div class=\"vid-info\">\\n                        <a href=\"play-video.html\">Best channel to learn coding.</a>\\n                        <p>Easy Tutorials</p>\\n                        <p>15k Views &bull; 2 days</p>\\n                    </div>\\n                </div>\\n            </div>\\n\\n            <div class=\"vid-list\">\\n                <a href=\"\">\\n                    <img src=\"img/thumbnail2.png\" alt=\"\" class=\"thumbnail\">\\n                </a>\\n                <div class=\"flex-div\">\\n                    <img src=\"img/Jack.png\" alt=\"\">\\n                    <div class=\"vid-info\">\\n                        <a href=\"\">Best channel to learn coding.</a>\\n                        <p>Easy Tutorials</p>\\n                        <p>15k Views &bull; 2 days</p>\\n                    </div>\\n                </div>\\n            </div>\\n\\n            <div class=\"vid-list\">\\n                <a href=\"\">\\n                    <img src=\"img/thumbnail3.png\" alt=\"\" class=\"thumbnail\">\\n                </a>\\n                <div class=\"flex-div\">\\n                    <img src=\"img/Jack.png\" alt=\"\">\\n                    <div class=\"vid-info\">\\n                        <a href=\"\">Best channel to learn coding.</a>\\n                        <p>Easy Tutorials</p>\\n                        <p>15k Views &bull; 2 days</p>\\n                    </div>\\n                </div>\\n            </div>\\n\\n            <div class=\"vid-list\">\\n                <a href=\"\">\\n                    <img src=\"img/thumbnail4.png\" alt=\"\" class=\"thumbnail\">\\n                </a>\\n                <div class=\"flex-div\">\\n                    <img src=\"img/Jack.png\" alt=\"\">\\n                    <div class=\"vid-info\">\\n                        <a href=\"\">Best channel to learn coding.</a>\\n                        <p>Easy Tutorials</p>\\n                        <p>15k Views &bull; 2 days</p>\\n                    </div>\\n                </div>\\n            </div>\\n\\n            <div class=\"vid-list\">\\n                <a href=\"\">\\n                    <img src=\"img/thumbnail5.png\" alt=\"\" class=\"thumbnail\">\\n                </a>\\n                <div class=\"flex-div\">\\n                    <img src=\"img/Jack.png\" alt=\"\">\\n                    <div class=\"vid-info\">\\n                        <a href=\"\">Best channel to learn coding.</a>\\n                        <p>Easy Tutorials</p>\\n                        <p>15k Views &bull; 2 days</p>\\n                    </div>\\n                </div>\\n            </div>\\n\\n            <div class=\"vid-list\">\\n                <a href=\"\">\\n                    <img src=\"img/thumbnail6.png\" alt=\"\" class=\"thumbnail\">\\n                </a>\\n                <div class=\"flex-div\">\\n                    <img src=\"img/Jack.png\" alt=\"\">\\n                    <div class=\"vid-info\">\\n                        <a href=\"\">Best channel to learn coding.</a>\\n                        <p>Easy Tutorials</p>\\n                        <p>15k Views &bull; 2 days</p>\\n                    </div>\\n                </div>\\n            </div>\\n\\n            <div class=\"vid-list\">\\n                <a href=\"\">\\n                    <img src=\"img/thumbnail7.png\" alt=\"\" class=\"thumbnail\">\\n                </a>\\n                <div class=\"flex-div\">\\n                    <img src=\"img/Jack.png\" alt=\"\">\\n                    <div class=\"vid-info\">\\n                        <a href=\"\">Best channel to learn coding.</a>\\n                        <p>Easy Tutorials</p>\\n                        <p>15k Views &bull; 2 days</p>\\n                    </div>\\n                </div>\\n            </div>\\n\\n            <div class=\"vid-list\">\\n                <a href=\"\">\\n                    <img src=\"img/thumbnail8.png\" alt=\"\" class=\"thumbnail\">\\n                </a>\\n                <div class=\"flex-div\">\\n                    <img src=\"img/Jack.png\" alt=\"\">\\n                    <div class=\"vid-info\">\\n                        <a href=\"\">Best channel to learn coding.</a>\\n                        <p>Easy Tutorials</p>\\n                        <p>15k Views &bull; 2 days</p>\\n                    </div>\\n                </div>\\n            </div>\\n\\n            <div class=\"vid-list\">\\n                <a href=\"\">\\n                    <img src=\"img/thumbnail1.png\" alt=\"\" class=\"thumbnail\">\\n                </a>\\n                <div class=\"flex-div\">\\n                    <img src=\"img/Jack.png\" alt=\"\">\\n                    <div class=\"vid-info\">\\n                        <a href=\"\">Best channel to learn coding.</a>\\n                        <p>Easy Tutorials</p>\\n                        <p>15k Views &bull; 2 days</p>\\n                    </div>\\n                </div>\\n            </div>\\n\\n        </div>\\n\\n    </div>\\n    <!--------------------------END OF MAIN------------------------------>\\n\\n    <script src=\"js/index.js\"></script>\\n</body>\\n</html>'"
      ]
     },
     "execution_count": 32,
     "metadata": {},
     "output_type": "execute_result"
    }
   ],
   "source": [
    "gitub_interface.get_file('twyle', 'web-tutorials', 'youtube-clone/index.html')"
   ]
  },
  {
   "cell_type": "code",
   "execution_count": 114,
   "id": "9445ff50",
   "metadata": {},
   "outputs": [],
   "source": [
    "class TaskCheck:\n",
    "    def __init__(self, user, project, task):\n",
    "        self.__user = user\n",
    "        self.__project = project\n",
    "        self.__task = task\n",
    "    \n",
    "    def get_user(self):\n",
    "        return self.__user\n",
    "        \n",
    "    def get_project(self):\n",
    "        return self.__project\n",
    "        \n",
    "    def get_task(self):\n",
    "        return self.__task\n",
    "    \n",
    "    def get_repo(self):\n",
    "        return self.__project.get_project_repo()\n",
    "    \n",
    "    def get_user_name(self):\n",
    "        return self.__user.get_username()\n",
    "    \n",
    "    def get_repo_type(self):\n",
    "        return self.__project.get_project_repo_type()\n",
    "    \n",
    "    def get_repo_license_type(self):\n",
    "        return self.__project.get_project_repo_license()"
   ]
  },
  {
   "cell_type": "code",
   "execution_count": 115,
   "id": "6319d88d",
   "metadata": {},
   "outputs": [],
   "source": [
    "class TaskFileChecker(TaskCheck):\n",
    "    def __init__(self, user, project, task, file_check: FileCheck):\n",
    "        super().__init__(user, project, task)\n",
    "        self.__file_check = file_check\n",
    "        self.__message = None\n",
    "        \n",
    "    def get_check_message(self):\n",
    "        return self.__message\n",
    "    \n",
    "    def run_check(self):\n",
    "        file_check_type = self.__file_check.get_check_type()\n",
    "        if file_check_type == CheckType.FILE_EXISTS:\n",
    "            file_name = os.path.join(self.get_user_name(), \n",
    "                    self.get_repo(), self.__file_check.get_file())\n",
    "            self.__message = f'Checking for existance of file {file_name} ...'\n",
    "            print(self.__message)\n",
    "            file_exists = self.__file_exists()\n",
    "            return file_exists\n",
    "        elif file_check_type == CheckType.LICENSE_TYPE:\n",
    "            file_name = os.path.join(self.get_user_name(), self.get_repo(), self.__file_check.get_file())\n",
    "            self.__message = f'Checking for type of license for {file_name} ...'\n",
    "            print(self.__message)\n",
    "            license_type = self.__license_type()\n",
    "            return license_type\n",
    "    \n",
    "    def __file_exists(self):\n",
    "        user_name = self.get_user_name()\n",
    "        repo_name = self.get_repo()\n",
    "        file_name = self.__file_check.get_file()\n",
    "        file_path = os.path.join(user_name, repo_name, file_name)\n",
    "        try:\n",
    "            file_exists = GitHubChecks.file_exists(user_name, \n",
    "                                            repo_name, file_name)\n",
    "        except ValueError:\n",
    "            file_exists = False\n",
    "        output = {\n",
    "            file_path: file_exists\n",
    "        }\n",
    "        return output\n",
    "    \n",
    "    def __license_type(self):\n",
    "        license_type = self.get_repo_license_type()\n",
    "        #get the license from github\n",
    "        #check if they match\n",
    "        output = {\n",
    "            f'twyle/SimpleScan/LICENSE is {license_type} License': True\n",
    "        }\n",
    "        return output"
   ]
  },
  {
   "cell_type": "code",
   "execution_count": 116,
   "id": "07def627",
   "metadata": {},
   "outputs": [],
   "source": [
    "class TaskRepoChecker(TaskCheck):\n",
    "    def __init__(self, user, project, task, repo_check: RepoCheck):\n",
    "        super().__init__(user, project, task)\n",
    "        self.__repo_check = repo_check\n",
    "        self.__message = None\n",
    "        \n",
    "    def get_check_message(self):\n",
    "        return self.__message\n",
    "    \n",
    "    def run_check(self):\n",
    "        repo_check_type = self.__repo_check.get_check_type()\n",
    "        if repo_check_type == CheckType.REPO_EXISTS:\n",
    "            repo_name = os.path.join(self.get_user_name(), self.__repo_check.get_repo_name())\n",
    "            self.__message = f'Checking for existance of repository {repo_name} ...'\n",
    "            print(self.__message)\n",
    "            repo_exists = self.__repo_exists()\n",
    "            return repo_exists\n",
    "        if repo_check_type == CheckType.REPO_TYPE:\n",
    "            repo_name = os.path.join(self.get_user_name(), self.__repo_check.get_repo_name())\n",
    "            self.__message = f'Checking for the type of repo for {repo_name} ...'\n",
    "            print(self.__message)\n",
    "            repo_type = self.__repo_type()\n",
    "            return repo_type\n",
    "    \n",
    "    def __repo_exists(self):\n",
    "        repo_name = os.path.join(self.get_user_name(), self.__repo_check.get_repo_name())\n",
    "        username, repository = repo_name.split('/')\n",
    "        repo_exists = GitHubChecks.repository_exists(username, repository)\n",
    "        output = {\n",
    "            repo_name: repo_exists\n",
    "        }\n",
    "        return output\n",
    "    \n",
    "    def __repo_type(self):\n",
    "        repo_type = self.get_repo_type()\n",
    "        #check if repo is like repo_type\n",
    "        output = {\n",
    "            f'twyle/SimpleScan is {repo_type}': True\n",
    "        }\n",
    "        return output"
   ]
  },
  {
   "cell_type": "code",
   "execution_count": 117,
   "id": "8da517e6",
   "metadata": {},
   "outputs": [],
   "source": [
    "class TaskChecker:\n",
    "    def __init__(self, user: User, project: Project, task: Task, \n",
    "                 checks: dict[str, list[Check]]):\n",
    "        self.__checks = checks\n",
    "        self.__user = user\n",
    "        self.__project = project\n",
    "        self.__task = task\n",
    "    \n",
    "    def run_checks(self):\n",
    "        if self.__checks.get('repository_checks'):\n",
    "            for check in self.__checks.get('repository_checks'):\n",
    "                output_repo_checker = TaskRepoChecker(self.__user, self.__project, \n",
    "                                                  self.__task, check)\n",
    "                output = output_repo_checker.run_check()\n",
    "                update_ui(output)\n",
    "        if self.__checks.get('file_checks'):\n",
    "            for check in self.__checks.get('file_checks'):\n",
    "                output_file_checker = TaskFileChecker(self.__user, self.__project, \n",
    "                                                      self.__task, check)\n",
    "                output = output_file_checker.run_check()\n",
    "                update_ui(output)"
   ]
  },
  {
   "cell_type": "code",
   "execution_count": 118,
   "id": "bc6d16f8",
   "metadata": {},
   "outputs": [],
   "source": [
    "def check_task(user: User, project: Project, task: Task, checks: dict[str, list[Check]]):\n",
    "    task_checker = TaskChecker(user, project, task, checks)\n",
    "    task_checker.run_checks()"
   ]
  },
  {
   "cell_type": "code",
   "execution_count": 119,
   "id": "d2ad3964",
   "metadata": {},
   "outputs": [],
   "source": [
    "\"\"\"Create our first user.\"\"\"\n",
    "lyle = User(username='twyle', email='lyceokoth@gmail.com')"
   ]
  },
  {
   "cell_type": "code",
   "execution_count": 120,
   "id": "5575272e",
   "metadata": {},
   "outputs": [],
   "source": [
    "\"\"\"Create our first project\"\"\"\n",
    "\n",
    "title = 'PROJECT ONE'\n",
    "\n",
    "description = '''\n",
    "This is a simple project that requires the student to create a simple repo, a project \n",
    "folder and then a python file with a single function that generates two random numbers.\n",
    "'''\n",
    "\n",
    "outcomes = [\n",
    "    ProjectOutcome('Create a Repository on GitHub.'),\n",
    "    ProjectOutcome('Clone a Remote Repo to Your Local Development Environment.'),\n",
    "    ProjectOutcome('Push changes made on your local development evironment to the remote repo.'),\n",
    "    ProjectOutcome('Use Ubuntu to with Python.'),\n",
    "    ProjectOutcome('Create a function using Python.'),\n",
    "    ProjectOutcome('Work with python packages, particurlaly Random.')\n",
    "]\n",
    "\n",
    "resources = [\n",
    "    Resource(\n",
    "        name='Python Random Module on W3.',\n",
    "        description='An article on the Python Random module from W3.',\n",
    "        resource_type=ResourceType.ARTICLE,\n",
    "        resource_url='https://www.w3schools.com/python/module_random.asp'   \n",
    "    )\n",
    "]\n",
    "\n",
    "instructions = [\n",
    "    Instruction('Use Python3.10 for the tasks.'),\n",
    "    Instruction('Use Ubuntu 22.04 for the tasks.'),\n",
    "    Instruction('You must have a github account.')\n",
    "]\n",
    "\n",
    "project_repo = 'SimpleScan'\n",
    "\n",
    "project_folder = 'test_folder'\n",
    "\n",
    "project_one = create_project(\n",
    "    project_title=title,\n",
    "    project_description=description,\n",
    "    project_outcomes=outcomes,\n",
    "    project_resources=resources,\n",
    "    project_instructions=instructions,\n",
    "    project_repo=project_repo,\n",
    "    project_folder=project_folder\n",
    ")\n",
    "\n",
    "\"\"\"Save project to database.\"\"\"\n",
    "save_project(project_one)"
   ]
  },
  {
   "cell_type": "code",
   "execution_count": null,
   "id": "830cfed9",
   "metadata": {},
   "outputs": [],
   "source": [
    "\"\"\"======================task 1=============================\"\"\""
   ]
  },
  {
   "cell_type": "code",
   "execution_count": 121,
   "id": "81b309ca",
   "metadata": {},
   "outputs": [],
   "source": [
    "\"\"\"Create the first task.\"\"\"\n",
    "repo_name = project_one.get_project_repo()\n",
    "project_id = 1\n",
    "instructions = [\n",
    "    Instruction(f'Create a new repo called {repo_name}.'),\n",
    "    Instruction('Add a short description.'),\n",
    "    Instruction('Make it public.'),\n",
    "    Instruction('Do not include a README.'),\n",
    "    Instruction('Do not add a .gitignore file.'),\n",
    "    Instruction('Give the repo an MIT license.')\n",
    "]\n",
    "task_one = Task(\n",
    "    project_id=project_id,\n",
    "    task_title='Create Github Repo',\n",
    "    task_description='Create an empty GitHub Repo, with an MIT license.',\n",
    "    task_resources = [],\n",
    "    task_instructions = instructions\n",
    ")"
   ]
  },
  {
   "cell_type": "code",
   "execution_count": 122,
   "id": "5ace7a3c",
   "metadata": {},
   "outputs": [],
   "source": [
    "\"\"\"Create task one ouputs\"\"\"\n",
    "\n",
    "task_one_otput_files = ['LICENSE']\n",
    "task_one_outputs = create_task_output(task_one_otput_files)\n",
    "task_one.create_outputs(task_one_outputs)"
   ]
  },
  {
   "cell_type": "code",
   "execution_count": 123,
   "id": "aa4e1a6b",
   "metadata": {},
   "outputs": [],
   "source": [
    "\"\"\"Create the task output checks.\"\"\"\n",
    "\n",
    "repo_name = 'SimpleScan'\n",
    "repo_exists = create_repo_check(repo_name, CheckType.REPO_EXISTS)\n",
    "repo_type = create_repo_check(repo_name, CheckType.REPO_TYPE)\n",
    "\n",
    "license_file_exists = create_file_check('LICENSE', CheckType.FILE_EXISTS)\n",
    "mit_license_file_exists = create_file_check('LICENSE', CheckType.LICENSE_TYPE)\n",
    "readme_file_exists = create_file_check('README.md', CheckType.FILE_EXISTS)\n",
    "gitignore_file_exists = create_file_check('.gitignore', CheckType.FILE_EXISTS)\n",
    "\n",
    "task_one_checks = {\n",
    "    'repository_checks': [\n",
    "        repo_exists,\n",
    "        repo_type\n",
    "    ],\n",
    "    'file_checks': [\n",
    "        readme_file_exists,\n",
    "        gitignore_file_exists,\n",
    "        license_file_exists,\n",
    "        mit_license_file_exists\n",
    "    ]\n",
    "}"
   ]
  },
  {
   "cell_type": "code",
   "execution_count": 124,
   "id": "dff10bf3",
   "metadata": {},
   "outputs": [
    {
     "name": "stdout",
     "output_type": "stream",
     "text": [
      "Checking for existance of repository twyle/SimpleScan ...\n",
      "{'twyle/SimpleScan': True}\n",
      "Checking for the type of repo for twyle/SimpleScan ...\n",
      "{'twyle/SimpleScan is public': True}\n",
      "Checking for existance of file twyle/SimpleScan/README.md ...\n",
      "{'twyle/SimpleScan/README.md': True}\n",
      "Checking for existance of file twyle/SimpleScan/.gitignore ...\n",
      "{'twyle/SimpleScan/.gitignore': False}\n",
      "Checking for existance of file twyle/SimpleScan/LICENSE ...\n",
      "{'twyle/SimpleScan/LICENSE': True}\n",
      "Checking for type of license for twyle/SimpleScan/LICENSE ...\n",
      "{'twyle/SimpleScan/LICENSE is None License': True}\n"
     ]
    }
   ],
   "source": [
    "check_task(user=lyle, project=project_one, task=task_one, \n",
    "           checks=task_one_checks)"
   ]
  },
  {
   "cell_type": "code",
   "execution_count": null,
   "id": "cf606f3b",
   "metadata": {},
   "outputs": [],
   "source": [
    "\"\"\"======================task 2=============================\"\"\""
   ]
  },
  {
   "cell_type": "code",
   "execution_count": 49,
   "id": "a101d2b8",
   "metadata": {},
   "outputs": [],
   "source": [
    "\"\"\"Create the second task.\"\"\"\n",
    "repo_name = project_one.get_project_repo()\n",
    "project_id = 1\n",
    "instructions = [\n",
    "    Instruction(f'Clone the {repo_name} repo created in task one to your computer.'),\n",
    "    Instruction('Create a README file with the project name as title and a short description.'),\n",
    "    Instruction('Save and commit the changes you have made.'),\n",
    "    Instruction('Push the cahnges to the remote repo.'),\n",
    "]\n",
    "task_two = Task(\n",
    "    project_id=project_id,\n",
    "    task_title='Create Github Repo README',\n",
    "    task_description='Create a README file that describes the project.',\n",
    "    task_resources = [],\n",
    "    task_instructions = instructions\n",
    ")"
   ]
  },
  {
   "cell_type": "code",
   "execution_count": 51,
   "id": "d95d3b12",
   "metadata": {},
   "outputs": [],
   "source": [
    "\"\"\"Create task two ouputs\"\"\"\n",
    "\n",
    "task_two_otput_files = ['README.md']\n",
    "task_two_outputs = create_task_output(task_two_otput_files)\n",
    "task_two.create_outputs(task_two_outputs)"
   ]
  },
  {
   "cell_type": "code",
   "execution_count": 97,
   "id": "6fd52ba5",
   "metadata": {},
   "outputs": [],
   "source": [
    "\"\"\"Create the task two output checks.\"\"\"\n",
    "\n",
    "repo_name = 'SimpleScan'\n",
    "readme_file_exists = create_file_check('README.md', CheckType.FILE_EXISTS)\n",
    "#good_readme_file = create_file_check('README.md', CheckType.FILE_EXISTS)\n",
    "task_two_checks = {\n",
    "    'file_checks': [\n",
    "        readme_file_exists\n",
    "    ]\n",
    "}"
   ]
  },
  {
   "cell_type": "code",
   "execution_count": 99,
   "id": "e7c774b2",
   "metadata": {},
   "outputs": [
    {
     "name": "stdout",
     "output_type": "stream",
     "text": [
      "Checking for existance of file twyle/SimpleScan/README.md ...\n",
      "{'twyle/SimpleScan/README.md': True}\n"
     ]
    }
   ],
   "source": [
    "check_task(user=lyle, project=project_one, task=task_two, \n",
    "           checks=task_two_checks)"
   ]
  },
  {
   "cell_type": "code",
   "execution_count": null,
   "id": "8abb57a4",
   "metadata": {},
   "outputs": [],
   "source": [
    "\"\"\"======================task 3=============================\"\"\""
   ]
  },
  {
   "cell_type": "code",
   "execution_count": 131,
   "id": "28e74aea",
   "metadata": {},
   "outputs": [],
   "source": [
    "\"\"\"Create the third task.\"\"\"\n",
    "repo_name = project_one.get_project_repo()\n",
    "project_folder = project_one.get_project_folder()\n",
    "project_id = 1\n",
    "python_file = '0_task.py'\n",
    "\n",
    "instructions = [\n",
    "    Instruction(f'Create the project folder {project_folder} in the repo from step 2.'),\n",
    "    Instruction(f'Create a file called {python_file} in the project folder.'),\n",
    "    Instruction('Indicate the file encoding at the top of the file.'),\n",
    "    Instruction('Save and commit the changes you have made.'),\n",
    "    Instruction('Push the cahnges to the remote repo.'),\n",
    "]\n",
    "task_three = Task(\n",
    "    project_id=project_id,\n",
    "    task_title='Create the Project python file.',\n",
    "    task_description='Create a python script with file encoding.',\n",
    "    task_resources = [],\n",
    "    task_instructions = instructions\n",
    ")"
   ]
  },
  {
   "cell_type": "code",
   "execution_count": 132,
   "id": "af7018b8",
   "metadata": {},
   "outputs": [],
   "source": [
    "\"\"\"Create task three ouputs\"\"\"\n",
    "\n",
    "python_file = '0_task.py'\n",
    "file_path = os.path.join(project_folder, python_file)\n",
    "task_three_otput_files = [file_path]\n",
    "task_three_outputs = create_task_output(task_three_otput_files)\n",
    "task_three.create_outputs(task_three_outputs)"
   ]
  },
  {
   "cell_type": "code",
   "execution_count": 136,
   "id": "b3b37de4",
   "metadata": {},
   "outputs": [],
   "source": [
    "\"\"\"Create the task three output checks.\"\"\"\n",
    "\n",
    "python_file = '0_task.py'\n",
    "file_path = os.path.join(project_folder, python_file)\n",
    "python_file_exists = create_file_check(file_path, \n",
    "                                       CheckType.FILE_EXISTS)\n",
    "#check encoding\n",
    "task_three_checks = {\n",
    "    'file_checks': [\n",
    "        python_file_exists\n",
    "    ]\n",
    "}"
   ]
  },
  {
   "cell_type": "code",
   "execution_count": 138,
   "id": "4abc42c7",
   "metadata": {},
   "outputs": [
    {
     "name": "stdout",
     "output_type": "stream",
     "text": [
      "Checking for existance of file twyle/SimpleScan/test_folder/0_task.py ...\n",
      "{'twyle/SimpleScan/test_folder/0_task.py': True}\n"
     ]
    }
   ],
   "source": [
    "check_task(user=lyle, project=project_one, task=task_three, \n",
    "           checks=task_three_checks)"
   ]
  },
  {
   "cell_type": "code",
   "execution_count": null,
   "id": "dc90d84d",
   "metadata": {},
   "outputs": [],
   "source": [
    "\"\"\"======================task 4=============================\"\"\""
   ]
  },
  {
   "cell_type": "code",
   "execution_count": 141,
   "id": "1725dca6",
   "metadata": {},
   "outputs": [],
   "source": [
    "\"\"\"Create the fourth task.\"\"\"\n",
    "repo_name = project_one.get_project_repo()\n",
    "project_folder = project_one.get_project_folder()\n",
    "project_id = 1\n",
    "python_file = '0_task.py'\n",
    "function_name = 'generate_two_numbers'\n",
    "\n",
    "instructions = [\n",
    "    Instruction(f'Create a python function called {function_name} that generates two random integers using the random package.'),\n",
    "    Instruction('The function takes in no arguments but returns a tuple of two integers between 0 and 5.'),\n",
    "    Instruction('Here is the function signature.'),\n",
    "    Instruction('Add documentation to your function.'),\n",
    "    Instruction('Save and commit the changes you have made.'),\n",
    "    Instruction('Push the cahnges to the remote repo.'),\n",
    "]\n",
    "task_four = Task(\n",
    "    project_id=project_id,\n",
    "    task_title='Create the random integer generator function.',\n",
    "    task_description='Create a python function that generates two random integers between 0 and 5 using the random module.',\n",
    "    task_resources = [],\n",
    "    task_instructions = instructions\n",
    ")"
   ]
  },
  {
   "cell_type": "code",
   "execution_count": null,
   "id": "8a53a95e",
   "metadata": {},
   "outputs": [],
   "source": [
    "def parse_function(func_text):\n",
    "    check_name()\n",
    "    check_signature()\n",
    "    check_args()\n",
    "    check_doc()\n",
    "    check_len()\n",
    "    test_types()/test_execptions()\n",
    "    run_func()\n",
    "    check_returns()"
   ]
  },
  {
   "cell_type": "code",
   "execution_count": 142,
   "id": "e5f26ccd",
   "metadata": {},
   "outputs": [],
   "source": [
    "\"\"\"Create task four ouputs\"\"\"\n",
    "\n",
    "python_file = '0_task.py'\n",
    "file_path = os.path.join(project_folder, python_file)\n",
    "task_four_otput_files = [file_path]\n",
    "task_four_outputs = create_task_output(task_four_otput_files)\n",
    "task_four.create_outputs(task_four_outputs)"
   ]
  },
  {
   "cell_type": "code",
   "execution_count": 143,
   "id": "0d81290e",
   "metadata": {},
   "outputs": [],
   "source": [
    "\"\"\"Create the task four output checks.\"\"\"\n",
    "\n",
    "python_file = '0_task.py'\n",
    "file_path = os.path.join(project_folder, python_file)\n",
    "python_file_exists = create_file_check(file_path, \n",
    "                                       CheckType.FILE_EXISTS)\n",
    "#check encoding\n",
    "task_four_checks = {\n",
    "    'file_checks': [\n",
    "        python_file_exists\n",
    "    ]\n",
    "}"
   ]
  },
  {
   "cell_type": "code",
   "execution_count": 144,
   "id": "d73f2619",
   "metadata": {},
   "outputs": [
    {
     "name": "stdout",
     "output_type": "stream",
     "text": [
      "Checking for existance of file twyle/SimpleScan/test_folder/0_task.py ...\n",
      "{'twyle/SimpleScan/test_folder/0_task.py': True}\n"
     ]
    }
   ],
   "source": [
    "check_task(user=lyle, project=project_one, task=task_four, \n",
    "           checks=task_four_checks)"
   ]
  },
  {
   "cell_type": "code",
   "execution_count": null,
   "id": "a12f8f8a",
   "metadata": {},
   "outputs": [],
   "source": [
    "\"\"\"======================task 5=============================\"\"\""
   ]
  },
  {
   "cell_type": "code",
   "execution_count": 145,
   "id": "023796fb",
   "metadata": {},
   "outputs": [],
   "source": [
    "\"\"\"Create the fifth task.\"\"\"\n",
    "repo_name = project_one.get_project_repo()\n",
    "project_folder = project_one.get_project_folder()\n",
    "project_id = 1\n",
    "python_file = '0_task.py'\n",
    "function_name = 'add_two_numbers'\n",
    "\n",
    "instructions = [\n",
    "    Instruction(f'Create a python function called {function_name} that generates two random integers using the random package.'),\n",
    "    Instruction('The function takes in two integers between 0 and 5 and returns their sum.'),\n",
    "    Instruction('Here is the function signature.'),\n",
    "    Instruction('Add documentation to your function.'),\n",
    "    Instruction('Save and commit the changes you have made.'),\n",
    "    Instruction('Push the cahnges to the remote repo.'),\n",
    "]\n",
    "task_five = Task(\n",
    "    project_id=project_id,\n",
    "    task_title='Create a function that adds two integers.',\n",
    "    task_description='Create a python function that adds two integers between 0 and returns the sum.',\n",
    "    task_resources = [],\n",
    "    task_instructions = instructions\n",
    ")"
   ]
  },
  {
   "cell_type": "code",
   "execution_count": 146,
   "id": "c67db80b",
   "metadata": {},
   "outputs": [],
   "source": [
    "\"\"\"Create task five ouputs\"\"\"\n",
    "\n",
    "python_file = '0_task.py'\n",
    "file_path = os.path.join(project_folder, python_file)\n",
    "task_five_otput_files = [file_path]\n",
    "task_five_outputs = create_task_output(task_five_otput_files)\n",
    "task_five.create_outputs(task_five_outputs)"
   ]
  },
  {
   "cell_type": "code",
   "execution_count": 147,
   "id": "ea3b9f9a",
   "metadata": {},
   "outputs": [],
   "source": [
    "\"\"\"Create the task four output checks.\"\"\"\n",
    "\n",
    "python_file = '0_task.py'\n",
    "file_path = os.path.join(project_folder, python_file)\n",
    "python_file_exists = create_file_check(file_path, \n",
    "                                       CheckType.FILE_EXISTS)\n",
    "#check encoding\n",
    "task_five_checks = {\n",
    "    'file_checks': [\n",
    "        python_file_exists\n",
    "    ]\n",
    "}"
   ]
  },
  {
   "cell_type": "code",
   "execution_count": 148,
   "id": "a8c58062",
   "metadata": {},
   "outputs": [
    {
     "name": "stdout",
     "output_type": "stream",
     "text": [
      "Checking for existance of file twyle/SimpleScan/test_folder/0_task.py ...\n",
      "{'twyle/SimpleScan/test_folder/0_task.py': True}\n"
     ]
    }
   ],
   "source": [
    "check_task(user=lyle, project=project_one, task=task_five, \n",
    "           checks=task_five_checks)"
   ]
  },
  {
   "cell_type": "code",
   "execution_count": null,
   "id": "3939270d",
   "metadata": {},
   "outputs": [],
   "source": [
    "\"\"\"======================task 6=============================\"\"\""
   ]
  },
  {
   "cell_type": "code",
   "execution_count": 149,
   "id": "7f7fe41f",
   "metadata": {},
   "outputs": [],
   "source": [
    "\"\"\"Create the sixth task.\"\"\"\n",
    "repo_name = project_one.get_project_repo()\n",
    "project_folder = project_one.get_project_folder()\n",
    "project_id = 1\n",
    "python_file = 'main.py'\n",
    "gitignore_file = '.gitgnore'\n",
    "\n",
    "instructions = [\n",
    "    Instruction(f'Create a file called {python_file}.'),\n",
    "    Instruction('Import the two functions, generate the two numbers and add them.'),\n",
    "    Instruction('Print the result to standard output.'),\n",
    "    Instruction('Here is how the file will look like.'),\n",
    "    Instruction('Make it executable and run it. Here is the command ./main.py'),\n",
    "    Instruction('This is how your functions will be imported and run.'),\n",
    "    Instruction(f'Create a .gitignore file and add the {python_file}.'),\n",
    "    Instruction('Save and commit the changes you have made.'),\n",
    "    Instruction('Push the cahnges to the remote repo.'),\n",
    "]\n",
    "task_six = Task(\n",
    "    project_id=project_id,\n",
    "    task_title='Test your functions.',\n",
    "    task_description='Create an executable python file that imports your functions and tests them. Also create a gitignore file for the main file.',\n",
    "    task_resources = [],\n",
    "    task_instructions = instructions\n",
    ")"
   ]
  },
  {
   "cell_type": "code",
   "execution_count": 150,
   "id": "b3710c38",
   "metadata": {},
   "outputs": [],
   "source": [
    "\"\"\"Create task six ouputs\"\"\"\n",
    "\n",
    "gitignore_file = '.gitgnore'\n",
    "file_path = os.path.join(project_folder, gitignore_file)\n",
    "task_six_otput_files = [file_path]\n",
    "task_six_outputs = create_task_output(task_six_otput_files)\n",
    "task_six.create_outputs(task_six_outputs)"
   ]
  },
  {
   "cell_type": "code",
   "execution_count": 151,
   "id": "28f16a68",
   "metadata": {},
   "outputs": [],
   "source": [
    "\"\"\"Create the task six output checks.\"\"\"\n",
    "\n",
    "gitignore_file = '.gitgnore'\n",
    "file_path = os.path.join(project_folder, gitignore_file)\n",
    "gitignore_file_exists = create_file_check(file_path, \n",
    "                                       CheckType.FILE_EXISTS)\n",
    "#check encoding\n",
    "task_six_checks = {\n",
    "    'file_checks': [\n",
    "        gitignore_file_exists\n",
    "    ]\n",
    "}"
   ]
  },
  {
   "cell_type": "code",
   "execution_count": 153,
   "id": "cd8cf73e",
   "metadata": {},
   "outputs": [
    {
     "name": "stdout",
     "output_type": "stream",
     "text": [
      "Checking for existance of file twyle/SimpleScan/test_folder/.gitgnore ...\n",
      "{'twyle/SimpleScan/test_folder/.gitgnore': False}\n"
     ]
    }
   ],
   "source": [
    "check_task(user=lyle, project=project_one, task=task_five, \n",
    "           checks=task_six_checks)"
   ]
  },
  {
   "cell_type": "code",
   "execution_count": null,
   "id": "5955a31f",
   "metadata": {},
   "outputs": [],
   "source": []
  }
 ],
 "metadata": {
  "kernelspec": {
   "display_name": "Python 3 (ipykernel)",
   "language": "python",
   "name": "python3"
  },
  "language_info": {
   "codemirror_mode": {
    "name": "ipython",
    "version": 3
   },
   "file_extension": ".py",
   "mimetype": "text/x-python",
   "name": "python",
   "nbconvert_exporter": "python",
   "pygments_lexer": "ipython3",
   "version": "3.10.6"
  }
 },
 "nbformat": 4,
 "nbformat_minor": 5
}
