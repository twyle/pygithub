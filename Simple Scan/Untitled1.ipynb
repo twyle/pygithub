{
 "cells": [
  {
   "cell_type": "code",
   "execution_count": null,
   "id": "75e7a974",
   "metadata": {},
   "outputs": [],
   "source": [
    "\"\"\"\n",
    "PROJECT ONE (Title)\n",
    "-----------\n",
    "\n",
    "Introduction\n",
    "------------\n",
    "This is a simple project that requires the student to create a siple repo, a project \n",
    "folder and then a python file with a single function that generates two randomnumbers\n",
    ".\n",
    "\n",
    "Outcomes\n",
    "--------\n",
    "This project tests your ability to work with github. This includes creating a repo and \n",
    "pushing files to the repo.\n",
    "It also tests your ability to work with Ubuntu. You may need to install Pythonas well \n",
    "as pip, the python package manager.\n",
    "It also tests your ability to work with python packages, in this case Random as well as\n",
    " create functions.\n",
    "\n",
    "By the end of this poject you should be able to create a repository on GitHub, create \n",
    "a python file with a funtion and push your code to GitHub.\n",
    "\n",
    "Resources\n",
    "---------\n",
    "The Random module\n",
    "https://www.geeksforgeeks.org/python-random-module/\n",
    "https://docs.python.org/3/library/random.html\n",
    "https://www.w3schools.com/python/module_random.asp\n",
    "\n",
    "Introduction to git, github\n",
    "\n",
    "Instructions\n",
    "------------\n",
    "Use Python3.10 for the tasks\n",
    "Use Ubuntu 22.04\n",
    "You must have a github account\n",
    "\n",
    "1. Task One\n",
    "    1. Create a repo called SimpleScan on GitHub\n",
    "        1. No README, No Description\n",
    "        2. Include licence (MIT)\n",
    "        3. No gitignore\n",
    "    2. Checks\n",
    "        1. Repo called SimpleScan created\n",
    "        2. License present (MIT)\n",
    "        3. No README\n",
    "        4. No Description\n",
    "        5. No gitignore\n",
    "    3. Run check    \n",
    "\"\"\""
   ]
  },
  {
   "cell_type": "code",
   "execution_count": 1,
   "id": "9d244fbb",
   "metadata": {},
   "outputs": [],
   "source": [
    "from enum import Enum\n",
    "from dataclasses import dataclass\n",
    "import random"
   ]
  },
  {
   "cell_type": "code",
   "execution_count": 2,
   "id": "be38753d",
   "metadata": {},
   "outputs": [],
   "source": [
    "class ResourceType(Enum):\n",
    "    \"\"\"This class identifies different types of learning resources.\"\"\"\n",
    "    YOUTUBE_VIDEO = 'YouTube Video'\n",
    "    ARTICLE = 'Article'"
   ]
  },
  {
   "cell_type": "code",
   "execution_count": 3,
   "id": "f1a3ab71",
   "metadata": {},
   "outputs": [],
   "source": [
    "class Resource:\n",
    "    def __init__(self, name: str, description: str, resource_type: ResourceType, \n",
    "                resource_url: str):\n",
    "        self.__resource_name = name\n",
    "        self.__resource_description = description\n",
    "        self.__resource_type = resource_type\n",
    "        self.__resource_url = resource_url   "
   ]
  },
  {
   "cell_type": "code",
   "execution_count": 4,
   "id": "f125706e",
   "metadata": {},
   "outputs": [],
   "source": [
    "class Instruction:\n",
    "    def __init__(self, text: str):\n",
    "        self.__text = text"
   ]
  },
  {
   "cell_type": "code",
   "execution_count": 5,
   "id": "faba0288",
   "metadata": {},
   "outputs": [],
   "source": [
    "class Outcome:\n",
    "    def __init__(self, text: str):\n",
    "        self.__text = text\n",
    "        \n",
    "class ProjectOutcome(Outcome):\n",
    "    pass\n",
    "\n",
    "class TaskOutcome(Outcome):\n",
    "    pass"
   ]
  },
  {
   "cell_type": "code",
   "execution_count": 6,
   "id": "9a7c9817",
   "metadata": {},
   "outputs": [],
   "source": [
    "class OutPut:\n",
    "    pass\n",
    "\n",
    "class ProjectOutput(OutPut):\n",
    "    pass\n",
    "\n",
    "class TaskOutput(OutPut):\n",
    "    def __init__(self, project_id, task_id):\n",
    "        self.__project_id = project_id\n",
    "        self.__task_id = task_id\n",
    "        self.__output_repo = 'SimpleScan'\n",
    "        self.__project_folder = None\n",
    "        self.__output_files = None\n",
    "        \n",
    "    def create_output_files(self, output_files: list[str]):\n",
    "        self.__output_files = output_files\n",
    "        \n",
    "    def get_output_files(self):\n",
    "        return self.__output_files"
   ]
  },
  {
   "cell_type": "code",
   "execution_count": 7,
   "id": "cedeeabf",
   "metadata": {},
   "outputs": [],
   "source": [
    "class Task:\n",
    "    def __init__(\n",
    "        self,\n",
    "        project_id: int,\n",
    "        task_title: str,\n",
    "        task_description: str,\n",
    "        task_resources: list[Resource],\n",
    "        task_instructions: list[Instruction]\n",
    "    ):\n",
    "        self.__project_id = project_id\n",
    "        self.__task_title = task_title\n",
    "        self.__task_description = task_description\n",
    "        self.__task_resources = task_resources\n",
    "        self.__task_instructions = task_instructions\n",
    "        self.__task_outputs = None\n",
    "        \n",
    "    def get_instructions(self):\n",
    "        return self.__project_instructions\n",
    "\n",
    "    def add_instruction(self, instruction: Instruction):\n",
    "        pass\n",
    "    \n",
    "    def delete_instruction(self, instruction: Instruction):\n",
    "        pass\n",
    "\n",
    "    def create_outputs(self, outputs: TaskOutput):\n",
    "        self.__task_outputs = outputs\n",
    "    \n",
    "    def add_output(self):\n",
    "        pass\n",
    "    \n",
    "    def delete_output(self):\n",
    "        pass\n",
    "    \n",
    "    def get_outputs(self):\n",
    "        return self.__task_outputs.get_output_files()\n",
    "    \n",
    "    def create_resource(self):\n",
    "        pass\n",
    "    \n",
    "    def add_resource(self):\n",
    "        pass\n",
    "    \n",
    "    def delete_resource(self):\n",
    "        pass\n",
    "\n",
    "    def get_resources(self):\n",
    "        pass\n",
    "    \n",
    "    def create_checks(self, checks):\n",
    "        pass\n",
    "    \n",
    "    def get_checks(self):\n",
    "        pass"
   ]
  },
  {
   "cell_type": "code",
   "execution_count": 8,
   "id": "d334cc94",
   "metadata": {},
   "outputs": [],
   "source": [
    "class Project:\n",
    "    def __init__(\n",
    "        self,\n",
    "        project_title: str,\n",
    "        project_description: str,\n",
    "        project_outcomes: list[ProjectOutcome],\n",
    "        project_resources: list[Resource],\n",
    "        project_instructions: list[Instruction],\n",
    "    ):\n",
    "        self.__project_title = project_title\n",
    "        self.__project_description = project_description\n",
    "        self.__project_outcomes = project_outcomes\n",
    "        self.__project_resources = project_resources\n",
    "        self.__project_instructions = project_instructions\n",
    "        self.__project_tasks = None\n",
    "        \n",
    "    def get_instructions(self):\n",
    "        return self.__project_instructions\n",
    "\n",
    "    def add_instruction(self, instruction: Instruction):\n",
    "        pass\n",
    "    \n",
    "    def delete_instruction(self, instruction: Instruction):\n",
    "        pass\n",
    "\n",
    "    def create_outputs(self):\n",
    "        pass\n",
    "    \n",
    "    def add_output(self):\n",
    "        pass\n",
    "    \n",
    "    def delete_output(self):\n",
    "        pass\n",
    "    \n",
    "    def get_outputs(self):\n",
    "        pass\n",
    "    \n",
    "    def create_resource(self):\n",
    "        pass\n",
    "    \n",
    "    def add_resource(self):\n",
    "        pass\n",
    "    \n",
    "    def delete_resource(self):\n",
    "        pass\n",
    "\n",
    "    def get_resources(self):\n",
    "        pass\n",
    "    \n",
    "    def get_outcomes(self):\n",
    "        return self.__project_outcomes\n",
    "\n",
    "    def add_outcome(self, outcome: ProjectOutcome):\n",
    "        pass\n",
    "    \n",
    "    def delete_outcome(self, outcome: ProjectOutcome):\n",
    "        pass"
   ]
  },
  {
   "cell_type": "code",
   "execution_count": 9,
   "id": "18b7d1b3",
   "metadata": {},
   "outputs": [],
   "source": [
    "class Resource:\n",
    "    def __init__(self, name: str, description: str, resource_type: ResourceType, \n",
    "                resource_url: str):\n",
    "        self.__resource_name = name\n",
    "        self.__resource_description = description\n",
    "        self.__resource_type = resource_type\n",
    "        self.__resource_url = resource_url"
   ]
  },
  {
   "cell_type": "code",
   "execution_count": 10,
   "id": "f9ac3f6b",
   "metadata": {},
   "outputs": [],
   "source": [
    "def create_task(\n",
    "    project_id: int,\n",
    "    task_title: str,\n",
    "    task_description: str,\n",
    "    task_resources: list[Resource],\n",
    "    task_instructions: list[Instruction]\n",
    ") -> Task:\n",
    "    task = Task(\n",
    "        project_id,\n",
    "        task_title,\n",
    "        task_description,\n",
    "        task_resources,\n",
    "        task_instructions\n",
    "    )\n",
    "    \n",
    "    return task"
   ]
  },
  {
   "cell_type": "code",
   "execution_count": 12,
   "id": "2e9ab091",
   "metadata": {},
   "outputs": [],
   "source": [
    "def create_project(\n",
    "    project_title: str,\n",
    "    project_description: str,\n",
    "    project_outcomes: list[ProjectOutcome],\n",
    "    project_resources: list[Resource],\n",
    "    project_instructions: list[Instruction]\n",
    ") -> Project:\n",
    "    project = Project(\n",
    "        project_title,\n",
    "        project_description,\n",
    "        project_outcomes,\n",
    "        project_resources,\n",
    "        project_instructions,\n",
    "    )\n",
    "    \n",
    "    return project"
   ]
  },
  {
   "cell_type": "code",
   "execution_count": 13,
   "id": "7b2f151e",
   "metadata": {},
   "outputs": [],
   "source": [
    "title = 'PROJECT ONE'\n",
    "\n",
    "description = '''\n",
    "This is a simple project that requires the student to create a siple repo, a project \n",
    "folder and then a python file with a single function that generates two random numbers.\n",
    "'''\n",
    "\n",
    "outcomes = [\n",
    "    ProjectOutcome('Create a Repository on GitHub.'),\n",
    "    ProjectOutcome('Clone a Remote Repo to Your Local Development Environment.'),\n",
    "    ProjectOutcome('Push changes made on your local development evironment to the remote repo.'),\n",
    "    ProjectOutcome('Use Ubuntu to with Python.'),\n",
    "    ProjectOutcome('Create a function using Python.'),\n",
    "    ProjectOutcome('Work with python packages, particurlaly Random.')\n",
    "]\n",
    "\n",
    "resources = [\n",
    "    Resource(\n",
    "        name='Python Random Module on W3.',\n",
    "        description='An article on the Python Random module from W3.',\n",
    "        resource_type=ResourceType.ARTICLE,\n",
    "        resource_url='https://www.w3schools.com/python/module_random.asp'   \n",
    "    )\n",
    "]\n",
    "\n",
    "instructions = [\n",
    "    Instruction('Use Python3.10 for the tasks.'),\n",
    "    Instruction('Use Ubuntu 22.04 for the tasks.'),\n",
    "    Instruction('You must have a github account.')\n",
    "]\n",
    "\n",
    "project_one = create_project(\n",
    "    project_title=title,\n",
    "    project_description=description,\n",
    "    project_outcomes=outcomes,\n",
    "    project_resources=resources,\n",
    "    project_instructions=instructions\n",
    ")"
   ]
  },
  {
   "cell_type": "code",
   "execution_count": 14,
   "id": "6ea06271",
   "metadata": {},
   "outputs": [],
   "source": [
    "task_one = Task(\n",
    "    project_id=1,\n",
    "    task_title='Create Github Repo',\n",
    "    task_description='Create an empty GitHub Repo, with an MIT license.',\n",
    "    task_resources = [],\n",
    "    task_instructions = [\n",
    "        Instruction('Create an new repo called SimpleScan with no description, an MIT Licence but with no README or gitignore.')\n",
    "    ]\n",
    ")"
   ]
  },
  {
   "cell_type": "code",
   "execution_count": 15,
   "id": "e4102fc8",
   "metadata": {},
   "outputs": [
    {
     "data": {
      "text/plain": [
       "['LICENSE']"
      ]
     },
     "execution_count": 15,
     "metadata": {},
     "output_type": "execute_result"
    }
   ],
   "source": [
    "task_one_outputs = TaskOutput(\n",
    "    project_id=1,\n",
    "    task_id=1\n",
    ")\n",
    "\n",
    "task_one_outputs.create_output_files(['LICENSE'])\n",
    "task_one_outputs.get_output_files()"
   ]
  },
  {
   "cell_type": "code",
   "execution_count": 16,
   "id": "dc8ca933",
   "metadata": {},
   "outputs": [
    {
     "data": {
      "text/plain": [
       "['LICENSE']"
      ]
     },
     "execution_count": 16,
     "metadata": {},
     "output_type": "execute_result"
    }
   ],
   "source": [
    "task_one.create_outputs(task_one_outputs)\n",
    "#SimpleScan/LICENSE\n",
    "task_one.get_outputs()"
   ]
  },
  {
   "cell_type": "code",
   "execution_count": null,
   "id": "96e7e4c3",
   "metadata": {},
   "outputs": [],
   "source": [
    "\"\"\"\n",
    "2. Checks\n",
    "    1. Repo called SimpleScan created\n",
    "    2. License present (MIT)\n",
    "    3. No README\n",
    "    4. No Description\n",
    "    5. No gitignore\n",
    "\"\"\""
   ]
  },
  {
   "cell_type": "code",
   "execution_count": 106,
   "id": "001ecc71",
   "metadata": {},
   "outputs": [],
   "source": [
    "class CheckType:\n",
    "    FILE_EXISTS = 'File Exists'\n",
    "    REPO_EXISTS = 'Repository Exists'"
   ]
  },
  {
   "cell_type": "code",
   "execution_count": 107,
   "id": "10720031",
   "metadata": {},
   "outputs": [],
   "source": [
    "class FileCheck:\n",
    "    def __init__(self, file, check_type):\n",
    "        self.__file = file\n",
    "        self.__check_type = check_type\n",
    "        \n",
    "    def get_file(self):\n",
    "        return self.__file\n",
    "    \n",
    "    def get_check_type(self):\n",
    "        return self.__check_type"
   ]
  },
  {
   "cell_type": "code",
   "execution_count": 108,
   "id": "f01dee9f",
   "metadata": {},
   "outputs": [],
   "source": [
    "def create_file_check(file_name, check_type):\n",
    "    return FileCheck(file_name, check_type)"
   ]
  },
  {
   "cell_type": "code",
   "execution_count": 109,
   "id": "73f693a6",
   "metadata": {},
   "outputs": [],
   "source": [
    "def update_ui(output):\n",
    "    print(output)"
   ]
  },
  {
   "cell_type": "code",
   "execution_count": 110,
   "id": "4b142bd7",
   "metadata": {},
   "outputs": [],
   "source": [
    "class TaskChecker:\n",
    "    def __init__(self, user_id, project_id, task_id):\n",
    "        #github repo\n",
    "        pass\n",
    "    \n",
    "    def run_check(self):\n",
    "        pass\n",
    "\n",
    "class TaskFileChecker(TaskCheck):\n",
    "    def __init__(self, user_id, project_id, task_id, file_check: FileCheck):\n",
    "        super().__init__(user_id, project_id, task_id)\n",
    "        self.__file_check = file_check\n",
    "        self.__message = None\n",
    "        \n",
    "    def get_check_message(self):\n",
    "        return self.__message\n",
    "    \n",
    "    def run_check(self):\n",
    "        file_check_type = self.__file_check.get_check_type()\n",
    "        if file_check_type == CheckType.FILE_EXISTS:\n",
    "            file_name = self.__file_check.get_file()\n",
    "            self.__message = f'Checking for existance of {file_name}...'\n",
    "            print(self.__message)\n",
    "            file_exists = self.__file_exists()\n",
    "            return file_exists\n",
    "    \n",
    "    def __file_exists(self):\n",
    "        file_name = self.__file_check.get_file()\n",
    "        self.__message = f'Checking for existance of {file_name}...'\n",
    "        #check github if file exists\n",
    "        output = {\n",
    "            file_name: random.choice([True, False])\n",
    "        }\n",
    "        return output"
   ]
  },
  {
   "cell_type": "code",
   "execution_count": 111,
   "id": "91833be4",
   "metadata": {},
   "outputs": [],
   "source": [
    "class TaskChecker:\n",
    "    def __init__(self, user_id, project_id, task_id, checks):\n",
    "        self.__checks = checks\n",
    "        self.__user_id = user_id\n",
    "        self.__project_id = project_id\n",
    "        self.__task_id = task_id\n",
    "    \n",
    "    def run_checks(self):\n",
    "        for check in self.__checks:\n",
    "            output_file_checker = TaskFileChecker(self.__user_id, self.__project_id, \n",
    "                                                  self.__task_id, check)\n",
    "            output = output_file_checker.run_check()\n",
    "            update_ui(output)"
   ]
  },
  {
   "cell_type": "code",
   "execution_count": 112,
   "id": "85a9cf72",
   "metadata": {},
   "outputs": [],
   "source": [
    "def check_task(user_id, project_id, task_id, checks):\n",
    "    task_checker = TaskChecker(user_id, project_id, task_id, checks)\n",
    "    task_checker.run_checks()"
   ]
  },
  {
   "cell_type": "code",
   "execution_count": 113,
   "id": "c87c17f0",
   "metadata": {},
   "outputs": [],
   "source": [
    "\"\"\"\n",
    "Create the checks:\n",
    "1. Repo called SimpleScan created\n",
    "2. License present (MIT)\n",
    "3. No README\n",
    "4. No Description\n",
    "5. No gitignore\n",
    "\"\"\"\n",
    "\n",
    "mit_license_file_exists = create_file_check('LICENSE', CheckType.FILE_EXISTS)\n",
    "readme_file_present = create_file_check('README.md', CheckType.FILE_EXISTS)\n",
    "gitignore_file_present = create_file_check('.gitignore', CheckType.FILE_EXISTS)"
   ]
  },
  {
   "cell_type": "code",
   "execution_count": 114,
   "id": "88097fec",
   "metadata": {},
   "outputs": [],
   "source": [
    "file_checks = [\n",
    "    mit_license_file_exists,\n",
    "    readme_file_present,\n",
    "    gitignore_file_present\n",
    "]"
   ]
  },
  {
   "cell_type": "code",
   "execution_count": 115,
   "id": "773c2436",
   "metadata": {},
   "outputs": [
    {
     "name": "stdout",
     "output_type": "stream",
     "text": [
      "Checking for existance of LICENSE...\n",
      "{'LICENSE': True}\n",
      "Checking for existance of README.md...\n",
      "{'README.md': False}\n",
      "Checking for existance of .gitignore...\n",
      "{'.gitignore': True}\n"
     ]
    }
   ],
   "source": [
    "check_task(1, 1, 1, file_checks)"
   ]
  },
  {
   "cell_type": "code",
   "execution_count": null,
   "id": "be41a715",
   "metadata": {},
   "outputs": [],
   "source": []
  }
 ],
 "metadata": {
  "kernelspec": {
   "display_name": "Python 3 (ipykernel)",
   "language": "python",
   "name": "python3"
  },
  "language_info": {
   "codemirror_mode": {
    "name": "ipython",
    "version": 3
   },
   "file_extension": ".py",
   "mimetype": "text/x-python",
   "name": "python",
   "nbconvert_exporter": "python",
   "pygments_lexer": "ipython3",
   "version": "3.10.6"
  }
 },
 "nbformat": 4,
 "nbformat_minor": 5
}
