{
 "cells": [
  {
   "cell_type": "code",
   "execution_count": 6,
   "id": "be5441fa",
   "metadata": {},
   "outputs": [],
   "source": [
    "# In this notebook, I aim to:\n",
    "# 1. Check if a user exists\n",
    "# 2. Check if a repository exists\n",
    "# 3. Check if a README exists in the project root\n",
    "# 4. Check if project folder exists\n",
    "# 5. Check if project files exist\n",
    "#     1. README\n",
    "#     2. Main File\n",
    "#     3. gitignore file\n",
    "# 6. Check if tests exist\n",
    "# 7. Check main file\n",
    "#     1. Executable\n",
    "#     2. Documented\n",
    "#         Script\n",
    "#         Functions\n",
    "#     3. Functions exist\n",
    "    \n",
    "# pycov\n",
    "# pytest\n",
    "# flake8\n",
    "# pydoc\n",
    "# isort\n",
    "\n",
    "#chat\n",
    "#Library"
   ]
  },
  {
   "cell_type": "code",
   "execution_count": 1,
   "id": "2b286d38",
   "metadata": {},
   "outputs": [
    {
     "data": {
      "text/plain": [
       "True"
      ]
     },
     "execution_count": 1,
     "metadata": {},
     "output_type": "execute_result"
    }
   ],
   "source": [
    "from github import Github\n",
    "from dotenv import load_dotenv\n",
    "import os\n",
    "from github.GithubException import UnknownObjectException, GithubException\n",
    "load_dotenv()"
   ]
  },
  {
   "cell_type": "code",
   "execution_count": 2,
   "id": "8b8fafb7",
   "metadata": {},
   "outputs": [],
   "source": [
    "github_api_key = os.environ['GITHUB_API_KEY']"
   ]
  },
  {
   "cell_type": "code",
   "execution_count": 4,
   "id": "cd158046",
   "metadata": {},
   "outputs": [],
   "source": [
    "# using an access token\n",
    "github = Github(github_api_key)"
   ]
  },
  {
   "cell_type": "code",
   "execution_count": 5,
   "id": "49f4e96e",
   "metadata": {},
   "outputs": [],
   "source": [
    "def user_exists(username: str):\n",
    "    \"\"\"Checks if a user exists\"\"\"\n",
    "    if not username:\n",
    "        raise ValueError('The username must be provided')\n",
    "    if not isinstance(username, str):\n",
    "        raise TypeError('The username must be a string')\n",
    "    user = github.get_user(username)\n",
    "    if user.name:\n",
    "        return True\n",
    "    else:\n",
    "        return False\n",
    "\n",
    "def get_user(username: str):\n",
    "    \"\"\"Finds a specific githu user.\"\"\"\n",
    "    if not username:\n",
    "        raise ValueError('The username must be provided')\n",
    "    if not isinstance(username, str):\n",
    "        raise TypeError('The username must be a string')\n",
    "    if not user_exists(username):\n",
    "        raise ValueError(f'The user {username} does not exist')\n",
    "    user = github.get_user(username)\n",
    "    return user"
   ]
  },
  {
   "cell_type": "code",
   "execution_count": 6,
   "id": "123b2a9c",
   "metadata": {},
   "outputs": [
    {
     "data": {
      "text/plain": [
       "NamedUser(login=\"twyle\")"
      ]
     },
     "execution_count": 6,
     "metadata": {},
     "output_type": "execute_result"
    }
   ],
   "source": [
    "#Check if user exists\n",
    "get_user('twyle')"
   ]
  },
  {
   "cell_type": "code",
   "execution_count": 7,
   "id": "3e6f1fca",
   "metadata": {},
   "outputs": [],
   "source": [
    "get_user('123')"
   ]
  },
  {
   "cell_type": "code",
   "execution_count": 7,
   "id": "474c78e9",
   "metadata": {},
   "outputs": [],
   "source": [
    "def repository_exists(username: str, repository: str):\n",
    "    \"\"\"Check if a repository exists.\"\"\"\n",
    "    if not username:\n",
    "        raise ValueError('The username must be provided')\n",
    "    if not isinstance(username, str):\n",
    "        raise TypeError('The username must be a string')\n",
    "    if not repository:\n",
    "        raise ValueError('The repository must be provided')\n",
    "    if not isinstance(repository, str):\n",
    "        raise TypeError('The repository must be a string')\n",
    "    repo_name = username + \"/\" + repository\n",
    "    try:\n",
    "        repo = github.get_repo(repo_name)\n",
    "    except UnknownObjectException:\n",
    "        return False\n",
    "    return True        "
   ]
  },
  {
   "cell_type": "code",
   "execution_count": 13,
   "id": "3733ac34",
   "metadata": {},
   "outputs": [],
   "source": [
    "repository_exists('lyle', 'python')"
   ]
  },
  {
   "cell_type": "code",
   "execution_count": 14,
   "id": "9ce306f7",
   "metadata": {},
   "outputs": [],
   "source": [
    "repository_exists('twyle', 'pygithub')"
   ]
  },
  {
   "cell_type": "code",
   "execution_count": 8,
   "id": "05bd1bf6",
   "metadata": {},
   "outputs": [],
   "source": [
    "def get_repository(username: str, repository: str):\n",
    "    \"\"\"Get a particular repository.\"\"\"\n",
    "    if not username:\n",
    "        raise ValueError('The username must be provided')\n",
    "    if not isinstance(username, str):\n",
    "        raise TypeError('The username must be a string')\n",
    "    if not repository:\n",
    "        raise ValueError('The repository must be provided')\n",
    "    if not isinstance(repository, str):\n",
    "        raise TypeError('The repository must be a string')\n",
    "    repo_name = username + \"/\" + repository\n",
    "    if not repository_exists(username,repository):\n",
    "        raise ValueError(f'The repository {repo_name} does not exist.')\n",
    "    repo = github.get_repo(repo_name)\n",
    "    return repo"
   ]
  },
  {
   "cell_type": "code",
   "execution_count": 16,
   "id": "76b15b3d",
   "metadata": {},
   "outputs": [],
   "source": [
    "get_repository('lyle', 'python')"
   ]
  },
  {
   "cell_type": "code",
   "execution_count": null,
   "id": "ed25bb53",
   "metadata": {},
   "outputs": [],
   "source": [
    "get_repository('twyle', 'pygithub')"
   ]
  },
  {
   "cell_type": "code",
   "execution_count": null,
   "id": "e9812883",
   "metadata": {},
   "outputs": [],
   "source": [
    "repo = get_repository('twyle', 'pygithub')"
   ]
  },
  {
   "cell_type": "code",
   "execution_count": null,
   "id": "95fd1548",
   "metadata": {},
   "outputs": [],
   "source": [
    "cc = repo.get_contents('README.md')"
   ]
  },
  {
   "cell_type": "code",
   "execution_count": null,
   "id": "e5ad036c",
   "metadata": {},
   "outputs": [],
   "source": [
    "cc.decoded_content.decode('utf-8')"
   ]
  },
  {
   "cell_type": "code",
   "execution_count": null,
   "id": "5ebb3ed2",
   "metadata": {},
   "outputs": [],
   "source": [
    "\"\"\"\n",
    "Each task will require the README to contain some type of information. For the project\n",
    "root, the README should contain:\n",
    "1. Project name/ Title\n",
    "2. A short decription\n",
    "3. The Author\n",
    "\"\"\""
   ]
  },
  {
   "cell_type": "code",
   "execution_count": 9,
   "id": "bf6a6551",
   "metadata": {},
   "outputs": [],
   "source": [
    "def check_root_readme(username: str, repository: str):\n",
    "    \"\"\"Check if README is present in the given repository.\"\"\"\n",
    "    if not username:\n",
    "        raise ValueError('The username must be provided')\n",
    "    if not isinstance(username, str):\n",
    "        raise TypeError('The username must be a string')\n",
    "    if not repository:\n",
    "        raise ValueError('The repository must be provided')\n",
    "    if not isinstance(repository, str):\n",
    "        raise TypeError('The repository must be a string')\n",
    "    repo_name = username + \"/\" + repository\n",
    "    if not repository_exists(username,repository):\n",
    "        raise ValueError(f'The repository {repo_name} does not exist.')\n",
    "    repo = get_repository(username, repository)\n",
    "    try:\n",
    "        readme = repo.get_contents('README.md')\n",
    "    except GithubException:\n",
    "        return False\n",
    "    return True\n",
    "\n",
    "def get_root_readme(username: str, repository: str):\n",
    "    \"\"\"Get the README for the given repo.\"\"\"\n",
    "    if not username:\n",
    "        raise ValueError('The username must be provided')\n",
    "    if not isinstance(username, str):\n",
    "        raise TypeError('The username must be a string')\n",
    "    if not repository:\n",
    "        raise ValueError('The repository must be provided')\n",
    "    if not isinstance(repository, str):\n",
    "        raise TypeError('The repository must be a string')\n",
    "    repo_name = username + \"/\" + repository\n",
    "    if not repository_exists(username,repository):\n",
    "        raise ValueError(f'The repository {repo_name} does not exist.')\n",
    "    if not check_root_readme(username, repository):\n",
    "        raise ValuError(f'The README file does not exist for repo {repo_name}')\n",
    "    repo = get_repository(username, repository)\n",
    "    readme = repo.get_contents('README.md')\n",
    "    readme_text = readme.decoded_content.decode('utf-8')\n",
    "    return readme_text\n",
    "\n",
    "def readme_empty(readme_str: str):\n",
    "    \"\"\"Check if the readme is empty.\"\"\"\n",
    "    if not readme:\n",
    "        return True\n",
    "    return False\n",
    "\n",
    "def parse_root_readme():\n",
    "    \"\"\"Check if README contains all the neccessary information about the project.\n",
    "    \n",
    "    The root README should contain:\n",
    "    1. Project name/ Title\n",
    "    2. A short decription\n",
    "    3. The Author\n",
    "    \"\"\"\n",
    "    pass"
   ]
  },
  {
   "cell_type": "code",
   "execution_count": null,
   "id": "fb422567",
   "metadata": {},
   "outputs": [],
   "source": [
    "check_root_readme('twyle', 'pygithub')"
   ]
  },
  {
   "cell_type": "code",
   "execution_count": null,
   "id": "fbabceb2",
   "metadata": {},
   "outputs": [],
   "source": [
    "check_root_readme('twyle', 'python-design-patterns')"
   ]
  },
  {
   "cell_type": "code",
   "execution_count": null,
   "id": "2df8c476",
   "metadata": {},
   "outputs": [],
   "source": [
    "get_root_readme('twyle', 'pygithub')"
   ]
  },
  {
   "cell_type": "code",
   "execution_count": null,
   "id": "8e577da7",
   "metadata": {
    "scrolled": true
   },
   "outputs": [],
   "source": [
    "repo = get_repository('twyle', 'python-design-patterns')\n",
    "repo.get_license()"
   ]
  },
  {
   "cell_type": "code",
   "execution_count": 10,
   "id": "6a489806",
   "metadata": {},
   "outputs": [],
   "source": [
    "def check_license(username: str, repository: str):\n",
    "    \"\"\"Check if license exists.\"\"\"\n",
    "    if not username:\n",
    "        raise ValueError('The username must be provided')\n",
    "    if not isinstance(username, str):\n",
    "        raise TypeError('The username must be a string')\n",
    "    if not repository:\n",
    "        raise ValueError('The repository must be provided')\n",
    "    if not isinstance(repository, str):\n",
    "        raise TypeError('The repository must be a string')\n",
    "    repo_name = username + \"/\" + repository\n",
    "    if not repository_exists(username,repository):\n",
    "        raise ValueError(f'The repository {repo_name} does not exist.')\n",
    "    repo = get_repository(username, repository)   \n",
    "    try:\n",
    "        repo.get_license()\n",
    "    except UnknownObjectException:\n",
    "        return False\n",
    "    return True\n",
    "\n",
    "def get_license(username: str, repository: str):\n",
    "    \"\"\"Get the repository license.\"\"\"\n",
    "    if not username:\n",
    "        raise ValueError('The username must be provided')\n",
    "    if not isinstance(username, str):\n",
    "        raise TypeError('The username must be a string')\n",
    "    if not repository:\n",
    "        raise ValueError('The repository must be provided')\n",
    "    if not isinstance(repository, str):\n",
    "        raise TypeError('The repository must be a string')\n",
    "    repo_name = username + \"/\" + repository\n",
    "    if not repository_exists(username,repository):\n",
    "        raise ValueError(f'The repository {repo_name} does not exist.')\n",
    "    if not check_license(username, repository):\n",
    "        raise ValuError(f'The repository {repo_name} has no license')\n",
    "    repo = get_repository(username, repository)\n",
    "    license = repo.get_license()\n",
    "    license_text = license.decoded_content.decode('utf-8')\n",
    "    return license_text\n",
    "\n",
    "def check_license_type(license_text: str):\n",
    "    \"\"\"Check the type of license.\"\"\"\n",
    "    if not license_text:\n",
    "        raise ValuErro('The license text must be provided')\n",
    "    if not isinstance(license_text, str):\n",
    "        raise TypeError('The license text must be a string')\n",
    "    license = license_text.split('\\n')[0]\n",
    "    return license   "
   ]
  },
  {
   "cell_type": "code",
   "execution_count": null,
   "id": "128684cc",
   "metadata": {},
   "outputs": [],
   "source": [
    "check_license('twyle', 'pygithub')"
   ]
  },
  {
   "cell_type": "code",
   "execution_count": null,
   "id": "266d2794",
   "metadata": {},
   "outputs": [],
   "source": [
    "check_license('twyle', 'python-design-patterns')"
   ]
  },
  {
   "cell_type": "code",
   "execution_count": null,
   "id": "44febe01",
   "metadata": {},
   "outputs": [],
   "source": [
    "get_license('twyle', 'pygithub')"
   ]
  },
  {
   "cell_type": "code",
   "execution_count": null,
   "id": "3f6ffd2e",
   "metadata": {},
   "outputs": [],
   "source": [
    "x = 'MIT License\\n\\nCopyright (c) 2023 lyle okoth\\n\\nPermission is hereby granted, free of charge, to any person obtaining a copy\\nof this software and associated documentation files (the \"Software\"), to deal\\nin the Software without restriction, including without limitation the rights\\nto use, copy, modify, merge, publish, distribute, sublicense, and/or sell\\ncopies of the Software, and to permit persons to whom the Software is\\nfurnished to do so, subject to the following conditions:\\n\\nThe above copyright notice and this permission notice shall be included in all\\ncopies or substantial portions of the Software.\\n\\nTHE SOFTWARE IS PROVIDED \"AS IS\", WITHOUT WARRANTY OF ANY KIND, EXPRESS OR\\nIMPLIED, INCLUDING BUT NOT LIMITED TO THE WARRANTIES OF MERCHANTABILITY,\\nFITNESS FOR A PARTICULAR PURPOSE AND NONINFRINGEMENT. IN NO EVENT SHALL THE\\nAUTHORS OR COPYRIGHT HOLDERS BE LIABLE FOR ANY CLAIM, DAMAGES OR OTHER\\nLIABILITY, WHETHER IN AN ACTION OF CONTRACT, TORT OR OTHERWISE, ARISING FROM,\\nOUT OF OR IN CONNECTION WITH THE SOFTWARE OR THE USE OR OTHER DEALINGS IN THE\\nSOFTWARE.\\n'"
   ]
  },
  {
   "cell_type": "code",
   "execution_count": null,
   "id": "f08df18f",
   "metadata": {},
   "outputs": [],
   "source": [
    "check_license_type(x)"
   ]
  },
  {
   "cell_type": "code",
   "execution_count": null,
   "id": "e3e98a3a",
   "metadata": {},
   "outputs": [],
   "source": [
    "repo = get_repository('twyle', 'pygithub')\n",
    "repo_root = repo.get_contents(\"\")"
   ]
  },
  {
   "cell_type": "code",
   "execution_count": null,
   "id": "2c91195c",
   "metadata": {},
   "outputs": [],
   "source": [
    "repo_root"
   ]
  },
  {
   "cell_type": "code",
   "execution_count": null,
   "id": "d77aa4d6",
   "metadata": {},
   "outputs": [],
   "source": [
    "repo.get_contents(\"Simple Tutorial\")"
   ]
  },
  {
   "cell_type": "code",
   "execution_count": null,
   "id": "fed7897a",
   "metadata": {},
   "outputs": [],
   "source": [
    "repo.get_contents(\"Simple Tutorial a\")"
   ]
  },
  {
   "cell_type": "code",
   "execution_count": 11,
   "id": "bb693526",
   "metadata": {},
   "outputs": [],
   "source": [
    "class RepoDetails:\n",
    "    def __init__(self, username, repository):\n",
    "        self.__username = username\n",
    "        self.__repository = repository\n",
    "        \n",
    "class UserDetails:\n",
    "    def __init__(self, first_name, last_name, profile_pic_url, email_address):\n",
    "        self.__first_name = first_name\n",
    "        self.__last_name = last_name\n",
    "        self.__profile_pic_url = profile_pic_url\n",
    "        self.__email_address = email_address"
   ]
  },
  {
   "cell_type": "code",
   "execution_count": 12,
   "id": "a4cf3fa1",
   "metadata": {},
   "outputs": [],
   "source": [
    "class User:\n",
    "    def __init__(self, user_details, repo_details):\n",
    "        self.__user_details = user_details\n",
    "        self.__repo_details = repo_details\n",
    "        self.__tasks = ''\n",
    "    \n",
    "    @staticmethod\n",
    "    def check_user_exists_by_id(user_id):\n",
    "        \"\"\"Check if user exists.\"\"\"\n",
    "        pass\n",
    "    \n",
    "    @staticmethod\n",
    "    def get_user_by_id(user_id):\n",
    "        \"\"\"Get a particular user.\"\"\"\n",
    "        pass"
   ]
  },
  {
   "cell_type": "code",
   "execution_count": 13,
   "id": "c0087b3e",
   "metadata": {},
   "outputs": [],
   "source": [
    "class Task:\n",
    "    def __init__(self):\n",
    "        self.__task_id: int = 1\n",
    "        self.__task_name = ''\n",
    "        self.__task_folder_path = ''\n",
    "        self.__task_description = ''\n",
    "        self.__task_resources = {}\n",
    "        self.__task_instructions = {}\n",
    "        self.__task_dates = {}\n",
    "        self.__outcome = {}\n",
    "        self.__task_python_files = []\n",
    "        self.__output_files = []\n",
    "        self.__repository = ''\n",
    "        \n",
    "    @staticmethod\n",
    "    def check_task_exists_by_id(task_id):\n",
    "        \"\"\"Check if task exists.\"\"\"\n",
    "        pass\n",
    "    \n",
    "    @staticmethod\n",
    "    def get_task_by_id(user_id):\n",
    "        \"\"\"Get a particular task.\"\"\"\n",
    "        pass\n",
    "    \n",
    "    def get_task_python_files(self):\n",
    "        \"\"\"Get the python files for this task.\"\"\"\n",
    "        return self.__task_python_files"
   ]
  },
  {
   "cell_type": "code",
   "execution_count": 14,
   "id": "49e89707",
   "metadata": {},
   "outputs": [],
   "source": [
    "class ResourceType:\n",
    "    YOUTUBE_VIDEO = 'YouTube Video'\n",
    "    ARTICLE = 'Article'\n",
    "    STACKOVERFLOW_ANSWER = 'StackOverflow Answer'\n",
    "    PDF_BOOK = 'PDF Book'\n",
    "    IMAGE = 'Image'\n",
    "    UML_DIAGRAM = 'UML Diagram'\n",
    "\n",
    "class Resource:\n",
    "    def __init__(self):\n",
    "        self.__resource_id = ''\n",
    "        self.__resource_name = ''\n",
    "        self.__resource_type = ''\n",
    "        self.__resource_url = ''\n",
    "        self.__description = ''\n",
    "        self.__tags = []"
   ]
  },
  {
   "cell_type": "code",
   "execution_count": 15,
   "id": "66aad01d",
   "metadata": {},
   "outputs": [],
   "source": [
    "class Instruction:\n",
    "    def __init__(self):\n",
    "        self.__instruction_id = ''\n",
    "        self.__instruction_text = ''\n",
    "        self.instruction_type = ''"
   ]
  },
  {
   "cell_type": "code",
   "execution_count": null,
   "id": "16e30224",
   "metadata": {},
   "outputs": [],
   "source": []
  },
  {
   "cell_type": "code",
   "execution_count": 16,
   "id": "f4dfc0bb",
   "metadata": {},
   "outputs": [],
   "source": [
    "class Project:\n",
    "    def __init__(self):\n",
    "        self.__project_id = ''\n",
    "        self.__tasks = []\n",
    "        self.__description = ''\n",
    "        self.__outcomes = []\n",
    "        self.__resources = []\n",
    "        self.__requirements = []\n",
    "        self.__documentation = []\n",
    "        self.__repository = ''"
   ]
  },
  {
   "cell_type": "code",
   "execution_count": 17,
   "id": "81151c93",
   "metadata": {},
   "outputs": [],
   "source": [
    "class Function:\n",
    "    def __init__():\n",
    "        self.__name = ''\n",
    "        self.__text = ''\n",
    "    \n",
    "    def parse_signature(self):\n",
    "        pass\n",
    "    \n",
    "    def parse_args(self):\n",
    "        pass\n",
    "    \n",
    "    def parse_doc(self):\n",
    "        pass\n",
    "    \n",
    "    def parse_return(self):\n",
    "        pass\n",
    "    \n",
    "    def parse_body(self):\n",
    "        pass\n",
    "    \n",
    "    def execute(self):\n",
    "        pass"
   ]
  },
  {
   "cell_type": "code",
   "execution_count": 18,
   "id": "b743bba7",
   "metadata": {},
   "outputs": [],
   "source": [
    "class Filetype:\n",
    "    PYTHON = 'Python'\n",
    "    GITIGNORE = 'gitignore'\n",
    "    README = 'README'\n",
    "    ENV = 'env'\n",
    "    REQUIREMENTS = 'requirements'\n",
    "    \n",
    "    \n",
    "\n",
    "class File:\n",
    "    def __init__():\n",
    "        self.__file_name = ''\n",
    "        self.__file_extension = ''\n",
    "        self.__file_type = ''\n",
    "        self.__content = ''\n",
    "        \n",
    "    def parse(self, task_id):\n",
    "        pass\n",
    "    \n",
    "class PythonFile(File):\n",
    "    def __init__(self):\n",
    "        super.__init__()\n",
    "        self.__is_main = False\n",
    "        \n",
    "    def parse_encoding():\n",
    "        pass\n",
    "    \n",
    "    def parse_file_doc():\n",
    "        pass\n",
    "    \n",
    "    def parse_imports():\n",
    "        pass\n",
    "    \n",
    "    def parse_main():\n",
    "        pass\n",
    "    \n",
    "    def execute(self):\n",
    "        pass\n",
    "    \n",
    "class ReadmeFile(File):\n",
    "    def __init__(self):\n",
    "        super.__init__()\n",
    "        \n",
    "        \n",
    "class RequirementsFile(File):\n",
    "    def __init__(self):\n",
    "        super.__init__()\n",
    "        \n",
    "class GitIgnoreFile(File):\n",
    "    def __init__(self):\n",
    "        super.__init__()"
   ]
  },
  {
   "cell_type": "code",
   "execution_count": 20,
   "id": "fde041ed",
   "metadata": {},
   "outputs": [],
   "source": [
    "class File:\n",
    "    def __init__():\n",
    "        pass"
   ]
  },
  {
   "cell_type": "code",
   "execution_count": 21,
   "id": "698d4f20",
   "metadata": {},
   "outputs": [],
   "source": [
    "class UserTask:\n",
    "    def __init__(self, user_id, project_id, task_id):\n",
    "        self.__user_id = user_id\n",
    "        self.__project_id = project_id\n",
    "        self.__task_id = task_id\n",
    "        self.__completed = False"
   ]
  },
  {
   "cell_type": "code",
   "execution_count": 22,
   "id": "5a647b50",
   "metadata": {},
   "outputs": [],
   "source": [
    "class UserProject:\n",
    "    def __init__(self, user_id, project_id):\n",
    "        self.__user_id = user_id\n",
    "        self.__project_id = project_id\n",
    "        self.__user_tasks = []\n",
    "        self.__progress = {}"
   ]
  },
  {
   "cell_type": "code",
   "execution_count": 23,
   "id": "dc66c6a0",
   "metadata": {},
   "outputs": [],
   "source": [
    "class Quiz:\n",
    "    def __init__(self):\n",
    "        self.__quiz_id = ''\n",
    "        self.__project_id = ''\n",
    "        self.tags = []\n",
    "    \n",
    "        \n",
    "class Question:\n",
    "    def __init__(self):\n",
    "        self.question_id = ''\n",
    "        self.quiz_id = ''\n",
    "        self.question_text = ''\n",
    "        self.question_answer = ''\n",
    "        self.tags = []\n",
    "        self.resources = []\n",
    "        \n",
    "class MultiChoiceQuestion(Question):\n",
    "    pass\n",
    "\n",
    "class SingleChoiceQuestion(Question):\n",
    "    pass"
   ]
  },
  {
   "cell_type": "code",
   "execution_count": 24,
   "id": "cbe9c172",
   "metadata": {},
   "outputs": [],
   "source": [
    "def check_task_exists(task_id: int):\n",
    "    \"\"\"Check if the task exists.\"\"\"\n",
    "    if not task_id:\n",
    "        raise ValuError('The task_id must be provided.')\n",
    "    if not isinstance(task_id, int):\n",
    "        raise TypeError('The task_id must be an integer')\n",
    "    if task_id < 1:\n",
    "        raise ValuError('The task_id cannot be smaller than one')\n",
    "    return True\n",
    "\n",
    "def get_task(task_id: int):\n",
    "    \"\"\"Get a particular task details.\"\"\"\n",
    "    pass"
   ]
  },
  {
   "cell_type": "code",
   "execution_count": 32,
   "id": "be48b637",
   "metadata": {},
   "outputs": [],
   "source": [
    "def get_project_folder_name(task_id: int):\n",
    "    \"\"\"Get the project folder name.\"\"\"\n",
    "    if not check_task_exists(task_id):\n",
    "        raise ValueError(f'The task with {task_id} does not exist')\n",
    "    #Return project_folder_name\n",
    "    #return 'test'\n",
    "    return 'SimpleScan'\n",
    "\n",
    "def check_project_folder(task_id: int, username: str, repository: str):\n",
    "    \"\"\"Check if the project folder exists.\"\"\"\n",
    "    if not task_id:\n",
    "        raise ValuError('The task_id must be provided.')\n",
    "    if not isinstance(task_id, int):\n",
    "        raise TypeError('The task_id must be an integer')\n",
    "    if task_id < 1:\n",
    "        raise ValuError('The task_id cannot be smaller than one')\n",
    "    #Check if task exists\n",
    "    if not username:\n",
    "        raise ValueError('The username must be provided')\n",
    "    if not isinstance(username, str):\n",
    "        raise TypeError('The username must be a string')\n",
    "    if not repository:\n",
    "        raise ValueError('The repository must be provided')\n",
    "    if not isinstance(repository, str):\n",
    "        raise TypeError('The repository must be a string')\n",
    "    repo_name = username + \"/\" + repository\n",
    "    if not repository_exists(username,repository):\n",
    "        raise ValueError(f'The repository {repo_name} does not exist.')\n",
    "    project_folder_name = get_project_folder_name(task_id)\n",
    "    repo = get_repository(username, repository)\n",
    "    try:\n",
    "        repo.get_contents(project_folder_name)\n",
    "    except UnknownObjectException:\n",
    "        return False\n",
    "    except GithubException:\n",
    "        return False\n",
    "    return True"
   ]
  },
  {
   "cell_type": "code",
   "execution_count": 33,
   "id": "153393e4",
   "metadata": {},
   "outputs": [
    {
     "data": {
      "text/plain": [
       "True"
      ]
     },
     "execution_count": 33,
     "metadata": {},
     "output_type": "execute_result"
    }
   ],
   "source": [
    "check_project_folder(1, 'twyle', 'python-design-patterns')"
   ]
  },
  {
   "cell_type": "code",
   "execution_count": null,
   "id": "68c6ca1a",
   "metadata": {},
   "outputs": [],
   "source": [
    "check_project_folder(1, 'twyle', 'pygithub')"
   ]
  },
  {
   "cell_type": "code",
   "execution_count": null,
   "id": "c94ae08b",
   "metadata": {},
   "outputs": [],
   "source": [
    "'''\n",
    "The project(task folder) will contain the following files:\n",
    "1. main.py\n",
    "2. .gitignore\n",
    "3. requirements.txt\n",
    "4. README.md\n",
    "\n",
    "The README file will contain:\n",
    "1. The task name\n",
    "2. The Author\n",
    "3. Task Description\n",
    "\n",
    "The requirements file will contain the project dependancies\n",
    "1. Must be sorted\n",
    "\n",
    "The main file:\n",
    "1. Must be xecutable\n",
    "2. Have encoding\n",
    "3. Have script documentstion\n",
    "4. Have two functions, both with docs\n",
    "5. Have the __main__\n",
    "6. Have a certain length\n",
    "7. The requirements sorted\n",
    "'''"
   ]
  },
  {
   "cell_type": "code",
   "execution_count": 26,
   "id": "8b50b787",
   "metadata": {},
   "outputs": [],
   "source": [
    "def check_readme(task_id: int, username: str, repository: str):\n",
    "    \"\"\"Check if README exists\"\"\"\n",
    "    if not task_id:\n",
    "        raise ValuError('The task_id must be provided.')\n",
    "    if not isinstance(task_id, int):\n",
    "        raise TypeError('The task_id must be an integer')\n",
    "    if task_id < 1:\n",
    "        raise ValuError('The task_id cannot be smaller than one')\n",
    "    #Check if task exists\n",
    "    if not username:\n",
    "        raise ValueError('The username must be provided')\n",
    "    if not isinstance(username, str):\n",
    "        raise TypeError('The username must be a string')\n",
    "    if not repository:\n",
    "        raise ValueError('The repository must be provided')\n",
    "    if not isinstance(repository, str):\n",
    "        raise TypeError('The repository must be a string')\n",
    "    repo_name = username + \"/\" + repository\n",
    "    if not repository_exists(username,repository):\n",
    "        raise ValueError(f'The repository {repo_name} does not exist.')\n",
    "    if not check_project_folder(task_id, username, repository):\n",
    "        raise ValueError(f'The project folder for task {task_id} does not exist')\n",
    "    project_folder_name = get_project_folder_name(task_id)\n",
    "    repo = get_repository(username, repository)\n",
    "    readme_file = f'{project_folder_name}/README.md'\n",
    "    try:\n",
    "        repo.get_contents(readme_file)\n",
    "    except UnknownObjectException:\n",
    "        return False\n",
    "    return True\n",
    "\n",
    "def get_readme(task_id: int, username: str, repository: str):\n",
    "    \"\"\"Get the README file for the given task for a given repo\"\"\"\n",
    "    if not check_readme(task_id, username, repository):\n",
    "        project_folder_name = get_project_folder_name(task_id)\n",
    "        readme_file = f'{username}/{repository}/{project_folder_name}/README.md'\n",
    "        raise ValueError(f'The file {readme_file} does not exist')\n",
    "    repo = get_repository(username, repository)\n",
    "    readme_file_path = f'{project_folder_name}/README.md'\n",
    "    readme_file = repo.get_contents(readme_file_path).decoded_content.decode('utf-8')\n",
    "    return readme_file\n",
    "\n",
    "def parse_readme(task_id: int, readme_text: str):\n",
    "    \"\"\"Parse the README file for a given task.\"\"\"\n",
    "    pass\n"
   ]
  },
  {
   "cell_type": "code",
   "execution_count": null,
   "id": "7ca50a6d",
   "metadata": {},
   "outputs": [],
   "source": [
    "check_readme(1, 'twyle', 'pygithub')"
   ]
  },
  {
   "cell_type": "code",
   "execution_count": null,
   "id": "eaee9722",
   "metadata": {},
   "outputs": [],
   "source": [
    "get_readme(1, 'twyle', 'pygithub')"
   ]
  },
  {
   "cell_type": "code",
   "execution_count": 27,
   "id": "2cfe242a",
   "metadata": {},
   "outputs": [],
   "source": [
    "def check_gitignore(task_id: int, username: str, repository: str):\n",
    "    \"\"\"Check if gitignore exists\"\"\"\n",
    "    if not task_id:\n",
    "        raise ValuError('The task_id must be provided.')\n",
    "    if not isinstance(task_id, int):\n",
    "        raise TypeError('The task_id must be an integer')\n",
    "    if task_id < 1:\n",
    "        raise ValuError('The task_id cannot be smaller than one')\n",
    "    #Check if task exists\n",
    "    if not username:\n",
    "        raise ValueError('The username must be provided')\n",
    "    if not isinstance(username, str):\n",
    "        raise TypeError('The username must be a string')\n",
    "    if not repository:\n",
    "        raise ValueError('The repository must be provided')\n",
    "    if not isinstance(repository, str):\n",
    "        raise TypeError('The repository must be a string')\n",
    "    repo_name = username + \"/\" + repository\n",
    "    if not repository_exists(username,repository):\n",
    "        raise ValueError(f'The repository {repo_name} does not exist.')\n",
    "    if not check_project_folder(task_id, username, repository):\n",
    "        raise ValueError(f'The project folder for task {task_id} does not exist')\n",
    "    project_folder_name = get_project_folder_name(task_id)\n",
    "    repo = get_repository(username, repository)\n",
    "    gitignore_file = f'{project_folder_name}/.gitignore'\n",
    "    try:\n",
    "        repo.get_contents(gitignore_file)\n",
    "    except UnknownObjectException:\n",
    "        return False\n",
    "    return True\n",
    "\n",
    "def get_gitignore(task_id: int, username: str, repository: str):\n",
    "    \"\"\"Get the gitignore file for the given task for a given repo\"\"\"\n",
    "    if not check_gitignore(task_id, username, repository):\n",
    "        project_folder_name = get_project_folder_name(task_id)\n",
    "        gitignore_file = f'{username}/{repository}/{project_folder_name}/.gitignore'\n",
    "        raise ValueError(f'The file {gitignore_file} does not exist')\n",
    "    repo = get_repository(username, repository)\n",
    "    project_folder_name = get_project_folder_name(task_id)\n",
    "    gitignore_file_path = f'{project_folder_name}/.gitignore'\n",
    "    gitignore_file = repo.get_contents(gitignore_file_path).decoded_content.decode('utf-8')\n",
    "    return gitignore_file\n",
    "\n",
    "def parse_gitignore(task_id: int, readme_text: str):\n",
    "    \"\"\"Parse the gitignore file for a given task.\"\"\"\n",
    "    #Format\n",
    "    #content\n",
    "    pass"
   ]
  },
  {
   "cell_type": "code",
   "execution_count": 33,
   "id": "c93c6404",
   "metadata": {},
   "outputs": [
    {
     "data": {
      "text/plain": [
       "True"
      ]
     },
     "execution_count": 33,
     "metadata": {},
     "output_type": "execute_result"
    }
   ],
   "source": [
    "check_gitignore(1, 'twyle', 'pygithub')"
   ]
  },
  {
   "cell_type": "code",
   "execution_count": 34,
   "id": "ab7af047",
   "metadata": {},
   "outputs": [
    {
     "data": {
      "text/plain": [
       "'.env'"
      ]
     },
     "execution_count": 34,
     "metadata": {},
     "output_type": "execute_result"
    }
   ],
   "source": [
    "get_gitignore(1, 'twyle', 'pygithub')"
   ]
  },
  {
   "cell_type": "code",
   "execution_count": 28,
   "id": "f1681528",
   "metadata": {},
   "outputs": [],
   "source": [
    "def check_env_file(task_id: int, username: str, repository: str):\n",
    "    \"\"\"Check if env file exists\"\"\"\n",
    "    if not task_id:\n",
    "        raise ValuError('The task_id must be provided.')\n",
    "    if not isinstance(task_id, int):\n",
    "        raise TypeError('The task_id must be an integer')\n",
    "    if task_id < 1:\n",
    "        raise ValuError('The task_id cannot be smaller than one')\n",
    "    #Check if task exists\n",
    "    if not username:\n",
    "        raise ValueError('The username must be provided')\n",
    "    if not isinstance(username, str):\n",
    "        raise TypeError('The username must be a string')\n",
    "    if not repository:\n",
    "        raise ValueError('The repository must be provided')\n",
    "    if not isinstance(repository, str):\n",
    "        raise TypeError('The repository must be a string')\n",
    "    repo_name = username + \"/\" + repository\n",
    "    if not repository_exists(username,repository):\n",
    "        raise ValueError(f'The repository {repo_name} does not exist.')\n",
    "    if not check_project_folder(task_id, username, repository):\n",
    "        raise ValueError(f'The project folder for task {task_id} does not exist')\n",
    "    project_folder_name = get_project_folder_name(task_id)\n",
    "    repo = get_repository(username, repository)\n",
    "    env_file = f'{project_folder_name}/.env'\n",
    "    try:\n",
    "        repo.get_contents(env_file)\n",
    "    except UnknownObjectException:\n",
    "        return True\n",
    "    return False"
   ]
  },
  {
   "cell_type": "code",
   "execution_count": 36,
   "id": "d6dc8759",
   "metadata": {},
   "outputs": [
    {
     "data": {
      "text/plain": [
       "True"
      ]
     },
     "execution_count": 36,
     "metadata": {},
     "output_type": "execute_result"
    }
   ],
   "source": [
    "check_env_file(1, 'twyle', 'pygithub')"
   ]
  },
  {
   "cell_type": "code",
   "execution_count": 29,
   "id": "dac6048e",
   "metadata": {},
   "outputs": [],
   "source": [
    "#TODO add project_id\n",
    "def check_requirements_txt(task_id: int, username: str, repository: str):\n",
    "    \"\"\"Check if requirements file exists\"\"\"\n",
    "    if not task_id:\n",
    "        raise ValuError('The task_id must be provided.')\n",
    "    if not isinstance(task_id, int):\n",
    "        raise TypeError('The task_id must be an integer')\n",
    "    if task_id < 1:\n",
    "        raise ValuError('The task_id cannot be smaller than one')\n",
    "    #Check if task exists\n",
    "    if not username:\n",
    "        raise ValueError('The username must be provided')\n",
    "    if not isinstance(username, str):\n",
    "        raise TypeError('The username must be a string')\n",
    "    if not repository:\n",
    "        raise ValueError('The repository must be provided')\n",
    "    if not isinstance(repository, str):\n",
    "        raise TypeError('The repository must be a string')\n",
    "    repo_name = username + \"/\" + repository\n",
    "    if not repository_exists(username,repository):\n",
    "        raise ValueError(f'The repository {repo_name} does not exist.')\n",
    "    if not check_project_folder(task_id, username, repository):\n",
    "        raise ValueError(f'The project folder for task {task_id} does not exist')\n",
    "    project_folder_name = get_project_folder_name(task_id)\n",
    "    repo = get_repository(username, repository)\n",
    "    requirements_file = f'{project_folder_name}/requirements.txt'\n",
    "    try:\n",
    "        repo.get_contents(requirements_file)\n",
    "    except UnknownObjectException:\n",
    "        return False\n",
    "    return True\n",
    "\n",
    "#TODO add project_id\n",
    "def get_requirements_txt(task_id: int, username: str, repository: str):\n",
    "    \"\"\"Get the requirements file for the given task for a given repo\"\"\"\n",
    "    if not check_requirements_txt(task_id, username, repository):\n",
    "        project_folder_name = get_project_folder_name(task_id)\n",
    "        requirements_file = f'{username}/{repository}/{project_folder_name}/requirements.txt'\n",
    "        raise ValueError(f'The file {requirements_file} does not exist')\n",
    "    repo = get_repository(username, repository)\n",
    "    project_folder_name = get_project_folder_name(task_id)\n",
    "    requirements_file_path = f'{project_folder_name}/requirements.txt'\n",
    "    requirements_file = repo.get_contents(requirements_file_path).decoded_content.decode('utf-8')\n",
    "    return requirements_file\n",
    "\n",
    "#TODO add project_id\n",
    "def parse_requirements_txt(task_id: int, readme_text: str):\n",
    "    \"\"\"Parse the requirements file for a given task.\"\"\"\n",
    "    pass"
   ]
  },
  {
   "cell_type": "code",
   "execution_count": 38,
   "id": "12bb41b2",
   "metadata": {},
   "outputs": [
    {
     "data": {
      "text/plain": [
       "False"
      ]
     },
     "execution_count": 38,
     "metadata": {},
     "output_type": "execute_result"
    }
   ],
   "source": [
    "check_requirements_txt(1, 'twyle', 'pygithub')"
   ]
  },
  {
   "cell_type": "code",
   "execution_count": 41,
   "id": "823e72c7",
   "metadata": {},
   "outputs": [
    {
     "ename": "ValueError",
     "evalue": "The file twyle/pygithub/Simple Scan/requirements.txt does not exist",
     "output_type": "error",
     "traceback": [
      "\u001b[0;31m---------------------------------------------------------------------------\u001b[0m",
      "\u001b[0;31mValueError\u001b[0m                                Traceback (most recent call last)",
      "Cell \u001b[0;32mIn[41], line 1\u001b[0m\n\u001b[0;32m----> 1\u001b[0m \u001b[43mget_requirements_txt\u001b[49m\u001b[43m(\u001b[49m\u001b[38;5;241;43m1\u001b[39;49m\u001b[43m,\u001b[49m\u001b[43m \u001b[49m\u001b[38;5;124;43m'\u001b[39;49m\u001b[38;5;124;43mtwyle\u001b[39;49m\u001b[38;5;124;43m'\u001b[39;49m\u001b[43m,\u001b[49m\u001b[43m \u001b[49m\u001b[38;5;124;43m'\u001b[39;49m\u001b[38;5;124;43mpygithub\u001b[39;49m\u001b[38;5;124;43m'\u001b[39;49m\u001b[43m)\u001b[49m\n",
      "Cell \u001b[0;32mIn[40], line 37\u001b[0m, in \u001b[0;36mget_requirements_txt\u001b[0;34m(task_id, username, repository)\u001b[0m\n\u001b[1;32m     35\u001b[0m     project_folder_name \u001b[38;5;241m=\u001b[39m get_project_folder_name(task_id)\n\u001b[1;32m     36\u001b[0m     requirements_file \u001b[38;5;241m=\u001b[39m \u001b[38;5;124mf\u001b[39m\u001b[38;5;124m'\u001b[39m\u001b[38;5;132;01m{\u001b[39;00musername\u001b[38;5;132;01m}\u001b[39;00m\u001b[38;5;124m/\u001b[39m\u001b[38;5;132;01m{\u001b[39;00mrepository\u001b[38;5;132;01m}\u001b[39;00m\u001b[38;5;124m/\u001b[39m\u001b[38;5;132;01m{\u001b[39;00mproject_folder_name\u001b[38;5;132;01m}\u001b[39;00m\u001b[38;5;124m/requirements.txt\u001b[39m\u001b[38;5;124m'\u001b[39m\n\u001b[0;32m---> 37\u001b[0m     \u001b[38;5;28;01mraise\u001b[39;00m \u001b[38;5;167;01mValueError\u001b[39;00m(\u001b[38;5;124mf\u001b[39m\u001b[38;5;124m'\u001b[39m\u001b[38;5;124mThe file \u001b[39m\u001b[38;5;132;01m{\u001b[39;00mrequirements_file\u001b[38;5;132;01m}\u001b[39;00m\u001b[38;5;124m does not exist\u001b[39m\u001b[38;5;124m'\u001b[39m)\n\u001b[1;32m     38\u001b[0m repo \u001b[38;5;241m=\u001b[39m get_repository(username, repository)\n\u001b[1;32m     39\u001b[0m project_folder_name \u001b[38;5;241m=\u001b[39m get_project_folder_name(task_id)\n",
      "\u001b[0;31mValueError\u001b[0m: The file twyle/pygithub/Simple Scan/requirements.txt does not exist"
     ]
    }
   ],
   "source": [
    "get_requirements_txt(1, 'twyle', 'pygithub')"
   ]
  },
  {
   "cell_type": "code",
   "execution_count": 52,
   "id": "8f6de9f2",
   "metadata": {},
   "outputs": [],
   "source": [
    "repo = get_repository('twyle', 'pygithub')\n",
    "contents = repo.get_contents('Simple Scan')"
   ]
  },
  {
   "cell_type": "code",
   "execution_count": 53,
   "id": "77b0aa9b",
   "metadata": {},
   "outputs": [
    {
     "data": {
      "text/plain": [
       "[ContentFile(path=\"Simple Scan/.gitignore\"),\n",
       " ContentFile(path=\"Simple Scan/Simple Scan Code.ipynb\")]"
      ]
     },
     "execution_count": 53,
     "metadata": {},
     "output_type": "execute_result"
    }
   ],
   "source": [
    "contents"
   ]
  },
  {
   "cell_type": "code",
   "execution_count": 54,
   "id": "b2194e18",
   "metadata": {},
   "outputs": [
    {
     "data": {
      "text/plain": [
       "['CHECK_AFTER_INIT_FLAG',\n",
       " '_CompletableGithubObject__complete',\n",
       " '_CompletableGithubObject__completed',\n",
       " '_GithubObject__makeSimpleAttribute',\n",
       " '_GithubObject__makeSimpleListAttribute',\n",
       " '_GithubObject__makeTransformedAttribute',\n",
       " '__class__',\n",
       " '__delattr__',\n",
       " '__dict__',\n",
       " '__dir__',\n",
       " '__doc__',\n",
       " '__eq__',\n",
       " '__format__',\n",
       " '__ge__',\n",
       " '__getattribute__',\n",
       " '__gt__',\n",
       " '__hash__',\n",
       " '__init__',\n",
       " '__init_subclass__',\n",
       " '__le__',\n",
       " '__lt__',\n",
       " '__module__',\n",
       " '__ne__',\n",
       " '__new__',\n",
       " '__reduce__',\n",
       " '__reduce_ex__',\n",
       " '__repr__',\n",
       " '__setattr__',\n",
       " '__sizeof__',\n",
       " '__str__',\n",
       " '__subclasshook__',\n",
       " '__weakref__',\n",
       " '_completeIfNeeded',\n",
       " '_completeIfNotSet',\n",
       " '_content',\n",
       " '_download_url',\n",
       " '_encoding',\n",
       " '_git_url',\n",
       " '_headers',\n",
       " '_html_url',\n",
       " '_initAttributes',\n",
       " '_license',\n",
       " '_makeBoolAttribute',\n",
       " '_makeClassAttribute',\n",
       " '_makeDatetimeAttribute',\n",
       " '_makeDictAttribute',\n",
       " '_makeDictOfStringsToClassesAttribute',\n",
       " '_makeFloatAttribute',\n",
       " '_makeIntAttribute',\n",
       " '_makeListOfClassesAttribute',\n",
       " '_makeListOfDictsAttribute',\n",
       " '_makeListOfIntsAttribute',\n",
       " '_makeListOfListOfStringsAttribute',\n",
       " '_makeListOfStringsAttribute',\n",
       " '_makeStringAttribute',\n",
       " '_makeTimestampAttribute',\n",
       " '_name',\n",
       " '_parentUrl',\n",
       " '_path',\n",
       " '_rawData',\n",
       " '_repository',\n",
       " '_requester',\n",
       " '_sha',\n",
       " '_size',\n",
       " '_storeAndUseAttributes',\n",
       " '_text_matches',\n",
       " '_type',\n",
       " '_url',\n",
       " '_useAttributes',\n",
       " 'content',\n",
       " 'decoded_content',\n",
       " 'download_url',\n",
       " 'encoding',\n",
       " 'etag',\n",
       " 'get__repr__',\n",
       " 'git_url',\n",
       " 'html_url',\n",
       " 'last_modified',\n",
       " 'license',\n",
       " 'name',\n",
       " 'path',\n",
       " 'raw_data',\n",
       " 'raw_headers',\n",
       " 'repository',\n",
       " 'setCheckAfterInitFlag',\n",
       " 'sha',\n",
       " 'size',\n",
       " 'text_matches',\n",
       " 'type',\n",
       " 'update',\n",
       " 'url']"
      ]
     },
     "execution_count": 54,
     "metadata": {},
     "output_type": "execute_result"
    }
   ],
   "source": [
    "dir(contents[0])"
   ]
  },
  {
   "cell_type": "code",
   "execution_count": 55,
   "id": "1498fc5b",
   "metadata": {},
   "outputs": [
    {
     "data": {
      "text/plain": [
       "b'.env'"
      ]
     },
     "execution_count": 55,
     "metadata": {},
     "output_type": "execute_result"
    }
   ],
   "source": [
    "contents[0].decoded_content"
   ]
  },
  {
   "cell_type": "code",
   "execution_count": 56,
   "id": "3240e984",
   "metadata": {},
   "outputs": [
    {
     "data": {
      "text/plain": [
       "'https://raw.githubusercontent.com/twyle/pygithub/development/Simple%20Scan/.gitignore'"
      ]
     },
     "execution_count": 56,
     "metadata": {},
     "output_type": "execute_result"
    }
   ],
   "source": [
    "contents[0].download_url"
   ]
  },
  {
   "cell_type": "code",
   "execution_count": 57,
   "id": "b4eb3541",
   "metadata": {},
   "outputs": [
    {
     "data": {
      "text/plain": [
       "'base64'"
      ]
     },
     "execution_count": 57,
     "metadata": {},
     "output_type": "execute_result"
    }
   ],
   "source": [
    "contents[0].encoding"
   ]
  },
  {
   "cell_type": "code",
   "execution_count": 58,
   "id": "52aded90",
   "metadata": {},
   "outputs": [
    {
     "data": {
      "text/plain": [
       "'Tue, 14 Feb 2023 08:58:45 GMT'"
      ]
     },
     "execution_count": 58,
     "metadata": {},
     "output_type": "execute_result"
    }
   ],
   "source": [
    "contents[0].last_modified"
   ]
  },
  {
   "cell_type": "code",
   "execution_count": 59,
   "id": "c2869a24",
   "metadata": {},
   "outputs": [],
   "source": [
    "contents[0].license"
   ]
  },
  {
   "cell_type": "code",
   "execution_count": 60,
   "id": "9f3c2f92",
   "metadata": {},
   "outputs": [
    {
     "data": {
      "text/plain": [
       "'.gitignore'"
      ]
     },
     "execution_count": 60,
     "metadata": {},
     "output_type": "execute_result"
    }
   ],
   "source": [
    "contents[0].name"
   ]
  },
  {
   "cell_type": "code",
   "execution_count": 61,
   "id": "903aa331",
   "metadata": {},
   "outputs": [
    {
     "data": {
      "text/plain": [
       "'Simple Scan/.gitignore'"
      ]
     },
     "execution_count": 61,
     "metadata": {},
     "output_type": "execute_result"
    }
   ],
   "source": [
    "contents[0].path"
   ]
  },
  {
   "cell_type": "code",
   "execution_count": 62,
   "id": "95e1c5da",
   "metadata": {},
   "outputs": [
    {
     "data": {
      "text/plain": [
       "Repository(full_name=None)"
      ]
     },
     "execution_count": 62,
     "metadata": {},
     "output_type": "execute_result"
    }
   ],
   "source": [
    "contents[0].repository"
   ]
  },
  {
   "cell_type": "code",
   "execution_count": 63,
   "id": "54b53354",
   "metadata": {},
   "outputs": [
    {
     "data": {
      "text/plain": [
       "'2eea525d885d5148108f6f3a9a8613863f783d36'"
      ]
     },
     "execution_count": 63,
     "metadata": {},
     "output_type": "execute_result"
    }
   ],
   "source": [
    "contents[0].sha"
   ]
  },
  {
   "cell_type": "code",
   "execution_count": 64,
   "id": "23f84d81",
   "metadata": {},
   "outputs": [
    {
     "data": {
      "text/plain": [
       "4"
      ]
     },
     "execution_count": 64,
     "metadata": {},
     "output_type": "execute_result"
    }
   ],
   "source": [
    "contents[0].size"
   ]
  },
  {
   "cell_type": "code",
   "execution_count": 65,
   "id": "b1a3de6c",
   "metadata": {},
   "outputs": [],
   "source": [
    "contents[0].text_matches"
   ]
  },
  {
   "cell_type": "code",
   "execution_count": 66,
   "id": "22878ccb",
   "metadata": {},
   "outputs": [
    {
     "data": {
      "text/plain": [
       "'file'"
      ]
     },
     "execution_count": 66,
     "metadata": {},
     "output_type": "execute_result"
    }
   ],
   "source": [
    "contents[0].type"
   ]
  },
  {
   "cell_type": "code",
   "execution_count": null,
   "id": "07db41f8",
   "metadata": {},
   "outputs": [],
   "source": [
    "contents[0]."
   ]
  },
  {
   "cell_type": "code",
   "execution_count": null,
   "id": "1589f0cb",
   "metadata": {},
   "outputs": [],
   "source": [
    "contents[0]."
   ]
  },
  {
   "cell_type": "code",
   "execution_count": 69,
   "id": "e39baa56",
   "metadata": {},
   "outputs": [
    {
     "name": "stdout",
     "output_type": "stream",
     "text": [
      " gitignore\n",
      "Simple Scan Code ipynb\n"
     ]
    }
   ],
   "source": [
    "for item in contents:\n",
    "    files = []\n",
    "    if item.type == 'file':\n",
    "        if len(item.name.split('.')) == 2:\n",
    "            file_name, ext = item.name.split('.')\n",
    "            print(file_name, ext)"
   ]
  },
  {
   "cell_type": "code",
   "execution_count": 68,
   "id": "5eb6b1bb",
   "metadata": {},
   "outputs": [
    {
     "data": {
      "text/plain": [
       "['lylepdf']"
      ]
     },
     "execution_count": 68,
     "metadata": {},
     "output_type": "execute_result"
    }
   ],
   "source": [
    "'lylepdf'.split('.')"
   ]
  },
  {
   "cell_type": "code",
   "execution_count": 89,
   "id": "a085f5bf",
   "metadata": {},
   "outputs": [],
   "source": [
    "def get_python_files(task_id: int, username: str, repository: str) -> list[str]:\n",
    "    project_folder_name = 'services/app/api/helpers'\n",
    "    repo = get_repository(username, repository)\n",
    "    project_contents = repo.get_contents(project_folder_name)\n",
    "    python_files = []\n",
    "    for item in project_contents:\n",
    "        if item.type == 'file':\n",
    "            if len(item.name.split('.')) == 2:\n",
    "                file_name, extension = item.name.split('.')\n",
    "                if extension == 'py':\n",
    "                    python_files.append(item.name)\n",
    "    return python_files"
   ]
  },
  {
   "cell_type": "code",
   "execution_count": 90,
   "id": "c2357355",
   "metadata": {},
   "outputs": [
    {
     "data": {
      "text/plain": [
       "['helpers.py', 'hooks.py', 'http_status_codes.py']"
      ]
     },
     "execution_count": 90,
     "metadata": {},
     "output_type": "execute_result"
    }
   ],
   "source": [
    "get_python_files(1, 'twyle', 'Web-Project-Templates')"
   ]
  },
  {
   "cell_type": "code",
   "execution_count": 85,
   "id": "0feb18f1",
   "metadata": {},
   "outputs": [],
   "source": [
    "repo = get_repository('twyle', 'Web-Project-Templates')"
   ]
  },
  {
   "cell_type": "code",
   "execution_count": 78,
   "id": "2da66a61",
   "metadata": {},
   "outputs": [],
   "source": [
    "project_folder_name = 'services/app'\n",
    "contents = repo.get_contents(project_folder_name)"
   ]
  },
  {
   "cell_type": "code",
   "execution_count": 79,
   "id": "ec391096",
   "metadata": {},
   "outputs": [
    {
     "data": {
      "text/plain": [
       "[ContentFile(path=\"services/app/.dockerignore\"),\n",
       " ContentFile(path=\"services/app/Dockerfile\"),\n",
       " ContentFile(path=\"services/app/Dockerfile.prod\"),\n",
       " ContentFile(path=\"services/app/api\"),\n",
       " ContentFile(path=\"services/app/manage.py\"),\n",
       " ContentFile(path=\"services/app/requirements.txt\")]"
      ]
     },
     "execution_count": 79,
     "metadata": {},
     "output_type": "execute_result"
    }
   ],
   "source": [
    "contents"
   ]
  },
  {
   "cell_type": "code",
   "execution_count": 83,
   "id": "7d4812d7",
   "metadata": {},
   "outputs": [
    {
     "name": "stdout",
     "output_type": "stream",
     "text": [
      " dockerignore\n",
      "Dockerfile prod\n",
      "manage py\n",
      "requirements txt\n"
     ]
    }
   ],
   "source": [
    "for item in contents:\n",
    "    if item.type == 'file':\n",
    "        if len(item.name.split('.')) == 2:\n",
    "            file_name, extension = item.name.split('.')\n",
    "            print(file_name, extension)"
   ]
  },
  {
   "cell_type": "code",
   "execution_count": 34,
   "id": "744979c4",
   "metadata": {},
   "outputs": [
    {
     "data": {
      "text/plain": [
       "['main.py']"
      ]
     },
     "execution_count": 34,
     "metadata": {},
     "output_type": "execute_result"
    }
   ],
   "source": [
    "get_python_files(1, 'twyle', 'python-design-patterns')"
   ]
  },
  {
   "cell_type": "code",
   "execution_count": 46,
   "id": "3e50bc32",
   "metadata": {},
   "outputs": [],
   "source": [
    "def check_valid_file_name():\n",
    "    \"\"\"Check if the files have a valid file name.\n",
    "    \n",
    "    Only single extension allowed.\n",
    "    \"\"\"\n",
    "    pass\n",
    "\n",
    "def get_task_python_files(task_id: int) -> list[str]:\n",
    "    \"\"\"Get the python files for this task from database.\"\"\"\n",
    "    if not check_task_exists(task_id):\n",
    "        raise ValueError(f'The task with {task_id} does not exist')\n",
    "    #Get the python files from database for this taskj\n",
    "    return ['main.py']\n",
    "\n",
    "def get_python_file_names(task_id: int, username: str, repository: str) -> list[str]:\n",
    "    \"\"\"Get the python files uploaded by the user to github.\"\"\"\n",
    "    if not check_task_exists(task_id):\n",
    "        raise ValueError(f'The task with {task_id} does not exist')\n",
    "    if not check_project_folder(task_id, username, repository):\n",
    "        project_folder_name = get_project_folder_name(task_id)\n",
    "        project_folder_path = f'{username}/{repository}/{project_folder_name}'\n",
    "        raise ValueError(f'The project folder {project_folder_path} does not exist')\n",
    "    project_folder_name = get_project_folder_name(task_id)\n",
    "    repo = get_repository(username, repository)\n",
    "    project_contents = repo.get_contents(project_folder_name)\n",
    "    python_files = []\n",
    "    for item in project_contents:\n",
    "        if item.type == 'file':\n",
    "            if len(item.name.split('.')) == 2:\n",
    "                file_name, extension = item.name.split('.')\n",
    "                if extension == 'py':\n",
    "                    python_files.append(item.name)\n",
    "    return python_files \n",
    "\n",
    "def check_python_files_exist(task_id: int, username: str, repository: str) -> list[bool, list[str]]:\n",
    "    \"\"\"Check if all the python task file(s) exists\"\"\"\n",
    "    if not check_task_exists(task_id):\n",
    "        raise ValueError(f'The task with {task_id} does not exist')\n",
    "    if not check_project_folder(task_id, username, repository):\n",
    "        project_folder_name = get_project_folder_name(task_id)\n",
    "        project_folder_path = f'{username}/{repository}/{project_folder_name}'\n",
    "        raise ValueError(f'The project folder {project_folder_path} does not exist')\n",
    "    python_output_files = get_task_python_files(task_id)\n",
    "    python_files = get_python_file_names(1, 'twyle', 'python-design-patterns')\n",
    "    missing_files = []\n",
    "    for python_file in python_output_files:\n",
    "        if python_file not in python_files:\n",
    "            missing_files.append(python_file)\n",
    "    return (False, missing_files) if missing_files else (True, missing_files)\n",
    "\n",
    "\n",
    "def get_python_files(task_id: int, username: str, repository: str) -> dict[str]:\n",
    "    \"\"\"Get the python files for a particular task.\"\"\"\n",
    "    if not check_task_exists(task_id):\n",
    "        raise ValueError(f'The task with {task_id} does not exist')\n",
    "    if not check_project_folder(task_id, username, repository):\n",
    "        project_folder_name = get_project_folder_name(task_id)\n",
    "        project_folder_path = f'{username}/{repository}/{project_folder_name}'\n",
    "        raise ValueError(f'The project folder {project_folder_path} does not exist')\n",
    "    all_files_exist, missing_files = check_python_files_exist(task_id, username, repository)\n",
    "    if not all_files_exist:\n",
    "        raise ValuError(f'The follwing files are missing for task {task_id}: {str(missing_files)}')\n",
    "    project_folder_name = get_project_folder_name(task_id)\n",
    "    repo = get_repository(username, repository)\n",
    "    project_contents = repo.get_contents(project_folder_name)\n",
    "    python_files = {}\n",
    "    for item in project_contents:\n",
    "        if item.type == 'file':\n",
    "            if len(item.name.split('.')) == 2:\n",
    "                file_name, extension = item.name.split('.')\n",
    "                if extension == 'py':\n",
    "                    python_files[item.name] = item.decoded_content.decode('utf-8')\n",
    "    return python_files"
   ]
  },
  {
   "cell_type": "code",
   "execution_count": 42,
   "id": "aa10db0f",
   "metadata": {},
   "outputs": [
    {
     "data": {
      "text/plain": [
       "['main.py']"
      ]
     },
     "execution_count": 42,
     "metadata": {},
     "output_type": "execute_result"
    }
   ],
   "source": [
    "get_task_python_files(1)"
   ]
  },
  {
   "cell_type": "code",
   "execution_count": 43,
   "id": "0d7f204b",
   "metadata": {},
   "outputs": [
    {
     "data": {
      "text/plain": [
       "['main.py']"
      ]
     },
     "execution_count": 43,
     "metadata": {},
     "output_type": "execute_result"
    }
   ],
   "source": [
    "get_python_files(1, 'twyle', 'python-design-patterns')"
   ]
  },
  {
   "cell_type": "code",
   "execution_count": 44,
   "id": "25197705",
   "metadata": {},
   "outputs": [
    {
     "data": {
      "text/plain": [
       "(True, [])"
      ]
     },
     "execution_count": 44,
     "metadata": {},
     "output_type": "execute_result"
    }
   ],
   "source": [
    "check_python_files(1, 'twyle', 'python-design-patterns')"
   ]
  },
  {
   "cell_type": "code",
   "execution_count": 47,
   "id": "ca0f48cd",
   "metadata": {},
   "outputs": [
    {
     "data": {
      "text/plain": [
       "{'main.py': '# -*- coding: utf-8 -*-\\n'}"
      ]
     },
     "execution_count": 47,
     "metadata": {},
     "output_type": "execute_result"
    }
   ],
   "source": [
    "get_python_files(1, 'twyle', 'python-design-patterns')"
   ]
  },
  {
   "cell_type": "code",
   "execution_count": 48,
   "id": "2055d605",
   "metadata": {},
   "outputs": [],
   "source": [
    "python_files = get_python_files(1, 'twyle', 'python-design-patterns')"
   ]
  },
  {
   "cell_type": "code",
   "execution_count": 49,
   "id": "8a02e745",
   "metadata": {},
   "outputs": [
    {
     "data": {
      "text/plain": [
       "{'main.py': '# -*- coding: utf-8 -*-\\n'}"
      ]
     },
     "execution_count": 49,
     "metadata": {},
     "output_type": "execute_result"
    }
   ],
   "source": [
    "python_files"
   ]
  },
  {
   "cell_type": "code",
   "execution_count": 51,
   "id": "38f770c2",
   "metadata": {},
   "outputs": [
    {
     "data": {
      "text/plain": [
       "['# -*- coding: utf-8 -*-\\n']"
      ]
     },
     "execution_count": 51,
     "metadata": {},
     "output_type": "execute_result"
    }
   ],
   "source": [
    "'# -*- coding: utf-8 -*-\\n'.split('\\t')"
   ]
  },
  {
   "cell_type": "code",
   "execution_count": 52,
   "id": "9433a248",
   "metadata": {},
   "outputs": [
    {
     "data": {
      "text/plain": [
       "24"
      ]
     },
     "execution_count": 52,
     "metadata": {},
     "output_type": "execute_result"
    }
   ],
   "source": [
    "len('# -*- coding: utf-8 -*-\\n'.split('\\t')[0])"
   ]
  },
  {
   "cell_type": "code",
   "execution_count": 57,
   "id": "36a75a48",
   "metadata": {},
   "outputs": [],
   "source": [
    "def file_encoding_present(file_content: str):\n",
    "    \"\"\"Check if the encoding is included.\"\"\"\n",
    "    if not file_content:\n",
    "        raise ValueError('The file_content cannot be empty.')\n",
    "    if not isinstance(file_content, str):\n",
    "        raise ValueError('The file_content has to be a string.')\n",
    "    encoding_str = '# -*- coding: utf-8 -*-'\n",
    "    if not file_content.startswith(encoding_str, 0, 23):\n",
    "        return False\n",
    "    return True\n",
    "\n",
    "def shebang_present(file_content: str):\n",
    "    \"\"\"Check if the shebang is present.\"\"\"\n",
    "    pass\n",
    "\n",
    "def is_executable(file_path):\n",
    "    \"\"\"Check if file is executable.\"\"\"\n",
    "    pass\n",
    "\n",
    "def script_doc():\n",
    "    pass\n",
    "\n",
    "def script_includes():\n",
    "    #all includes present\n",
    "    #includes sorted\n",
    "    pass\n",
    "\n",
    "def parse_function_signature():\n",
    "    pass\n",
    "\n",
    "def parse_function_doc():\n",
    "    pass\n",
    "\n",
    "def parse_function_return():\n",
    "    pass\n",
    "\n",
    "def end_of_file_line(file_content: str):\n",
    "    \"\"\"Check if newline is included at file end.\"\"\"\n",
    "    if not file_content:\n",
    "        raise ValueError('The file_content cannot be empty.')\n",
    "    if not isinstance(file_content, str):\n",
    "        raise ValueError('The file_content has to be a string.')\n",
    "    if not file_content.endswith('\\n'):\n",
    "        return False\n",
    "    return True"
   ]
  },
  {
   "cell_type": "code",
   "execution_count": 56,
   "id": "2cbabd31",
   "metadata": {},
   "outputs": [
    {
     "data": {
      "text/plain": [
       "True"
      ]
     },
     "execution_count": 56,
     "metadata": {},
     "output_type": "execute_result"
    }
   ],
   "source": [
    "file_encoding_present('# -*- coding: utf-8 -*-\\n')"
   ]
  },
  {
   "cell_type": "code",
   "execution_count": 58,
   "id": "fb74e36d",
   "metadata": {},
   "outputs": [
    {
     "data": {
      "text/plain": [
       "True"
      ]
     },
     "execution_count": 58,
     "metadata": {},
     "output_type": "execute_result"
    }
   ],
   "source": [
    "end_of_file_line('# -*- coding: utf-8 -*-\\n')"
   ]
  },
  {
   "cell_type": "code",
   "execution_count": 59,
   "id": "a1ae1211",
   "metadata": {},
   "outputs": [],
   "source": [
    "python_files = get_python_files(1, 'twyle', 'python-design-patterns')"
   ]
  },
  {
   "cell_type": "code",
   "execution_count": 60,
   "id": "b0ee1aa3",
   "metadata": {},
   "outputs": [
    {
     "data": {
      "text/plain": [
       "{'main.py': '# -*- coding: utf-8 -*-\\n\"\"\"This script adds and mutiplies two numbers.\"\"\"'}"
      ]
     },
     "execution_count": 60,
     "metadata": {},
     "output_type": "execute_result"
    }
   ],
   "source": [
    "python_files"
   ]
  },
  {
   "cell_type": "code",
   "execution_count": 61,
   "id": "391012dc",
   "metadata": {},
   "outputs": [
    {
     "data": {
      "text/plain": [
       "False"
      ]
     },
     "execution_count": 61,
     "metadata": {},
     "output_type": "execute_result"
    }
   ],
   "source": [
    "end_of_file_line('# -*- coding: utf-8 -*-\\n\"\"\"This script adds and mutiplies two numbers.\"\"\"')"
   ]
  },
  {
   "cell_type": "code",
   "execution_count": 62,
   "id": "31b370df",
   "metadata": {},
   "outputs": [
    {
     "data": {
      "text/plain": [
       "True"
      ]
     },
     "execution_count": 62,
     "metadata": {},
     "output_type": "execute_result"
    }
   ],
   "source": [
    "file_encoding_present('# -*- coding: utf-8 -*-\\n')"
   ]
  },
  {
   "cell_type": "code",
   "execution_count": 63,
   "id": "d1fc7e78",
   "metadata": {},
   "outputs": [],
   "source": [
    "python_files = get_python_files(1, 'twyle', 'python-design-patterns')"
   ]
  },
  {
   "cell_type": "code",
   "execution_count": 64,
   "id": "f7253964",
   "metadata": {},
   "outputs": [
    {
     "data": {
      "text/plain": [
       "{'__init__.py': '',\n",
       " 'main.py': '# -*- coding: utf-8 -*-\\n# !/usr/bin/python3\\n\"\"\"This script adds and mutiplies two numbers.\"\"\"\\n\\nfrom trial import generate_two_random_numbers\\n\\n\\nif __name__ == \\'__main__\\':\\n    print(generate_two_random_numbers(2, 7))\\n',\n",
       " 'trial.py': '# -*- coding: utf-8 -*-\\n\"\"\"This script adds and mutiplies two numbers.\"\"\"\\n\\nimport random\\n\\n\\ndef generate_two_random_numbers(lower: int, upper: int) -> tuple[int]:\\n    \"\"\"Gnerate two random numbers between lower and upper.\\n\\n    Lower and upper must be between 1 and 9 inclusive, and lower must be less\\n    than upper and both must be integers.\\n\\n    Args:\\n        lower (int): The lowest int that can be returned\\n        upper (int): The largest int that can be returned\\n\\n    Raises:\\n        ValueError:\\n            When lower is greater or equal to upper\\n            When lower is less than 1 or upper is greater than 9\\n        TypeError:\\n            When lower and upper are not integers\\n\\n    Returns:\\n        tuple[int]: A tuple with two numbers.\\n    \"\"\"\\n\\n    if not lower or not upper:\\n        raise ValueError(\\'The inputs must be provided.\\')\\n    if not isinstance(lower, int) or not isinstance(upper, int):\\n        raise TypeError(\\'The lower and upper values must be integers\\')\\n    if lower >= upper:\\n        raise ValueError(\\n            \\'The lower value must be smaller than the upper value.\\')\\n    if lower < 1 or upper > 9:\\n        raise ValueError(\\n            \\'The lower value cannot be lower than 1 or the upper value cannot be greater than 9.\\')\\n\\n    first_number = random.randint(lower, upper)\\n    second_number = random.randint(lower, upper)\\n\\n    return (first_number, second_number)\\n'}"
      ]
     },
     "execution_count": 64,
     "metadata": {},
     "output_type": "execute_result"
    }
   ],
   "source": [
    "python_files"
   ]
  },
  {
   "cell_type": "code",
   "execution_count": 66,
   "id": "0caf71f3",
   "metadata": {},
   "outputs": [
    {
     "name": "stdout",
     "output_type": "stream",
     "text": [
      "# -*- coding: utf-8 -*-\n",
      "# !/usr/bin/python3\n",
      "\"\"\"This script adds and mutiplies two numbers.\"\"\"\n",
      "\n",
      "from trial import generate_two_random_numbers\n",
      "\n",
      "\n",
      "if __name__ == '__main__':\n",
      "    print(generate_two_random_numbers(2, 7))\n",
      "\n"
     ]
    }
   ],
   "source": [
    "main_file = python_files['main.py']\n",
    "print(main_file)"
   ]
  },
  {
   "cell_type": "code",
   "execution_count": 68,
   "id": "47a3262f",
   "metadata": {},
   "outputs": [
    {
     "name": "stdout",
     "output_type": "stream",
     "text": [
      "# -*- coding: utf-8 -*-\n",
      "\"\"\"This script adds and mutiplies two numbers.\"\"\"\n",
      "\n",
      "import random\n",
      "\n",
      "\n",
      "def generate_two_random_numbers(lower: int, upper: int) -> tuple[int]:\n",
      "    \"\"\"Gnerate two random numbers between lower and upper.\n",
      "\n",
      "    Lower and upper must be between 1 and 9 inclusive, and lower must be less\n",
      "    than upper and both must be integers.\n",
      "\n",
      "    Args:\n",
      "        lower (int): The lowest int that can be returned\n",
      "        upper (int): The largest int that can be returned\n",
      "\n",
      "    Raises:\n",
      "        ValueError:\n",
      "            When lower is greater or equal to upper\n",
      "            When lower is less than 1 or upper is greater than 9\n",
      "        TypeError:\n",
      "            When lower and upper are not integers\n",
      "\n",
      "    Returns:\n",
      "        tuple[int]: A tuple with two numbers.\n",
      "    \"\"\"\n",
      "\n",
      "    if not lower or not upper:\n",
      "        raise ValueError('The inputs must be provided.')\n",
      "    if not isinstance(lower, int) or not isinstance(upper, int):\n",
      "        raise TypeError('The lower and upper values must be integers')\n",
      "    if lower >= upper:\n",
      "        raise ValueError(\n",
      "            'The lower value must be smaller than the upper value.')\n",
      "    if lower < 1 or upper > 9:\n",
      "        raise ValueError(\n",
      "            'The lower value cannot be lower than 1 or the upper value cannot be greater than 9.')\n",
      "\n",
      "    first_number = random.randint(lower, upper)\n",
      "    second_number = random.randint(lower, upper)\n",
      "\n",
      "    return (first_number, second_number)\n",
      "\n"
     ]
    }
   ],
   "source": [
    "task_file = python_files['trial.py']\n",
    "print(task_file)"
   ]
  },
  {
   "cell_type": "code",
   "execution_count": null,
   "id": "d166b6fc",
   "metadata": {},
   "outputs": [],
   "source": [
    "def check_tests(task_id: int, username: str, repository: str):\n",
    "    \"\"\"Check if tests exists\"\"\"\n",
    "    pass\n",
    "\n",
    "\n",
    "def parse_project_folder(task_id: int):\n",
    "    \"\"\"Parse the project folder to ensure all files are present.\"\"\"\n",
    "    #Format\n",
    "    #content\n",
    "    pass"
   ]
  },
  {
   "cell_type": "code",
   "execution_count": 29,
   "id": "cce1a904",
   "metadata": {},
   "outputs": [],
   "source": [
    "#Parse main file\n",
    "#Run main file\n",
    "#Parse tests\n",
    "#Run tewsts\n",
    "\n",
    "def parse_task(task_id: int):\n",
    "    \"\"\"Parse the task to ensure all problems are completed\"\"\"\n",
    "    pass"
   ]
  },
  {
   "cell_type": "code",
   "execution_count": 30,
   "id": "796a3e6a",
   "metadata": {},
   "outputs": [],
   "source": [
    "def get_commit_message():\n",
    "    pass\n",
    "\n",
    "def get_branch():\n",
    "    pass"
   ]
  },
  {
   "cell_type": "code",
   "execution_count": null,
   "id": "af1bdde8",
   "metadata": {},
   "outputs": [],
   "source": [
    "def check_gitignore():\n",
    "    pass\n",
    "\n",
    "def get_gitignore():\n",
    "    pass\n",
    "\n",
    "def parse_gitignore():\n",
    "    pass"
   ]
  },
  {
   "cell_type": "code",
   "execution_count": null,
   "id": "e7897be2",
   "metadata": {},
   "outputs": [],
   "source": [
    "#Show errors plus correcxtions"
   ]
  },
  {
   "cell_type": "code",
   "execution_count": null,
   "id": "9276a21f",
   "metadata": {},
   "outputs": [],
   "source": [
    "\"\"\"\n",
    "Instructions\n",
    "1. Create the repo (SimpleScan)\n",
    "    1. No README, No Description\n",
    "    2. Include licence (MIT)\n",
    "    3. No gitignore\n",
    "    4. Run check\n",
    "    \n",
    "2. Update README\n",
    "    1. Header (Project name)\n",
    "    2. Description\n",
    "    3. Author\n",
    "    4. Run check\n",
    "    \n",
    "3. Create project folder (SimpleScan)\n",
    "    1. Create README\n",
    "        1. Header (Folder name)\n",
    "        2. Description\n",
    "    2. Create __init__.py (package)\n",
    "    3. Run check\n",
    "    \n",
    "4.  Create 0-generate_two_random_numbers.py\n",
    "    1. Create encoding\n",
    "    2. Create doc\n",
    "    3. Run check\n",
    "    \n",
    "5. Create generate_two_random_numbers()\n",
    "    1. Imports\n",
    "    2. Signature\n",
    "    3. doc\n",
    "    4. Exception handling\n",
    "    5. logic\n",
    "    \n",
    "6. Create main.py\n",
    "    1. encoding\n",
    "    2. shebang\n",
    "    3. docs\n",
    "    4. imports\n",
    "    5. execution\n",
    "    6. Make it executable\n",
    "    7. Run it\n",
    "    8. Add it to .gitignore\n",
    "    9. Add __pycache__, .pytest_cache to .gitignore\n",
    "    10. Run checker\n",
    "    \n",
    "7. Create venv\n",
    "    1. Activate venv\n",
    "    2. Install pytest\n",
    "    3. Add pytest to requirements.txt\n",
    "    4. Add venv to .gitignore\n",
    "    5. Run checker\n",
    "    \n",
    "8. Create test folder\n",
    "    1. Create __init__.py\n",
    "        1. encoding + doc\n",
    "    2. Create the test_function.py file\n",
    "        1. encoding + doc\n",
    "    3. Run checker\n",
    "    \n",
    "9. Create first test\n",
    "    1. Import pytest\n",
    "    2. Test that it produces correct output\n",
    "    3. Run checker\n",
    "    \n",
    "10. DevOps\n",
    "\"\"\""
   ]
  },
  {
   "cell_type": "code",
   "execution_count": 86,
   "id": "064a12a1",
   "metadata": {},
   "outputs": [
    {
     "name": "stdout",
     "output_type": "stream",
     "text": [
      "(3, 2)\n"
     ]
    },
    {
     "data": {
      "text/plain": [
       "CompletedProcess(args=['python3', '/home/lyle/git/python-design-patterns/SimpleScan/main.py'], returncode=0)"
      ]
     },
     "execution_count": 86,
     "metadata": {},
     "output_type": "execute_result"
    }
   ],
   "source": [
    "import os\n",
    "import subprocess\n",
    "\n",
    "project_dir = '/home/lyle/git/python-design-patterns/SimpleScan'\n",
    "file_name = 'main.py'\n",
    "file = os.path.join(project_dir, file_name)\n",
    "\n",
    "subprocess.run([\"python3\", file])"
   ]
  },
  {
   "cell_type": "code",
   "execution_count": 87,
   "id": "d5fb9fd5",
   "metadata": {},
   "outputs": [
    {
     "name": "stdout",
     "output_type": "stream",
     "text": [
      "(3, 6)\n"
     ]
    },
    {
     "data": {
      "text/plain": [
       "CompletedProcess(args=['/home/lyle/git/python-design-patterns/SimpleScan/venv/bin/python3', '/home/lyle/git/python-design-patterns/SimpleScan/main.py'], returncode=0)"
      ]
     },
     "execution_count": 87,
     "metadata": {},
     "output_type": "execute_result"
    }
   ],
   "source": [
    "python_path = '/home/lyle/git/python-design-patterns/SimpleScan/venv/bin/python3'\n",
    "subprocess.run([python_path, file])"
   ]
  },
  {
   "cell_type": "code",
   "execution_count": 90,
   "id": "4816a75b",
   "metadata": {
    "collapsed": true
   },
   "outputs": [
    {
     "name": "stdout",
     "output_type": "stream",
     "text": [
      "\u001b[1m============================= test session starts ==============================\u001b[0m\n",
      "platform linux -- Python 3.10.6, pytest-7.2.1, pluggy-1.0.0\n",
      "rootdir: /home/lyle/git\n",
      "collected 0 items / 1 error\n",
      "\n",
      "==================================== ERRORS ====================================\n",
      "\u001b[31m\u001b[1m____ ERROR collecting python-design-patterns/SimpleScan/tests/test_trial.py ____\u001b[0m\n",
      "\u001b[31mImportError while importing test module '/home/lyle/git/python-design-patterns/SimpleScan/tests/test_trial.py'.\n",
      "Hint: make sure your test modules/packages have valid Python names.\n",
      "Traceback:\n",
      "\u001b[1m\u001b[31m/usr/lib/python3.10/importlib/__init__.py\u001b[0m:126: in import_module\n",
      "    return _bootstrap._gcd_import(name[level:], package, level)\n",
      "\u001b[1m\u001b[31m../../python-design-patterns/SimpleScan/__init__.py\u001b[0m:1: in <module>\n",
      "    from trial import generate_two_random_numbers\n",
      "\u001b[1m\u001b[31mE   ModuleNotFoundError: No module named 'trial'\u001b[0m\u001b[0m\n",
      "\u001b[36m\u001b[1m=========================== short test summary info ============================\u001b[0m\n",
      "\u001b[31mERROR\u001b[0m ../../python-design-patterns/SimpleScan/tests/test_trial.py\n",
      "!!!!!!!!!!!!!!!!!!!! Interrupted: 1 error during collection !!!!!!!!!!!!!!!!!!!!\n",
      "\u001b[31m=============================== \u001b[31m\u001b[1m1 error\u001b[0m\u001b[31m in 0.11s\u001b[0m\u001b[31m ===============================\u001b[0m\n"
     ]
    },
    {
     "data": {
      "text/plain": [
       "CompletedProcess(args=['/home/lyle/git/python-design-patterns/SimpleScan/venv/bin/python3', '-m', 'pytest', '/home/lyle/git/python-design-patterns/SimpleScan/tests'], returncode=2)"
      ]
     },
     "execution_count": 90,
     "metadata": {},
     "output_type": "execute_result"
    }
   ],
   "source": [
    "python_path = '/home/lyle/git/python-design-patterns/SimpleScan/venv/bin/python3'\n",
    "project_dir = '/home/lyle/git/python-design-patterns/SimpleScan'\n",
    "tests_path = os.path.join(project_dir, 'tests')\n",
    "subprocess.run([python_path, \"-m\", \"pytest\", tests_path])"
   ]
  },
  {
   "cell_type": "code",
   "execution_count": 103,
   "id": "ba126828",
   "metadata": {},
   "outputs": [
    {
     "data": {
      "text/plain": [
       "CompletedProcess(args=['python3', '-m', 'venv', '/home/lyle/venv'], returncode=0)"
      ]
     },
     "execution_count": 103,
     "metadata": {},
     "output_type": "execute_result"
    }
   ],
   "source": [
    "subprocess.run([\"python3\", \"-m\", \"venv\", \"/home/lyle/venv\"])"
   ]
  },
  {
   "cell_type": "code",
   "execution_count": 93,
   "id": "948269b5",
   "metadata": {
    "collapsed": true
   },
   "outputs": [
    {
     "name": "stdout",
     "output_type": "stream",
     "text": [
      "Collecting pytest==7.2.1\n",
      "  Using cached pytest-7.2.1-py3-none-any.whl (317 kB)\n",
      "Collecting iniconfig\n",
      "  Using cached iniconfig-2.0.0-py3-none-any.whl (5.9 kB)\n",
      "Collecting attrs>=19.2.0\n",
      "  Using cached attrs-22.2.0-py3-none-any.whl (60 kB)\n",
      "Collecting tomli>=1.0.0\n",
      "  Using cached tomli-2.0.1-py3-none-any.whl (12 kB)\n",
      "Collecting packaging\n",
      "  Using cached packaging-23.0-py3-none-any.whl (42 kB)\n",
      "Collecting pluggy<2.0,>=0.12\n",
      "  Using cached pluggy-1.0.0-py2.py3-none-any.whl (13 kB)\n",
      "Collecting exceptiongroup>=1.0.0rc8\n",
      "  Using cached exceptiongroup-1.1.0-py3-none-any.whl (14 kB)\n",
      "Installing collected packages: tomli, pluggy, packaging, iniconfig, exceptiongroup, attrs, pytest\n",
      "Successfully installed attrs-22.2.0 exceptiongroup-1.1.0 iniconfig-2.0.0 packaging-23.0 pluggy-1.0.0 pytest-7.2.1 tomli-2.0.1\n"
     ]
    },
    {
     "data": {
      "text/plain": [
       "CompletedProcess(args=['/home/lyle/venv/bin/pip3', 'install', '-r', '/home/lyle/git/python-design-patterns/SimpleScan/requirements.txt'], returncode=0)"
      ]
     },
     "execution_count": 93,
     "metadata": {},
     "output_type": "execute_result"
    }
   ],
   "source": [
    "requirements = '/home/lyle/git/python-design-patterns/SimpleScan/requirements.txt'\n",
    "subprocess.run([\"/home/lyle/venv/bin/pip3\", \"install\", \"-r\", requirements])"
   ]
  },
  {
   "cell_type": "code",
   "execution_count": 98,
   "id": "8ef924b1",
   "metadata": {},
   "outputs": [],
   "source": [
    "all_tasks_dir = \"/home/lyle\" "
   ]
  },
  {
   "cell_type": "code",
   "execution_count": 101,
   "id": "a2b3b1cf",
   "metadata": {},
   "outputs": [],
   "source": [
    "import shutil"
   ]
  },
  {
   "cell_type": "code",
   "execution_count": 149,
   "id": "bc458e77",
   "metadata": {},
   "outputs": [],
   "source": [
    "def delete_dir(dir_path: str):\n",
    "    \"\"\"Delete an existing directory.\"\"\"\n",
    "    if os.path.exists(dir_path):\n",
    "        try:\n",
    "            shutil.rmtree(dir_path, ignore_errors=True)\n",
    "        except Exception as e:\n",
    "            print(str(e))\n",
    "            return False\n",
    "        else:\n",
    "            return True\n",
    "    return True\n",
    "\n",
    "\n",
    "def create_dir(dir_path: str):\n",
    "    if not os.path.exists(dir_path):\n",
    "        try:\n",
    "            os.mkdir(dir_path)\n",
    "        except Exception as e:\n",
    "            print(str(e))\n",
    "            return False\n",
    "        else:\n",
    "            return True\n",
    "    return False\n",
    "\n",
    "\n",
    "def create_task_dir(username: str, task_id: int):\n",
    "    \"\"\"Create a temporary directory for hosting task files.\"\"\"\n",
    "    if not username:\n",
    "        raise ValueError('The username must be provided.')\n",
    "    if not task_id:\n",
    "        raise ValueError('The task_id must be provided.')\n",
    "    if not isinstance(username, str):\n",
    "        raise ValueError('The username must be a string.')\n",
    "    if not isinstance(task_id, int):\n",
    "        raise TypeError('The task_id must be a string')\n",
    "    #if not user_exists(username)\n",
    "    #if not task_exists(task_id)\n",
    "    task_dir_name = f'{task_id}-{username}'\n",
    "    task_path = os.path.join(all_tasks_dir, task_dir_name)\n",
    "    created_path = ''\n",
    "    if delete_dir(task_path):\n",
    "        if create_dir(task_path):\n",
    "            created_path = task_path\n",
    "    return created_path\n",
    "\n",
    "\n",
    "def delete_project_dir(username: str, task_id: int):\n",
    "    \"\"\"Delete the temporary directory created.\"\"\"\n",
    "    task_dir_name = f'{task_id}-{username}'\n",
    "    task_path = os.path.join(all_tasks_dir, task_dir_name)\n",
    "    if delete_dir(task_path):\n",
    "        return True\n",
    "    return False\n",
    "\n",
    "\n",
    "def download_task_files(task_id: int, username: str, repository: str):\n",
    "    \"\"\"Download the project files.\"\"\"\n",
    "    task_dir = create_task_dir(username, task_id)\n",
    "    project_folder_name = get_project_folder_name(task_id)\n",
    "    task_dir = os.path.join(task_dir, project_folder_name)\n",
    "    download_path = ''\n",
    "    if create_dir(task_dir):\n",
    "        repo = get_repository(username, repository)\n",
    "        project_contents = repo.get_contents(project_folder_name)\n",
    "        try:\n",
    "            for item in project_contents:\n",
    "                if item.type == 'file':\n",
    "                    file_path = os.path.join(task_dir, item.name)\n",
    "                    print(f'Downloading and saving {item.name}')\n",
    "                    with open(file_path, \"wb\") as f:\n",
    "                        f.write(item.decoded_content)\n",
    "        except Exception as e:\n",
    "            print(e)\n",
    "        else:\n",
    "            download_path = task_dir\n",
    "    return download_path\n",
    "    \n",
    "\n",
    "def create_task_environment(task_path: str):\n",
    "    \"\"\"Create the venv for this task\"\"\"\n",
    "    python3_path = \"python3\"\n",
    "    venv_path = os.path.join(task_path, \"venv\")\n",
    "    created_venv = \"\"\n",
    "    if delete_dir(venv_path):\n",
    "        try:\n",
    "            subprocess.run([python3_path, \"-m\", \"venv\", venv_path])\n",
    "        except Exception as e:\n",
    "            print(e)\n",
    "        else:\n",
    "            created_venv = venv_path\n",
    "    return created_venv\n",
    "\n",
    "\n",
    "def check_venv_exists(task_path: str):\n",
    "    venv_path = os.path.join(task_path, \"venv\")\n",
    "    if os.path.exists(venv_path):\n",
    "        return True\n",
    "    return False\n",
    "\n",
    "def check_requirements_txt_exists(task_path: str):\n",
    "    all_files = os.listdir(task_path)\n",
    "    requirements_txt = 'requirements.txt'\n",
    "    return requirements_txt in all_files\n",
    "\n",
    "\n",
    "def install_task_requirements(task_path: str):\n",
    "    if not check_venv_exists(task_path):\n",
    "        raise ValueError('The virtual environment does not exist.')\n",
    "    if check_requirements_txt_exists(task_path):\n",
    "        venv_path = os.path.join(task_path, \"venv\")\n",
    "        pip_path = os.path.join(venv_path, \"bin\", \"pip3\")\n",
    "        requirements_path = os.path.join(task_path, \"requirements.txt\")\n",
    "        subprocess.run([pip_path, \"install\", \"-r\", requirements_path])\n",
    "        return True\n",
    "    return False\n",
    "\n",
    "def get_main_file(task_id: int):\n",
    "    pass\n",
    "\n",
    "def get_output(task_id: int):\n",
    "    pass\n",
    "        \n",
    "\n",
    "def verify_task(task_path: str):\n",
    "    \"\"\"Execute the project and verify the output.\"\"\"\n",
    "    venv_path = os.path.join(task_path, \"venv\")\n",
    "    python_path = os.path.join(venv_path, 'bin', 'python3')\n",
    "    file = os.path.join(task_path, 'main.py')\n",
    "    print(subprocess.run([python_path, file]))"
   ]
  },
  {
   "cell_type": "code",
   "execution_count": null,
   "id": "36438b07",
   "metadata": {},
   "outputs": [],
   "source": [
    "def run_tests():\n",
    "    pass"
   ]
  },
  {
   "cell_type": "code",
   "execution_count": 107,
   "id": "98fcb64c",
   "metadata": {},
   "outputs": [
    {
     "data": {
      "text/plain": [
       "'/home/lyle/1-twyle'"
      ]
     },
     "execution_count": 107,
     "metadata": {},
     "output_type": "execute_result"
    }
   ],
   "source": [
    "create_task_dir('twyle', 1)"
   ]
  },
  {
   "cell_type": "code",
   "execution_count": 108,
   "id": "07c781eb",
   "metadata": {},
   "outputs": [
    {
     "data": {
      "text/plain": [
       "True"
      ]
     },
     "execution_count": 108,
     "metadata": {},
     "output_type": "execute_result"
    }
   ],
   "source": [
    "create_dir('/home/lyle/1-twyle')"
   ]
  },
  {
   "cell_type": "code",
   "execution_count": 109,
   "id": "5ce71b3c",
   "metadata": {},
   "outputs": [
    {
     "data": {
      "text/plain": [
       "True"
      ]
     },
     "execution_count": 109,
     "metadata": {},
     "output_type": "execute_result"
    }
   ],
   "source": [
    "delete_dir('/home/lyle/1-twyle')"
   ]
  },
  {
   "cell_type": "code",
   "execution_count": 112,
   "id": "3b54cc78",
   "metadata": {},
   "outputs": [
    {
     "data": {
      "text/plain": [
       "'/home/lyle/1-twyle'"
      ]
     },
     "execution_count": 112,
     "metadata": {},
     "output_type": "execute_result"
    }
   ],
   "source": [
    "create_task_dir('twyle', 1)"
   ]
  },
  {
   "cell_type": "code",
   "execution_count": 130,
   "id": "51ec8a26",
   "metadata": {},
   "outputs": [
    {
     "name": "stdout",
     "output_type": "stream",
     "text": [
      "Downloading and saving .env\n",
      "Downloading and saving .gitignore\n",
      "Downloading and saving README.md\n",
      "Downloading and saving __init__.py\n",
      "Downloading and saving main.py\n",
      "Downloading and saving requirements.txt\n",
      "Downloading and saving trial.py\n"
     ]
    },
    {
     "data": {
      "text/plain": [
       "'/home/lyle/1-twyle/SimpleScan'"
      ]
     },
     "execution_count": 130,
     "metadata": {},
     "output_type": "execute_result"
    }
   ],
   "source": [
    "download_task_files(1, 'twyle', 'python-design-patterns')"
   ]
  },
  {
   "cell_type": "code",
   "execution_count": 133,
   "id": "a238c3bc",
   "metadata": {},
   "outputs": [
    {
     "data": {
      "text/plain": [
       "'/home/lyle/1-twyle/SimpleScan/venv'"
      ]
     },
     "execution_count": 133,
     "metadata": {},
     "output_type": "execute_result"
    }
   ],
   "source": [
    "create_task_environment('/home/lyle/1-twyle/SimpleScan')"
   ]
  },
  {
   "cell_type": "code",
   "execution_count": 135,
   "id": "eaab924a",
   "metadata": {},
   "outputs": [
    {
     "data": {
      "text/plain": [
       "True"
      ]
     },
     "execution_count": 135,
     "metadata": {},
     "output_type": "execute_result"
    }
   ],
   "source": [
    "check_venv_exists('/home/lyle/1-twyle/SimpleScan')"
   ]
  },
  {
   "cell_type": "code",
   "execution_count": 143,
   "id": "537359e0",
   "metadata": {},
   "outputs": [
    {
     "data": {
      "text/plain": [
       "True"
      ]
     },
     "execution_count": 143,
     "metadata": {},
     "output_type": "execute_result"
    }
   ],
   "source": [
    "check_requirements_txt_exists('/home/lyle/1-twyle/SimpleScan')"
   ]
  },
  {
   "cell_type": "code",
   "execution_count": 145,
   "id": "47da617e",
   "metadata": {
    "collapsed": true
   },
   "outputs": [
    {
     "name": "stdout",
     "output_type": "stream",
     "text": [
      "Collecting pytest==7.2.1\n",
      "  Using cached pytest-7.2.1-py3-none-any.whl (317 kB)\n",
      "Collecting tomli>=1.0.0\n",
      "  Using cached tomli-2.0.1-py3-none-any.whl (12 kB)\n",
      "Collecting iniconfig\n",
      "  Using cached iniconfig-2.0.0-py3-none-any.whl (5.9 kB)\n",
      "Collecting attrs>=19.2.0\n",
      "  Using cached attrs-22.2.0-py3-none-any.whl (60 kB)\n",
      "Collecting pluggy<2.0,>=0.12\n",
      "  Using cached pluggy-1.0.0-py2.py3-none-any.whl (13 kB)\n",
      "Collecting packaging\n",
      "  Using cached packaging-23.0-py3-none-any.whl (42 kB)\n",
      "Collecting exceptiongroup>=1.0.0rc8\n",
      "  Using cached exceptiongroup-1.1.0-py3-none-any.whl (14 kB)\n",
      "Installing collected packages: tomli, pluggy, packaging, iniconfig, exceptiongroup, attrs, pytest\n",
      "Successfully installed attrs-22.2.0 exceptiongroup-1.1.0 iniconfig-2.0.0 packaging-23.0 pluggy-1.0.0 pytest-7.2.1 tomli-2.0.1\n"
     ]
    },
    {
     "data": {
      "text/plain": [
       "True"
      ]
     },
     "execution_count": 145,
     "metadata": {},
     "output_type": "execute_result"
    }
   ],
   "source": [
    "install_task_requirements('/home/lyle/1-twyle/SimpleScan')"
   ]
  },
  {
   "cell_type": "code",
   "execution_count": 148,
   "id": "f0d072a8",
   "metadata": {},
   "outputs": [
    {
     "name": "stdout",
     "output_type": "stream",
     "text": [
      "(5, 5)\n",
      "CompletedProcess(args=['/home/lyle/1-twyle/SimpleScan/venv/bin/python3', '/home/lyle/1-twyle/SimpleScan/main.py'], returncode=0)\n"
     ]
    }
   ],
   "source": [
    "verify_task('/home/lyle/1-twyle/SimpleScan')"
   ]
  },
  {
   "cell_type": "code",
   "execution_count": null,
   "id": "37d6009e",
   "metadata": {},
   "outputs": [],
   "source": [
    "def run_checker(task_id: int, username: str, repository: str):\n",
    "    \"Run the checks for a given task.\"\n",
    "    #Download the files\n",
    "    #run the checks"
   ]
  }
 ],
 "metadata": {
  "kernelspec": {
   "display_name": "Python 3 (ipykernel)",
   "language": "python",
   "name": "python3"
  },
  "language_info": {
   "codemirror_mode": {
    "name": "ipython",
    "version": 3
   },
   "file_extension": ".py",
   "mimetype": "text/x-python",
   "name": "python",
   "nbconvert_exporter": "python",
   "pygments_lexer": "ipython3",
   "version": "3.10.6"
  }
 },
 "nbformat": 4,
 "nbformat_minor": 5
}
