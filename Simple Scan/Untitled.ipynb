{
 "cells": [
  {
   "cell_type": "code",
   "execution_count": 52,
   "id": "04610ef0",
   "metadata": {},
   "outputs": [],
   "source": [
    "from enum import Enum\n",
    "from dataclasses import dataclass\n",
    "import random"
   ]
  },
  {
   "cell_type": "code",
   "execution_count": 2,
   "id": "3dd2d098",
   "metadata": {},
   "outputs": [],
   "source": [
    "class ResourceType(Enum):\n",
    "    YOUTUBE_VIDEO = 'YouTube Video'"
   ]
  },
  {
   "cell_type": "code",
   "execution_count": 3,
   "id": "a3dfa5cb",
   "metadata": {},
   "outputs": [],
   "source": [
    "class Resource:\n",
    "    def __init__(self, name: str, description: str, resource_type: ResourceType):\n",
    "        self.__resource_name = name\n",
    "        self.__resource_description = description\n",
    "        self.__resource_type = resource_type"
   ]
  },
  {
   "cell_type": "code",
   "execution_count": 4,
   "id": "e665dcf8",
   "metadata": {},
   "outputs": [],
   "source": [
    "class Instruction:\n",
    "    def __init__(self, text: str):\n",
    "        self.__text = text"
   ]
  },
  {
   "cell_type": "code",
   "execution_count": 16,
   "id": "1c2f7220",
   "metadata": {},
   "outputs": [],
   "source": [
    "class Project:\n",
    "    def __init__(\n",
    "        self,\n",
    "        project_title: str,\n",
    "        project_description: str,\n",
    "        project_resources: list[Resource],\n",
    "        project_instructions: list[Instruction]\n",
    "    ):\n",
    "        self.project_title = project_title\n",
    "        self.__project_description = project_description\n",
    "        self.__project_resources = project_resources\n",
    "        self.__project_instructions = project_instructions\n",
    "        \n",
    "    def get_instructions(self):\n",
    "        pass\n",
    "\n",
    "    def update_instructions(self):\n",
    "        pass\n",
    "\n",
    "    def get_outputs(self):\n",
    "        pass\n",
    "\n",
    "    def get_resources(self):\n",
    "        pass"
   ]
  },
  {
   "cell_type": "code",
   "execution_count": 17,
   "id": "fef6e6a3",
   "metadata": {},
   "outputs": [],
   "source": [
    "def create_project(\n",
    "    project_title: str,\n",
    "    project_description: str,\n",
    "    project_resources: list[Resource],\n",
    "    project_instructions: list[Instruction]\n",
    ") -> Project:\n",
    "    project = Project(\n",
    "        project_title,\n",
    "        project_description,\n",
    "        project_resources,\n",
    "        project_instructions\n",
    "    )\n",
    "    \n",
    "    return project"
   ]
  },
  {
   "cell_type": "code",
   "execution_count": 18,
   "id": "9f1c0247",
   "metadata": {},
   "outputs": [],
   "source": [
    "youtube_video = Resource('Name', 'Description', ResourceType.YOUTUBE_VIDEO)"
   ]
  },
  {
   "cell_type": "code",
   "execution_count": 19,
   "id": "bfef35c3",
   "metadata": {},
   "outputs": [],
   "source": [
    "instruction = Instruction('Create a Python file.')"
   ]
  },
  {
   "cell_type": "code",
   "execution_count": 20,
   "id": "8b70783a",
   "metadata": {},
   "outputs": [],
   "source": [
    "project = create_project(\n",
    "    'First Project',\n",
    "    'First Project Description',\n",
    "    [youtube_video],\n",
    "    [instruction]\n",
    ")"
   ]
  },
  {
   "cell_type": "code",
   "execution_count": 22,
   "id": "07661129",
   "metadata": {},
   "outputs": [],
   "source": [
    "class TaskOutput:\n",
    "    def __init__(self, project_id, task_id):\n",
    "        self.__project_id = project_id\n",
    "        self.__task_id = task_id\n",
    "        \n",
    "    def get_output_files(self):\n",
    "        output_files = ['main.py']\n",
    "        return output_files"
   ]
  },
  {
   "cell_type": "code",
   "execution_count": 23,
   "id": "c0adf6c4",
   "metadata": {},
   "outputs": [],
   "source": [
    "task_outpt = TaskOutput(1,1)"
   ]
  },
  {
   "cell_type": "code",
   "execution_count": 24,
   "id": "5a58e652",
   "metadata": {},
   "outputs": [
    {
     "data": {
      "text/plain": [
       "['main.py']"
      ]
     },
     "execution_count": 24,
     "metadata": {},
     "output_type": "execute_result"
    }
   ],
   "source": [
    "task_outpt.get_output_files()"
   ]
  },
  {
   "cell_type": "code",
   "execution_count": 28,
   "id": "e0feb130",
   "metadata": {},
   "outputs": [],
   "source": [
    "class Task:\n",
    "    def __init__(\n",
    "        self,\n",
    "        project_id: int,\n",
    "        task_title: str,\n",
    "        task_description: str,\n",
    "        task_resources: list[Resource],\n",
    "        task_instructions: list[Instruction]\n",
    "    ):\n",
    "        self.__project_id = project_id\n",
    "        self.__task_title = task_title\n",
    "        self.__task_description = task_description\n",
    "        self.__task_resources = task_resources\n",
    "        self.__task_instructions = task_instructions\n",
    "        \n",
    "    def get_instructions(self):\n",
    "        pass\n",
    "    \n",
    "    def get_outputs(self):\n",
    "        pass"
   ]
  },
  {
   "cell_type": "code",
   "execution_count": 29,
   "id": "6f833418",
   "metadata": {},
   "outputs": [],
   "source": [
    "def create_task(\n",
    "    project_id: int,\n",
    "    task_title: str,\n",
    "    task_description: str,\n",
    "    task_resources: list[Resource],\n",
    "    task_instructions: list[Instruction]\n",
    ") -> Task:\n",
    "    task = Task(\n",
    "        project_id,\n",
    "        task_title,\n",
    "        task_description,\n",
    "        task_resources,\n",
    "        task_instructions\n",
    "    )\n",
    "    \n",
    "    return task"
   ]
  },
  {
   "cell_type": "code",
   "execution_count": 30,
   "id": "49dde506",
   "metadata": {},
   "outputs": [],
   "source": [
    "task = create_task(\n",
    "    1,\n",
    "    'Task One',\n",
    "    'Task One Description',\n",
    "    [youtube_video],\n",
    "    [instruction]\n",
    ")"
   ]
  },
  {
   "cell_type": "code",
   "execution_count": 35,
   "id": "a83d3f21",
   "metadata": {},
   "outputs": [],
   "source": [
    "class CheckType(Enum):\n",
    "    FILE_EXISTS = 'File Exists'\n",
    "    FILE_DOC_EXISTS = 'File documentation exists'"
   ]
  },
  {
   "cell_type": "code",
   "execution_count": 36,
   "id": "ef78c3eb",
   "metadata": {},
   "outputs": [],
   "source": [
    "x = {\n",
    "    'main.py': [CheckType.FILE_EXISTS, CheckType.FILE_DOC_EXISTS]\n",
    "}"
   ]
  },
  {
   "cell_type": "code",
   "execution_count": 38,
   "id": "a9db11d2",
   "metadata": {},
   "outputs": [],
   "source": [
    "def create_checks(project_id, task_id):\n",
    "    checks = {\n",
    "        'main.py': [CheckType.FILE_EXISTS, CheckType.FILE_DOC_EXISTS]\n",
    "    }\n",
    "    # Save to database\n",
    "    "
   ]
  },
  {
   "cell_type": "code",
   "execution_count": 39,
   "id": "b842a95e",
   "metadata": {},
   "outputs": [],
   "source": [
    "def get_checks(project_id, task_id):\n",
    "    checks = {\n",
    "        'main.py': [CheckType.FILE_EXISTS, CheckType.FILE_DOC_EXISTS]\n",
    "    }\n",
    "    \n",
    "    return checks"
   ]
  },
  {
   "cell_type": "code",
   "execution_count": 53,
   "id": "98fb6964",
   "metadata": {},
   "outputs": [],
   "source": [
    "def check_file_exists(file):\n",
    "    return random.choice([True, False])"
   ]
  },
  {
   "cell_type": "code",
   "execution_count": 57,
   "id": "26d972eb",
   "metadata": {},
   "outputs": [],
   "source": [
    "def check(check_type, file):\n",
    "    if check_type == CheckType.FILE_EXISTS:\n",
    "        file_exists = check_file_exists(file)\n",
    "        print(f'File exists: {file_exists}')"
   ]
  },
  {
   "cell_type": "code",
   "execution_count": 60,
   "id": "dd6fea49",
   "metadata": {},
   "outputs": [],
   "source": [
    "def run_checks(project_id, task_id, user_id):\n",
    "    checks = get_checks(project_id, task_id)\n",
    "    for file, file_checks in checks.items():\n",
    "        for file_check in file_checks:\n",
    "            check(file_check, file)"
   ]
  },
  {
   "cell_type": "code",
   "execution_count": 64,
   "id": "2a77f112",
   "metadata": {},
   "outputs": [
    {
     "name": "stdout",
     "output_type": "stream",
     "text": [
      "File exists: False\n"
     ]
    }
   ],
   "source": [
    "run_checks(1,1,1)"
   ]
  },
  {
   "cell_type": "code",
   "execution_count": null,
   "id": "8e831e72",
   "metadata": {},
   "outputs": [],
   "source": []
  },
  {
   "cell_type": "code",
   "execution_count": null,
   "id": "66248ba3",
   "metadata": {},
   "outputs": [],
   "source": []
  }
 ],
 "metadata": {
  "kernelspec": {
   "display_name": "Python 3 (ipykernel)",
   "language": "python",
   "name": "python3"
  },
  "language_info": {
   "codemirror_mode": {
    "name": "ipython",
    "version": 3
   },
   "file_extension": ".py",
   "mimetype": "text/x-python",
   "name": "python",
   "nbconvert_exporter": "python",
   "pygments_lexer": "ipython3",
   "version": "3.10.6"
  }
 },
 "nbformat": 4,
 "nbformat_minor": 5
}
