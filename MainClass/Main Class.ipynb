{
 "cells": [
  {
   "cell_type": "code",
   "execution_count": 5,
   "id": "3a8b0c41",
   "metadata": {},
   "outputs": [
    {
     "data": {
      "text/plain": [
       "True"
      ]
     },
     "execution_count": 5,
     "metadata": {},
     "output_type": "execute_result"
    }
   ],
   "source": [
    "from github import Github\n",
    "from dotenv import load_dotenv\n",
    "import os\n",
    "\n",
    "load_dotenv()"
   ]
  },
  {
   "cell_type": "code",
   "execution_count": 6,
   "id": "4ec469b5",
   "metadata": {},
   "outputs": [],
   "source": [
    "github_api_key = os.environ['GITHUB_API_KEY']"
   ]
  },
  {
   "cell_type": "code",
   "execution_count": 7,
   "id": "8c4f13e7",
   "metadata": {},
   "outputs": [],
   "source": [
    "# using an access token\n",
    "g = Github(github_api_key)"
   ]
  },
  {
   "cell_type": "code",
   "execution_count": 8,
   "id": "32bd1fac",
   "metadata": {},
   "outputs": [
    {
     "name": "stdout",
     "output_type": "stream",
     "text": [
      "printf\n",
      "helptorrs\n",
      "alx-higher_level_programming\n",
      "alx-low_level_programming\n",
      "alx-pre_course\n",
      "alx-system_engineering-devops\n",
      "alx-zero_day\n",
      "ansible_linux_filesystem_mgmt\n",
      "Application-Logger\n",
      "articles\n",
      "devops-directive-terraform-course\n",
      "docker-crawler\n",
      "E-commerce-Website\n",
      "flask-ec2-terraform-deployment\n",
      "flask-ecs\n",
      "flask-ek8\n",
      "flask-social-auth\n",
      "flask-tutorials\n",
      "front-end-service\n",
      "HackerRank-Solutions\n",
      "Home-Listing-Website\n",
      "jobzilla_ai\n",
      "lyle-portfolio\n",
      "Medium-Clone\n",
      "Medium-Clone-Blog-Service\n",
      "Medium-Clone-Email-Service\n",
      "Medium-Clone-Image-Processing-Service\n",
      "Medium-Clone-User-Management-Service\n",
      "monty\n",
      "notspot_sim_py\n",
      "offbrand-tutorial\n",
      "oryks-code-coverage\n",
      "portfolio-simple\n",
      "printf\n",
      "pygithub\n",
      "pysheeet\n",
      "Python\n",
      "python-design-patterns\n",
      "quad-sdk\n",
      "resumematcher\n",
      "ros-robotics-companies\n",
      "Search-Service.\n",
      "terraform-aws-template\n",
      "terraform-ecs-flask\n",
      "text-analytics\n",
      "twyle\n",
      "User-Authentication-in-Flask\n",
      "user-management-service\n",
      "Video-Sharing-Website\n",
      "Web-Project-Templates\n",
      "web-scraping-data-pipeline\n",
      "web-tutorials\n",
      "zero_day\n"
     ]
    }
   ],
   "source": [
    "for repo in g.get_user().get_repos():\n",
    "    print(repo.name)"
   ]
  },
  {
   "cell_type": "code",
   "execution_count": null,
   "id": "4a04af2d",
   "metadata": {},
   "outputs": [],
   "source": []
  }
 ],
 "metadata": {
  "kernelspec": {
   "display_name": "Python 3 (ipykernel)",
   "language": "python",
   "name": "python3"
  },
  "language_info": {
   "codemirror_mode": {
    "name": "ipython",
    "version": 3
   },
   "file_extension": ".py",
   "mimetype": "text/x-python",
   "name": "python",
   "nbconvert_exporter": "python",
   "pygments_lexer": "ipython3",
   "version": "3.10.6"
  }
 },
 "nbformat": 4,
 "nbformat_minor": 5
}
