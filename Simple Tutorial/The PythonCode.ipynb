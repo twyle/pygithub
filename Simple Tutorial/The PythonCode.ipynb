{
 "cells": [
  {
   "cell_type": "code",
   "execution_count": 1,
   "id": "65f43212",
   "metadata": {},
   "outputs": [
    {
     "data": {
      "text/plain": [
       "True"
      ]
     },
     "execution_count": 1,
     "metadata": {},
     "output_type": "execute_result"
    }
   ],
   "source": [
    "from github import Github\n",
    "from dotenv import load_dotenv\n",
    "import os\n",
    "\n",
    "load_dotenv()"
   ]
  },
  {
   "cell_type": "code",
   "execution_count": 2,
   "id": "b87c44b6",
   "metadata": {},
   "outputs": [],
   "source": [
    "github_api_key = os.environ['GITHUB_API_KEY']"
   ]
  },
  {
   "cell_type": "code",
   "execution_count": 3,
   "id": "0c9f65da",
   "metadata": {},
   "outputs": [],
   "source": [
    "# using an access token\n",
    "g = Github(github_api_key)"
   ]
  },
  {
   "cell_type": "code",
   "execution_count": 5,
   "id": "5f813e12",
   "metadata": {},
   "outputs": [
    {
     "name": "stdout",
     "output_type": "stream",
     "text": [
      "Repository(full_name=\"georgegathu/printf\")\n",
      "Repository(full_name=\"Helptorssolutins/helptorrs\")\n",
      "Repository(full_name=\"twyle/alx-higher_level_programming\")\n",
      "Repository(full_name=\"twyle/alx-low_level_programming\")\n",
      "Repository(full_name=\"twyle/alx-pre_course\")\n",
      "Repository(full_name=\"twyle/alx-system_engineering-devops\")\n",
      "Repository(full_name=\"twyle/alx-zero_day\")\n",
      "Repository(full_name=\"twyle/ansible_linux_filesystem_mgmt\")\n",
      "Repository(full_name=\"twyle/Application-Logger\")\n",
      "Repository(full_name=\"twyle/articles\")\n",
      "Repository(full_name=\"twyle/devops-directive-terraform-course\")\n",
      "Repository(full_name=\"twyle/docker-crawler\")\n",
      "Repository(full_name=\"twyle/E-commerce-Website\")\n",
      "Repository(full_name=\"twyle/flask-ec2-terraform-deployment\")\n",
      "Repository(full_name=\"twyle/flask-ecs\")\n",
      "Repository(full_name=\"twyle/flask-ek8\")\n",
      "Repository(full_name=\"twyle/flask-social-auth\")\n",
      "Repository(full_name=\"twyle/flask-tutorials\")\n",
      "Repository(full_name=\"twyle/front-end-service\")\n",
      "Repository(full_name=\"twyle/HackerRank-Solutions\")\n",
      "Repository(full_name=\"twyle/Home-Listing-Website\")\n",
      "Repository(full_name=\"twyle/jobzilla_ai\")\n",
      "Repository(full_name=\"twyle/lyle-portfolio\")\n",
      "Repository(full_name=\"twyle/Medium-Clone\")\n",
      "Repository(full_name=\"twyle/Medium-Clone-Blog-Service\")\n",
      "Repository(full_name=\"twyle/Medium-Clone-Email-Service\")\n",
      "Repository(full_name=\"twyle/Medium-Clone-Image-Processing-Service\")\n",
      "Repository(full_name=\"twyle/Medium-Clone-User-Management-Service\")\n",
      "Repository(full_name=\"twyle/monty\")\n",
      "Repository(full_name=\"twyle/notspot_sim_py\")\n",
      "Repository(full_name=\"twyle/offbrand-tutorial\")\n",
      "Repository(full_name=\"twyle/oryks-code-coverage\")\n",
      "Repository(full_name=\"twyle/portfolio-simple\")\n",
      "Repository(full_name=\"twyle/printf\")\n",
      "Repository(full_name=\"twyle/pygithub\")\n",
      "Repository(full_name=\"twyle/pysheeet\")\n",
      "Repository(full_name=\"twyle/Python\")\n",
      "Repository(full_name=\"twyle/python-design-patterns\")\n",
      "Repository(full_name=\"twyle/quad-sdk\")\n",
      "Repository(full_name=\"twyle/resumematcher\")\n",
      "Repository(full_name=\"twyle/ros-robotics-companies\")\n",
      "Repository(full_name=\"twyle/Search-Service.\")\n",
      "Repository(full_name=\"twyle/terraform-aws-template\")\n",
      "Repository(full_name=\"twyle/terraform-ecs-flask\")\n",
      "Repository(full_name=\"twyle/text-analytics\")\n",
      "Repository(full_name=\"twyle/twyle\")\n",
      "Repository(full_name=\"twyle/User-Authentication-in-Flask\")\n",
      "Repository(full_name=\"twyle/user-management-service\")\n",
      "Repository(full_name=\"twyle/Video-Sharing-Website\")\n",
      "Repository(full_name=\"twyle/Web-Project-Templates\")\n",
      "Repository(full_name=\"twyle/web-scraping-data-pipeline\")\n",
      "Repository(full_name=\"twyle/web-tutorials\")\n",
      "Repository(full_name=\"twyle/zero_day\")\n"
     ]
    }
   ],
   "source": [
    "# Getting Repositories of a user\n",
    "username = 'twyle'\n",
    "#Get the user by name\n",
    "user = g.get_user()\n",
    "\n",
    "for repo in user.get_repos():\n",
    "    print(repo)"
   ]
  },
  {
   "cell_type": "code",
   "execution_count": null,
   "id": "a2a8986c",
   "metadata": {},
   "outputs": [],
   "source": [
    "def print_repo(repo):\n",
    "    # repository full name\n",
    "    print(\"Full name:\", repo.full_name)\n",
    "    # repository description\n",
    "    print(\"Description:\", repo.description)\n",
    "    # the date of when the repo was created\n",
    "    print(\"Date created:\", repo.created_at)\n",
    "    # the date of the last git push\n",
    "    print(\"Date of last push:\", repo.pushed_at)\n",
    "    # home website (if available)\n",
    "    print(\"Home Page:\", repo.homepage)\n",
    "    # programming language\n",
    "    print(\"Language:\", repo.language)\n",
    "    # number of forks\n",
    "    print(\"Number of forks:\", repo.forks)\n",
    "    # number of stars\n",
    "    print(\"Number of stars:\", repo.stargazers_count)\n",
    "    print(\"-\"*50)\n",
    "    # repository content (files & directories)\n",
    "    print(\"Contents:\")\n",
    "    for content in repo.get_contents(\"\"):\n",
    "        print(content)\n",
    "    try:\n",
    "        # repo license\n",
    "        print(\"License:\", base64.b64decode(repo.get_license().content.encode()).decode())\n",
    "    except:\n",
    "        pass"
   ]
  },
  {
   "cell_type": "code",
   "execution_count": 16,
   "id": "becf7908",
   "metadata": {},
   "outputs": [],
   "source": [
    "def get_repo(repo_name=\"twyle/Web-Project-Templates\"):\n",
    "    my_repo = None\n",
    "    for repo in user.get_repos():\n",
    "        if repo.full_name == repo_name:\n",
    "            my_repo = repo\n",
    "    return my_repo"
   ]
  },
  {
   "cell_type": "code",
   "execution_count": 17,
   "id": "8fc186ce",
   "metadata": {},
   "outputs": [
    {
     "data": {
      "text/plain": [
       "Repository(full_name=\"twyle/Web-Project-Templates\")"
      ]
     },
     "execution_count": 17,
     "metadata": {},
     "output_type": "execute_result"
    }
   ],
   "source": [
    "get_repo()"
   ]
  },
  {
   "cell_type": "code",
   "execution_count": 19,
   "id": "66b0d547",
   "metadata": {},
   "outputs": [],
   "source": [
    "def print_repo_info(repo):\n",
    "    repo_info = {}\n",
    "    repo_info['Full Name'] = repo.full_name\n",
    "    repo_info['Description'] = repo.description\n",
    "    repo_info['Date Created'] = repo.created_at\n",
    "    repo_info['Date of Last Push'] = repo.pushed_at\n",
    "    repo_info['Home page'] = repo.homepage\n",
    "    repo_info['Language'] = repo.language\n",
    "    try:\n",
    "        repo_info['License'] = base64.b64decode(repo_info.get_license().content.encode()).decode()\n",
    "    except:\n",
    "        pass\n",
    "    return repo_info"
   ]
  },
  {
   "cell_type": "code",
   "execution_count": 20,
   "id": "bbeea070",
   "metadata": {},
   "outputs": [
    {
     "data": {
      "text/plain": [
       "{'Full Name': 'twyle/Web-Project-Templates',\n",
       " 'Description': 'A template for creating websites with flask.',\n",
       " 'Date Created': datetime.datetime(2022, 12, 20, 7, 11, 29),\n",
       " 'Date of Last Push': datetime.datetime(2023, 1, 13, 14, 40, 30),\n",
       " 'Home page': None,\n",
       " 'Language': 'Python'}"
      ]
     },
     "execution_count": 20,
     "metadata": {},
     "output_type": "execute_result"
    }
   ],
   "source": [
    "print_repo_info(get_repo())"
   ]
  },
  {
   "cell_type": "code",
   "execution_count": 21,
   "id": "3a84cd6b",
   "metadata": {},
   "outputs": [
    {
     "data": {
      "text/plain": [
       "{'Full Name': 'twyle/python-design-patterns',\n",
       " 'Description': 'A repository off design patterns in Python.',\n",
       " 'Date Created': datetime.datetime(2023, 2, 10, 9, 37, 58),\n",
       " 'Date of Last Push': datetime.datetime(2023, 2, 10, 9, 37, 59),\n",
       " 'Home page': None,\n",
       " 'Language': None}"
      ]
     },
     "execution_count": 21,
     "metadata": {},
     "output_type": "execute_result"
    }
   ],
   "source": [
    "print_repo_info(get_repo('twyle/python-design-patterns'))"
   ]
  },
  {
   "cell_type": "code",
   "execution_count": 22,
   "id": "8a879f93",
   "metadata": {},
   "outputs": [],
   "source": [
    "def list_files(repo):\n",
    "    for content in repo.get_contents(\"\"):\n",
    "        print(content)"
   ]
  },
  {
   "cell_type": "code",
   "execution_count": 23,
   "id": "8e223376",
   "metadata": {},
   "outputs": [
    {
     "name": "stdout",
     "output_type": "stream",
     "text": [
      "ContentFile(path=\".github\")\n",
      "ContentFile(path=\".gitignore\")\n",
      "ContentFile(path=\"LICENSE\")\n",
      "ContentFile(path=\"Makefile\")\n",
      "ContentFile(path=\"README.md\")\n",
      "ContentFile(path=\"docker-compose.yml\")\n",
      "ContentFile(path=\"services\")\n",
      "ContentFile(path=\"terraform\")\n"
     ]
    }
   ],
   "source": [
    "list_files(get_repo())"
   ]
  },
  {
   "cell_type": "code",
   "execution_count": 24,
   "id": "929cd9db",
   "metadata": {},
   "outputs": [],
   "source": [
    "repo = g.get_repo('twyle/Web-Project-Templates')"
   ]
  },
  {
   "cell_type": "code",
   "execution_count": 26,
   "id": "72635f54",
   "metadata": {},
   "outputs": [],
   "source": [
    "lic = repo.get_license()"
   ]
  },
  {
   "cell_type": "code",
   "execution_count": 27,
   "id": "78b1244d",
   "metadata": {},
   "outputs": [
    {
     "data": {
      "text/plain": [
       "'TUlUIExpY2Vuc2UKCkNvcHlyaWdodCAoYykgMjAyMiBseWxlIG9rb3RoCgpQ\\nZXJtaXNzaW9uIGlzIGhlcmVieSBncmFudGVkLCBmcmVlIG9mIGNoYXJnZSwg\\ndG8gYW55IHBlcnNvbiBvYnRhaW5pbmcgYSBjb3B5Cm9mIHRoaXMgc29mdHdh\\ncmUgYW5kIGFzc29jaWF0ZWQgZG9jdW1lbnRhdGlvbiBmaWxlcyAodGhlICJT\\nb2Z0d2FyZSIpLCB0byBkZWFsCmluIHRoZSBTb2Z0d2FyZSB3aXRob3V0IHJl\\nc3RyaWN0aW9uLCBpbmNsdWRpbmcgd2l0aG91dCBsaW1pdGF0aW9uIHRoZSBy\\naWdodHMKdG8gdXNlLCBjb3B5LCBtb2RpZnksIG1lcmdlLCBwdWJsaXNoLCBk\\naXN0cmlidXRlLCBzdWJsaWNlbnNlLCBhbmQvb3Igc2VsbApjb3BpZXMgb2Yg\\ndGhlIFNvZnR3YXJlLCBhbmQgdG8gcGVybWl0IHBlcnNvbnMgdG8gd2hvbSB0\\naGUgU29mdHdhcmUgaXMKZnVybmlzaGVkIHRvIGRvIHNvLCBzdWJqZWN0IHRv\\nIHRoZSBmb2xsb3dpbmcgY29uZGl0aW9uczoKClRoZSBhYm92ZSBjb3B5cmln\\naHQgbm90aWNlIGFuZCB0aGlzIHBlcm1pc3Npb24gbm90aWNlIHNoYWxsIGJl\\nIGluY2x1ZGVkIGluIGFsbApjb3BpZXMgb3Igc3Vic3RhbnRpYWwgcG9ydGlv\\nbnMgb2YgdGhlIFNvZnR3YXJlLgoKVEhFIFNPRlRXQVJFIElTIFBST1ZJREVE\\nICJBUyBJUyIsIFdJVEhPVVQgV0FSUkFOVFkgT0YgQU5ZIEtJTkQsIEVYUFJF\\nU1MgT1IKSU1QTElFRCwgSU5DTFVESU5HIEJVVCBOT1QgTElNSVRFRCBUTyBU\\nSEUgV0FSUkFOVElFUyBPRiBNRVJDSEFOVEFCSUxJVFksCkZJVE5FU1MgRk9S\\nIEEgUEFSVElDVUxBUiBQVVJQT1NFIEFORCBOT05JTkZSSU5HRU1FTlQuIElO\\nIE5PIEVWRU5UIFNIQUxMIFRIRQpBVVRIT1JTIE9SIENPUFlSSUdIVCBIT0xE\\nRVJTIEJFIExJQUJMRSBGT1IgQU5ZIENMQUlNLCBEQU1BR0VTIE9SIE9USEVS\\nCkxJQUJJTElUWSwgV0hFVEhFUiBJTiBBTiBBQ1RJT04gT0YgQ09OVFJBQ1Qs\\nIFRPUlQgT1IgT1RIRVJXSVNFLCBBUklTSU5HIEZST00sCk9VVCBPRiBPUiBJ\\nTiBDT05ORUNUSU9OIFdJVEggVEhFIFNPRlRXQVJFIE9SIFRIRSBVU0UgT1Ig\\nT1RIRVIgREVBTElOR1MgSU4gVEhFClNPRlRXQVJFLgo=\\n'"
      ]
     },
     "execution_count": 27,
     "metadata": {},
     "output_type": "execute_result"
    }
   ],
   "source": [
    "lic.content"
   ]
  },
  {
   "cell_type": "code",
   "execution_count": 28,
   "id": "7a5cf5e3",
   "metadata": {},
   "outputs": [
    {
     "data": {
      "text/plain": [
       "b'TUlUIExpY2Vuc2UKCkNvcHlyaWdodCAoYykgMjAyMiBseWxlIG9rb3RoCgpQ\\nZXJtaXNzaW9uIGlzIGhlcmVieSBncmFudGVkLCBmcmVlIG9mIGNoYXJnZSwg\\ndG8gYW55IHBlcnNvbiBvYnRhaW5pbmcgYSBjb3B5Cm9mIHRoaXMgc29mdHdh\\ncmUgYW5kIGFzc29jaWF0ZWQgZG9jdW1lbnRhdGlvbiBmaWxlcyAodGhlICJT\\nb2Z0d2FyZSIpLCB0byBkZWFsCmluIHRoZSBTb2Z0d2FyZSB3aXRob3V0IHJl\\nc3RyaWN0aW9uLCBpbmNsdWRpbmcgd2l0aG91dCBsaW1pdGF0aW9uIHRoZSBy\\naWdodHMKdG8gdXNlLCBjb3B5LCBtb2RpZnksIG1lcmdlLCBwdWJsaXNoLCBk\\naXN0cmlidXRlLCBzdWJsaWNlbnNlLCBhbmQvb3Igc2VsbApjb3BpZXMgb2Yg\\ndGhlIFNvZnR3YXJlLCBhbmQgdG8gcGVybWl0IHBlcnNvbnMgdG8gd2hvbSB0\\naGUgU29mdHdhcmUgaXMKZnVybmlzaGVkIHRvIGRvIHNvLCBzdWJqZWN0IHRv\\nIHRoZSBmb2xsb3dpbmcgY29uZGl0aW9uczoKClRoZSBhYm92ZSBjb3B5cmln\\naHQgbm90aWNlIGFuZCB0aGlzIHBlcm1pc3Npb24gbm90aWNlIHNoYWxsIGJl\\nIGluY2x1ZGVkIGluIGFsbApjb3BpZXMgb3Igc3Vic3RhbnRpYWwgcG9ydGlv\\nbnMgb2YgdGhlIFNvZnR3YXJlLgoKVEhFIFNPRlRXQVJFIElTIFBST1ZJREVE\\nICJBUyBJUyIsIFdJVEhPVVQgV0FSUkFOVFkgT0YgQU5ZIEtJTkQsIEVYUFJF\\nU1MgT1IKSU1QTElFRCwgSU5DTFVESU5HIEJVVCBOT1QgTElNSVRFRCBUTyBU\\nSEUgV0FSUkFOVElFUyBPRiBNRVJDSEFOVEFCSUxJVFksCkZJVE5FU1MgRk9S\\nIEEgUEFSVElDVUxBUiBQVVJQT1NFIEFORCBOT05JTkZSSU5HRU1FTlQuIElO\\nIE5PIEVWRU5UIFNIQUxMIFRIRQpBVVRIT1JTIE9SIENPUFlSSUdIVCBIT0xE\\nRVJTIEJFIExJQUJMRSBGT1IgQU5ZIENMQUlNLCBEQU1BR0VTIE9SIE9USEVS\\nCkxJQUJJTElUWSwgV0hFVEhFUiBJTiBBTiBBQ1RJT04gT0YgQ09OVFJBQ1Qs\\nIFRPUlQgT1IgT1RIRVJXSVNFLCBBUklTSU5HIEZST00sCk9VVCBPRiBPUiBJ\\nTiBDT05ORUNUSU9OIFdJVEggVEhFIFNPRlRXQVJFIE9SIFRIRSBVU0UgT1Ig\\nT1RIRVIgREVBTElOR1MgSU4gVEhFClNPRlRXQVJFLgo=\\n'"
      ]
     },
     "execution_count": 28,
     "metadata": {},
     "output_type": "execute_result"
    }
   ],
   "source": [
    "lic.content.encode()"
   ]
  },
  {
   "cell_type": "code",
   "execution_count": 31,
   "id": "828d9532",
   "metadata": {},
   "outputs": [],
   "source": [
    "readme = repo.get_contents('README.md')"
   ]
  },
  {
   "cell_type": "code",
   "execution_count": 33,
   "id": "461a6241",
   "metadata": {},
   "outputs": [
    {
     "data": {
      "text/plain": [
       "ContentFile(path=\"README.md\")"
      ]
     },
     "execution_count": 33,
     "metadata": {},
     "output_type": "execute_result"
    }
   ],
   "source": [
    "readme"
   ]
  },
  {
   "cell_type": "code",
   "execution_count": 34,
   "id": "e4df294f",
   "metadata": {},
   "outputs": [
    {
     "data": {
      "text/plain": [
       "b'# Web-Project-Templates\\nA template for creating websites with flask.\\n'"
      ]
     },
     "execution_count": 34,
     "metadata": {},
     "output_type": "execute_result"
    }
   ],
   "source": [
    "readme.decoded_content"
   ]
  },
  {
   "cell_type": "code",
   "execution_count": null,
   "id": "6fbb70bb",
   "metadata": {},
   "outputs": [],
   "source": []
  }
 ],
 "metadata": {
  "kernelspec": {
   "display_name": "Python 3 (ipykernel)",
   "language": "python",
   "name": "python3"
  },
  "language_info": {
   "codemirror_mode": {
    "name": "ipython",
    "version": 3
   },
   "file_extension": ".py",
   "mimetype": "text/x-python",
   "name": "python",
   "nbconvert_exporter": "python",
   "pygments_lexer": "ipython3",
   "version": "3.10.6"
  }
 },
 "nbformat": 4,
 "nbformat_minor": 5
}
